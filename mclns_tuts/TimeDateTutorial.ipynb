{
 "cells": [
  {
   "cell_type": "code",
   "execution_count": 2,
   "id": "c09de881",
   "metadata": {},
   "outputs": [],
   "source": [
    "import datetime\n",
    "import pytz\n",
    "\n"
   ]
  },
  {
   "cell_type": "code",
   "execution_count": 4,
   "id": "821d47e3",
   "metadata": {},
   "outputs": [
    {
     "data": {
      "text/plain": [
       "datetime.date(2001, 9, 11)"
      ]
     },
     "execution_count": 4,
     "metadata": {},
     "output_type": "execute_result"
    }
   ],
   "source": [
    "# Naive\n",
    "datetime.date(2001, 9, 11)\n",
    "\n"
   ]
  },
  {
   "cell_type": "code",
   "execution_count": 24,
   "id": "3ef9d636",
   "metadata": {},
   "outputs": [
    {
     "data": {
      "text/plain": [
       "datetime.datetime(2021, 7, 27, 12, 0)"
      ]
     },
     "execution_count": 24,
     "metadata": {},
     "output_type": "execute_result"
    }
   ],
   "source": [
    "current_year = datetime.date.today().year\n",
    "current_month = datetime.date.today().month\n",
    "current_day = datetime.date.today().day\n",
    "datetime.date.today()\n",
    "current_datetime = datetime.datetime(current_year, current_month, current_day, 12)\n",
    "\n",
    "Dias_de_la_semana = ['Lunes', 'Martes', 'Miercoles', 'Jueves', 'Viernes', 'Sabado', 'Domingo']\n",
    "tday = current_datetime.weekday()\n",
    "Dia_de_la_semana = Dias_de_la_semana[tday]\n",
    "\n",
    "Meses_del_Ano = ['', 'Enero', 'Febrero', 'Marzo', 'Abril', 'Mayo', 'Junio', 'Julio', 'Agosto', 'Septiembre',\n",
    "                     'Octubre', 'Noviembre', 'Diciembre']\n",
    "Mes_del_Ano = Meses_del_Ano[current_month]\n",
    "\n",
    "\n"
   ]
  },
  {
   "cell_type": "code",
   "execution_count": 20,
   "id": "a717f565",
   "metadata": {},
   "outputs": [
    {
     "data": {
      "text/plain": [
       "'Tuesday, July 27, 2021'"
      ]
     },
     "execution_count": 20,
     "metadata": {},
     "output_type": "execute_result"
    }
   ],
   "source": [
    "date = datetime.datetime(datetime.date.today().year, datetime.date.today().month, \n",
    "                                           datetime.date.today().day, 12)\n",
    "date.strftime(\"%A, %B %d, %Y\")"
   ]
  },
  {
   "cell_type": "code",
   "execution_count": null,
   "id": "6ed9903d",
   "metadata": {},
   "outputs": [],
   "source": [
    "# tday = weekday() - Monday is 0 and Sunday is 6\n",
    "# print(tday)\n",
    "\n",
    "# isoweekday() - Monday is 1 and Sunday is 7\n",
    "# print(tday)\n",
    "\n",
    "\n",
    "# datetime.timedelta(days=0, seconds=0, microseconds=0, milliseconds=0, minutes=0, hours=0, weeks=0)\n",
    "\n",
    "\n",
    "\n"
   ]
  },
  {
   "cell_type": "code",
   "execution_count": null,
   "id": "08b6b0a6",
   "metadata": {},
   "outputs": [],
   "source": [
    "tdelta = datetime.timedelta(hours=12)\n",
    "\n",
    "# print(tday + tdelta)\n",
    "\n",
    "# date2 = date1 + timedelta\n",
    "# timedelta = date1 + date2"
   ]
  },
  {
   "cell_type": "code",
   "execution_count": null,
   "id": "a49622ec",
   "metadata": {},
   "outputs": [],
   "source": [
    "bday = datetime.date(2016, 9, 24)\n",
    "\n",
    "till_bday = bday - tday\n",
    "\n",
    "# print(till_bday.days)\n",
    "\n",
    "t = datetime.time(9, 30, 45, 100000)\n",
    "\n",
    "# dt = datetime.datetime.today()\n",
    "# dtnow = datetime.datetime.now()\n",
    "# print(dir(datetime.datetime))\n",
    "# print(dt)\n",
    "# print(dtnow)\n",
    "\n",
    "dt = datetime.datetime(2016, 7, 24, 12, 30, 45, tzinfo=pytz.UTC)\n",
    "# print(dir(dt))\n",
    "\n",
    "dt_utcnow = datetime.datetime.now(tz=pytz.UTC)\n",
    "# print(dt_utcnow)\n",
    "\n",
    "dt_utcnow2 = datetime.datetime.utcnow().replace(tzinfo=pytz.UTC)\n",
    "# print(dt_utcnow2)\n",
    "\n",
    "# dt_mtn = dt_utcnow.astimezone(pytz.timezone('US/Mountain'))\n",
    "# print(dt_mtn)\n",
    "\n",
    "dt_mtn = datetime.datetime.now()\n",
    "\n",
    "mtn_tz = pytz.timezone('US/Mountain')\n",
    "dt_mtn = mtn_tz.localize(dt_mtn)\n",
    "\n",
    "# print(dt_mtn)\n",
    "\n",
    "dt_east = dt_mtn.astimezone(pytz.timezone('US/Eastern'))\n",
    "# print(dt_east)\n",
    "\n",
    "print(dt_mtn.strftime('%B %d, %Y'))\n",
    "\n",
    "dt_str = 'July 24, 2016'\n",
    "dt = datetime.datetime.strptime(dt_str, '%B %d, %Y')\n",
    "print(dt)\n",
    "\n",
    "# strftime - Datetime to String\n",
    "# strptime - String to Datetime"
   ]
  }
 ],
 "metadata": {
  "kernelspec": {
   "display_name": "Python 3",
   "language": "python",
   "name": "python3"
  },
  "language_info": {
   "codemirror_mode": {
    "name": "ipython",
    "version": 3
   },
   "file_extension": ".py",
   "mimetype": "text/x-python",
   "name": "python",
   "nbconvert_exporter": "python",
   "pygments_lexer": "ipython3",
   "version": "3.8.10"
  }
 },
 "nbformat": 4,
 "nbformat_minor": 5
}
