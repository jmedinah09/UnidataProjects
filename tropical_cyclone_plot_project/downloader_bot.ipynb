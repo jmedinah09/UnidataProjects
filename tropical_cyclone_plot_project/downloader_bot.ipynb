{
 "cells": [
  {
   "cell_type": "code",
   "execution_count": 5,
   "id": "305092aa",
   "metadata": {},
   "outputs": [],
   "source": [
    "import pandas\n",
    "import geopandas \n",
    "import matplotlib.pyplot as plt\n",
    "from   matplotlib.pyplot import imread\n",
    "import matplotlib.patches as mpatches\n",
    "import numpy as np\n",
    "import cartopy.crs as ccrs\n",
    "import cartopy.feature as cfeat\n",
    "#import cartopy.io.shapereader as shpreader\n",
    "from   cartopy.mpl.gridliner import LONGITUDE_FORMATTER, LATITUDE_FORMATTER\n",
    "\n",
    "import shapely.geometry as sgeom\n",
    "from   shapely.geometry import LineString\n",
    "from   shapely.geometry import MultiPoint\n",
    "from   shapely.geometry import Point, Polygon\n",
    "\n",
    "%matplotlib inline"
   ]
  },
  {
   "cell_type": "code",
   "execution_count": 6,
   "id": "075cbdef",
   "metadata": {},
   "outputs": [],
   "source": [
    "import urllib\n",
    "import requests\n",
    "from zipfile import ZipFile\n",
    "\n"
   ]
  },
  {
   "cell_type": "code",
   "execution_count": 7,
   "id": "0c15fd66",
   "metadata": {},
   "outputs": [],
   "source": [
    "url = 'https://www.nhc.noaa.gov/xgtwo/gtwo_shapefiles.zip'\n",
    " \n",
    "# download the file contents in binary format\n",
    "r = requests.get(url)\n",
    " \n",
    "# open method to open a file on your system and write the contents\n",
    "with open(\"nhc_latest/gtwo_shapefiles.zip\", \"wb\") as code:\n",
    "    code.write(r.content)"
   ]
  },
  {
   "cell_type": "code",
   "execution_count": 31,
   "id": "99811df8",
   "metadata": {},
   "outputs": [],
   "source": [
    "with ZipFile(\"nhc_latest/gtwo_shapefiles.zip\", 'r') as gtwo_zip:\n",
    "    #print(gtwo_zip.namelist())\n",
    "    gtwo_areas = gtwo_zip.namelist()[2]\n",
    "    gtwo_lines = gtwo_zip.namelist()[7]\n",
    "    gtwo_points = gtwo_zip.namelist()[12]"
   ]
  },
  {
   "cell_type": "code",
   "execution_count": 33,
   "id": "76d2a9a5",
   "metadata": {},
   "outputs": [],
   "source": [
    "gtwo_areas_gdf  = geopandas.read_file(f'zip://./nhc_latest/gtwo_shapefiles.zip!{gtwo_areas}')\n",
    "gtwo_lines_gdf  = geopandas.read_file(f'zip://./nhc_latest/gtwo_shapefiles.zip!{gtwo_lines}')\n",
    "gtwo_points_gdf = geopandas.read_file(f'zip://./nhc_latest/gtwo_shapefiles.zip!{gtwo_points}')"
   ]
  },
  {
   "cell_type": "code",
   "execution_count": null,
   "id": "65fd03f8",
   "metadata": {},
   "outputs": [],
   "source": []
  }
 ],
 "metadata": {
  "kernelspec": {
   "display_name": "Python 3 (ipykernel)",
   "language": "python",
   "name": "python3"
  },
  "language_info": {
   "codemirror_mode": {
    "name": "ipython",
    "version": 3
   },
   "file_extension": ".py",
   "mimetype": "text/x-python",
   "name": "python",
   "nbconvert_exporter": "python",
   "pygments_lexer": "ipython3",
   "version": "3.9.6"
  }
 },
 "nbformat": 4,
 "nbformat_minor": 5
}
