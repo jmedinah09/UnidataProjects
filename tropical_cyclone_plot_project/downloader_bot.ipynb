{
 "cells": [
  {
   "cell_type": "code",
   "execution_count": 1,
   "id": "305092aa",
   "metadata": {},
   "outputs": [],
   "source": [
    "import pandas\n",
    "import geopandas \n",
    "import feedparser\n",
    "import requests\n",
    "from   zipfile import ZipFile\n",
    "import datetime \n",
    "from   local_module import NhcDownloaderBot\n",
    "\n",
    "%matplotlib inline"
   ]
  },
  {
   "cell_type": "code",
   "execution_count": 2,
   "id": "b7e54fb6",
   "metadata": {
    "scrolled": true
   },
   "outputs": [],
   "source": [
    "url = 'https://www.nhc.noaa.gov/index-at.xml'\n",
    "f = feedparser.parse(url)"
   ]
  },
  {
   "cell_type": "code",
   "execution_count": 3,
   "id": "12457665",
   "metadata": {},
   "outputs": [],
   "source": [
    "#f\n",
    "#f.keys()\n",
    "# len(f.entries)\n",
    "# f['entries'][1]['nhc_atcf']\n",
    "# f.status\n",
    "# f.feed\n",
    "# f.feed['subtitle']\n",
    "# f.entries\n",
    "# type(f.entries)\n",
    "# for entry in f.entries:\n",
    "#     print(entry.title)"
   ]
  },
  {
   "cell_type": "code",
   "execution_count": 3,
   "id": "b444932f",
   "metadata": {},
   "outputs": [
    {
     "data": {
      "text/html": [
       "<div>\n",
       "<style scoped>\n",
       "    .dataframe tbody tr th:only-of-type {\n",
       "        vertical-align: middle;\n",
       "    }\n",
       "\n",
       "    .dataframe tbody tr th {\n",
       "        vertical-align: top;\n",
       "    }\n",
       "\n",
       "    .dataframe thead th {\n",
       "        text-align: right;\n",
       "    }\n",
       "</style>\n",
       "<table border=\"1\" class=\"dataframe\">\n",
       "  <thead>\n",
       "    <tr style=\"text-align: right;\">\n",
       "      <th></th>\n",
       "      <th>title</th>\n",
       "      <th>published</th>\n",
       "      <th>nhc_center</th>\n",
       "      <th>nhc_type</th>\n",
       "      <th>nhc_name</th>\n",
       "      <th>nhc_wallet</th>\n",
       "      <th>nhc_atcf</th>\n",
       "      <th>nhc_datetime</th>\n",
       "      <th>nhc_movement</th>\n",
       "      <th>nhc_pressure</th>\n",
       "      <th>nhc_wind</th>\n",
       "      <th>nhc_headline</th>\n",
       "      <th>nhc_cyclone</th>\n",
       "    </tr>\n",
       "  </thead>\n",
       "  <tbody>\n",
       "    <tr>\n",
       "      <th>0</th>\n",
       "      <td>Atlantic Tropical Weather Outlook</td>\n",
       "      <td>Wed, 08 Sep 2021 19:19:45 GMT</td>\n",
       "      <td>NaN</td>\n",
       "      <td>NaN</td>\n",
       "      <td>NaN</td>\n",
       "      <td>NaN</td>\n",
       "      <td>NaN</td>\n",
       "      <td>NaN</td>\n",
       "      <td>NaN</td>\n",
       "      <td>NaN</td>\n",
       "      <td>NaN</td>\n",
       "      <td>NaN</td>\n",
       "      <td>NaN</td>\n",
       "    </tr>\n",
       "    <tr>\n",
       "      <th>1</th>\n",
       "      <td>Summary for Hurricane Larry (AT2/AL122021)</td>\n",
       "      <td>Wed, 08 Sep 2021 20:46:16 GMT</td>\n",
       "      <td>28.9, -59.2</td>\n",
       "      <td>Hurricane</td>\n",
       "      <td>Larry</td>\n",
       "      <td>AT2</td>\n",
       "      <td>AL122021</td>\n",
       "      <td>5:00 PM AST Wed Sep 8</td>\n",
       "      <td>NW at 15 mph</td>\n",
       "      <td>966 mb</td>\n",
       "      <td>110 mph</td>\n",
       "      <td>...LARRY REMAINS LARGE AND POWERFUL...</td>\n",
       "      <td></td>\n",
       "    </tr>\n",
       "    <tr>\n",
       "      <th>2</th>\n",
       "      <td>Hurricane Larry Public Advisory Number 33</td>\n",
       "      <td>Wed, 08 Sep 2021 20:46:16 GMT</td>\n",
       "      <td>NaN</td>\n",
       "      <td>NaN</td>\n",
       "      <td>NaN</td>\n",
       "      <td>NaN</td>\n",
       "      <td>NaN</td>\n",
       "      <td>NaN</td>\n",
       "      <td>NaN</td>\n",
       "      <td>NaN</td>\n",
       "      <td>NaN</td>\n",
       "      <td>NaN</td>\n",
       "      <td>NaN</td>\n",
       "    </tr>\n",
       "    <tr>\n",
       "      <th>3</th>\n",
       "      <td>Hurricane Larry Forecast Advisory Number 33</td>\n",
       "      <td>Wed, 08 Sep 2021 20:45:44 GMT</td>\n",
       "      <td>NaN</td>\n",
       "      <td>NaN</td>\n",
       "      <td>NaN</td>\n",
       "      <td>NaN</td>\n",
       "      <td>NaN</td>\n",
       "      <td>NaN</td>\n",
       "      <td>NaN</td>\n",
       "      <td>NaN</td>\n",
       "      <td>NaN</td>\n",
       "      <td>NaN</td>\n",
       "      <td>NaN</td>\n",
       "    </tr>\n",
       "    <tr>\n",
       "      <th>4</th>\n",
       "      <td>Hurricane Larry Forecast Discussion Number 33</td>\n",
       "      <td>Wed, 08 Sep 2021 20:50:44 GMT</td>\n",
       "      <td>NaN</td>\n",
       "      <td>NaN</td>\n",
       "      <td>NaN</td>\n",
       "      <td>NaN</td>\n",
       "      <td>NaN</td>\n",
       "      <td>NaN</td>\n",
       "      <td>NaN</td>\n",
       "      <td>NaN</td>\n",
       "      <td>NaN</td>\n",
       "      <td>NaN</td>\n",
       "      <td>NaN</td>\n",
       "    </tr>\n",
       "  </tbody>\n",
       "</table>\n",
       "</div>"
      ],
      "text/plain": [
       "                                           title  \\\n",
       "0              Atlantic Tropical Weather Outlook   \n",
       "1     Summary for Hurricane Larry (AT2/AL122021)   \n",
       "2      Hurricane Larry Public Advisory Number 33   \n",
       "3    Hurricane Larry Forecast Advisory Number 33   \n",
       "4  Hurricane Larry Forecast Discussion Number 33   \n",
       "\n",
       "                       published   nhc_center   nhc_type nhc_name nhc_wallet  \\\n",
       "0  Wed, 08 Sep 2021 19:19:45 GMT          NaN        NaN      NaN        NaN   \n",
       "1  Wed, 08 Sep 2021 20:46:16 GMT  28.9, -59.2  Hurricane    Larry        AT2   \n",
       "2  Wed, 08 Sep 2021 20:46:16 GMT          NaN        NaN      NaN        NaN   \n",
       "3  Wed, 08 Sep 2021 20:45:44 GMT          NaN        NaN      NaN        NaN   \n",
       "4  Wed, 08 Sep 2021 20:50:44 GMT          NaN        NaN      NaN        NaN   \n",
       "\n",
       "   nhc_atcf           nhc_datetime  nhc_movement nhc_pressure nhc_wind  \\\n",
       "0       NaN                    NaN           NaN          NaN      NaN   \n",
       "1  AL122021  5:00 PM AST Wed Sep 8  NW at 15 mph       966 mb  110 mph   \n",
       "2       NaN                    NaN           NaN          NaN      NaN   \n",
       "3       NaN                    NaN           NaN          NaN      NaN   \n",
       "4       NaN                    NaN           NaN          NaN      NaN   \n",
       "\n",
       "                             nhc_headline nhc_cyclone  \n",
       "0                                     NaN         NaN  \n",
       "1  ...LARRY REMAINS LARGE AND POWERFUL...              \n",
       "2                                     NaN         NaN  \n",
       "3                                     NaN         NaN  \n",
       "4                                     NaN         NaN  "
      ]
     },
     "execution_count": 3,
     "metadata": {},
     "output_type": "execute_result"
    }
   ],
   "source": [
    "df = pandas.DataFrame(f.entries)\n",
    "df = df.drop(columns=['title_detail', 'summary', 'summary_detail', 'published_parsed', 'links', 'link', 'id', \n",
    "                 'guidislink', 'authors', 'author', 'author_detail'])\n",
    "df.head()"
   ]
  },
  {
   "cell_type": "code",
   "execution_count": 4,
   "id": "a8fd7736",
   "metadata": {},
   "outputs": [
    {
     "data": {
      "text/plain": [
       "['12', '13']"
      ]
     },
     "execution_count": 4,
     "metadata": {},
     "output_type": "execute_result"
    }
   ],
   "source": [
    "tc_list = [nhc_atcf[2:4] for nhc_atcf in df['nhc_atcf'] if pandas.isnull(nhc_atcf) == False] \n",
    "tc_list"
   ]
  },
  {
   "cell_type": "code",
   "execution_count": 5,
   "id": "478cc3e1",
   "metadata": {},
   "outputs": [
    {
     "data": {
      "text/plain": [
       "{'Larry': ['AL122021',\n",
       "  'Hurricane',\n",
       "  '28.9, -59.2',\n",
       "  'NW at 15 mph',\n",
       "  '966 mb',\n",
       "  '110 mph',\n",
       "  'Wed, 08 Sep 2021 20:46:16 GMT',\n",
       "  '5:00 PM AST Wed Sep 8'],\n",
       " 'Mindy': ['AL132021',\n",
       "  'Tropical Storm',\n",
       "  '29.2, -86.1',\n",
       "  'NE at 21 mph',\n",
       "  '1004 mb',\n",
       "  '45 mph',\n",
       "  'Wed, 08 Sep 2021 22:01:44 GMT',\n",
       "  '5:00 PM CDT Wed Sep 8']}"
      ]
     },
     "execution_count": 5,
     "metadata": {},
     "output_type": "execute_result"
    }
   ],
   "source": [
    "#{key: value for (key, value) in iterable}\n",
    "d = {nhc_name: [nhc_atcf    , nhc_type, nhc_center, nhc_movement, \n",
    "                nhc_pressure, nhc_wind, published , nhc_datetime]         \n",
    "     for (nhc_name    , nhc_atcf, nhc_type  , nhc_center  , nhc_movement,\n",
    "          nhc_pressure, nhc_wind, published , nhc_datetime) \n",
    "     in  zip(df['nhc_name']    , df['nhc_atcf']    , df['nhc_type'], df['nhc_center'], \n",
    "             df['nhc_movement'], df['nhc_pressure'], df['nhc_wind'], df['published'],\n",
    "             df['nhc_datetime']) \n",
    "     if pandas.isnull(nhc_name) == False}   \n",
    "d"
   ]
  },
  {
   "cell_type": "code",
   "execution_count": 10,
   "id": "a80129ad",
   "metadata": {},
   "outputs": [
    {
     "ename": "IndexError",
     "evalue": "list index out of range",
     "output_type": "error",
     "traceback": [
      "\u001b[0;31m---------------------------------------------------------------------------\u001b[0m",
      "\u001b[0;31mIndexError\u001b[0m                                Traceback (most recent call last)",
      "\u001b[0;32m/tmp/ipykernel_16529/4175069515.py\u001b[0m in \u001b[0;36m<module>\u001b[0;34m\u001b[0m\n\u001b[0;32m----> 1\u001b[0;31m \u001b[0mNhcDownloaderBot\u001b[0m\u001b[0;34m.\u001b[0m\u001b[0mgdf_file\u001b[0m\u001b[0;34m(\u001b[0m\u001b[0;36m13\u001b[0m\u001b[0;34m,\u001b[0m \u001b[0;36m2021\u001b[0m\u001b[0;34m)\u001b[0m\u001b[0;34m\u001b[0m\u001b[0;34m\u001b[0m\u001b[0m\n\u001b[0m",
      "\u001b[0;32m~/Desktop/PythonStuffs/clone_repo/tropical_cyclone_plot_project/local_module.py\u001b[0m in \u001b[0;36mgdf_file\u001b[0;34m(cls, storm_number, year)\u001b[0m\n\u001b[1;32m     78\u001b[0m     \u001b[0;32mdef\u001b[0m \u001b[0mgdf_file\u001b[0m\u001b[0;34m(\u001b[0m\u001b[0mcls\u001b[0m\u001b[0;34m,\u001b[0m \u001b[0mstorm_number\u001b[0m\u001b[0;34m,\u001b[0m \u001b[0myear\u001b[0m\u001b[0;34m)\u001b[0m\u001b[0;34m:\u001b[0m\u001b[0;34m\u001b[0m\u001b[0;34m\u001b[0m\u001b[0m\n\u001b[1;32m     79\u001b[0m         \u001b[0m_\u001b[0m \u001b[0;34m=\u001b[0m \u001b[0mNhcDownloaderBot\u001b[0m\u001b[0;34m(\u001b[0m\u001b[0mstorm_number\u001b[0m\u001b[0;34m,\u001b[0m \u001b[0myear\u001b[0m\u001b[0;34m)\u001b[0m\u001b[0;34m\u001b[0m\u001b[0;34m\u001b[0m\u001b[0m\n\u001b[0;32m---> 80\u001b[0;31m         \u001b[0mcls\u001b[0m\u001b[0;34m.\u001b[0m\u001b[0mtrack_line_gdf\u001b[0m        \u001b[0;34m=\u001b[0m \u001b[0m_\u001b[0m\u001b[0;34m.\u001b[0m\u001b[0mnhc_gis_downloader\u001b[0m\u001b[0;34m(\u001b[0m\u001b[0m_\u001b[0m\u001b[0;34m.\u001b[0m\u001b[0mfile_names\u001b[0m\u001b[0;34m,\u001b[0m \u001b[0m_\u001b[0m\u001b[0;34m.\u001b[0m\u001b[0murls\u001b[0m\u001b[0;34m,\u001b[0m \u001b[0m_\u001b[0m\u001b[0;34m.\u001b[0m\u001b[0mgdf_names\u001b[0m\u001b[0;34m)\u001b[0m\u001b[0;34m[\u001b[0m\u001b[0m_\u001b[0m\u001b[0;34m.\u001b[0m\u001b[0mfile_names\u001b[0m\u001b[0;34m[\u001b[0m\u001b[0;36m0\u001b[0m\u001b[0;34m]\u001b[0m\u001b[0;34m]\u001b[0m\u001b[0;34m[\u001b[0m\u001b[0;36m0\u001b[0m\u001b[0;34m]\u001b[0m\u001b[0;34m\u001b[0m\u001b[0;34m\u001b[0m\u001b[0m\n\u001b[0m\u001b[1;32m     81\u001b[0m         \u001b[0mcls\u001b[0m\u001b[0;34m.\u001b[0m\u001b[0mcone_gdf\u001b[0m              \u001b[0;34m=\u001b[0m \u001b[0m_\u001b[0m\u001b[0;34m.\u001b[0m\u001b[0mnhc_gis_downloader\u001b[0m\u001b[0;34m(\u001b[0m\u001b[0m_\u001b[0m\u001b[0;34m.\u001b[0m\u001b[0mfile_names\u001b[0m\u001b[0;34m,\u001b[0m \u001b[0m_\u001b[0m\u001b[0;34m.\u001b[0m\u001b[0murls\u001b[0m\u001b[0;34m,\u001b[0m \u001b[0m_\u001b[0m\u001b[0;34m.\u001b[0m\u001b[0mgdf_names\u001b[0m\u001b[0;34m)\u001b[0m\u001b[0;34m[\u001b[0m\u001b[0m_\u001b[0m\u001b[0;34m.\u001b[0m\u001b[0mfile_names\u001b[0m\u001b[0;34m[\u001b[0m\u001b[0;36m0\u001b[0m\u001b[0;34m]\u001b[0m\u001b[0;34m]\u001b[0m\u001b[0;34m[\u001b[0m\u001b[0;36m1\u001b[0m\u001b[0;34m]\u001b[0m\u001b[0;34m\u001b[0m\u001b[0;34m\u001b[0m\u001b[0m\n\u001b[1;32m     82\u001b[0m         \u001b[0mcls\u001b[0m\u001b[0;34m.\u001b[0m\u001b[0mpoints_gdf\u001b[0m            \u001b[0;34m=\u001b[0m \u001b[0m_\u001b[0m\u001b[0;34m.\u001b[0m\u001b[0mnhc_gis_downloader\u001b[0m\u001b[0;34m(\u001b[0m\u001b[0m_\u001b[0m\u001b[0;34m.\u001b[0m\u001b[0mfile_names\u001b[0m\u001b[0;34m,\u001b[0m \u001b[0m_\u001b[0m\u001b[0;34m.\u001b[0m\u001b[0murls\u001b[0m\u001b[0;34m,\u001b[0m \u001b[0m_\u001b[0m\u001b[0;34m.\u001b[0m\u001b[0mgdf_names\u001b[0m\u001b[0;34m)\u001b[0m\u001b[0;34m[\u001b[0m\u001b[0m_\u001b[0m\u001b[0;34m.\u001b[0m\u001b[0mfile_names\u001b[0m\u001b[0;34m[\u001b[0m\u001b[0;36m0\u001b[0m\u001b[0;34m]\u001b[0m\u001b[0;34m]\u001b[0m\u001b[0;34m[\u001b[0m\u001b[0;36m2\u001b[0m\u001b[0;34m]\u001b[0m\u001b[0;34m\u001b[0m\u001b[0;34m\u001b[0m\u001b[0m\n",
      "\u001b[0;32m~/Desktop/PythonStuffs/clone_repo/tropical_cyclone_plot_project/local_module.py\u001b[0m in \u001b[0;36mnhc_gis_downloader\u001b[0;34m(self, file_names, urls, gdf_names)\u001b[0m\n\u001b[1;32m     53\u001b[0m             \u001b[0;32mfor\u001b[0m \u001b[0midx\u001b[0m \u001b[0;32min\u001b[0m \u001b[0mrange\u001b[0m\u001b[0;34m(\u001b[0m\u001b[0;36m4\u001b[0m\u001b[0;34m)\u001b[0m\u001b[0;34m:\u001b[0m\u001b[0;34m\u001b[0m\u001b[0;34m\u001b[0m\u001b[0m\n\u001b[1;32m     54\u001b[0m                 gdf_names[file_names[2]][idx]  = geopandas.read_file(\n\u001b[0;32m---> 55\u001b[0;31m                 f'zip://./nhc_latest/{file_names[2]}!{zip_file_name.namelist()[_[idx]]}')\n\u001b[0m\u001b[1;32m     56\u001b[0m         \u001b[0;32mreturn\u001b[0m \u001b[0mgdf_names\u001b[0m\u001b[0;34m\u001b[0m\u001b[0;34m\u001b[0m\u001b[0m\n\u001b[1;32m     57\u001b[0m \u001b[0;34m\u001b[0m\u001b[0m\n",
      "\u001b[0;31mIndexError\u001b[0m: list index out of range"
     ]
    }
   ],
   "source": [
    "NhcDownloaderBot.gdf_file(13, 2021)"
   ]
  },
  {
   "cell_type": "code",
   "execution_count": null,
   "id": "275799ab",
   "metadata": {},
   "outputs": [],
   "source": [
    "NhcDownloaderBot.init_radii_gdf"
   ]
  },
  {
   "cell_type": "code",
   "execution_count": 9,
   "id": "13ca58a3",
   "metadata": {},
   "outputs": [
    {
     "name": "stdout",
     "output_type": "stream",
     "text": [
      "12\n",
      "13\n"
     ]
    }
   ],
   "source": [
    "for tc in tc_list:\n",
    "    NhcDownloaderBot.gdf_file(tc, 2021)\n",
    "    NhcDownloaderBot.init_radii_gdf\n",
    "    "
   ]
  },
  {
   "cell_type": "code",
   "execution_count": null,
   "id": "b5cbe6b6",
   "metadata": {},
   "outputs": [],
   "source": []
  }
 ],
 "metadata": {
  "kernelspec": {
   "display_name": "Python 3 (ipykernel)",
   "language": "python",
   "name": "python3"
  },
  "language_info": {
   "codemirror_mode": {
    "name": "ipython",
    "version": 3
   },
   "file_extension": ".py",
   "mimetype": "text/x-python",
   "name": "python",
   "nbconvert_exporter": "python",
   "pygments_lexer": "ipython3",
   "version": "3.9.6"
  }
 },
 "nbformat": 4,
 "nbformat_minor": 5
}
