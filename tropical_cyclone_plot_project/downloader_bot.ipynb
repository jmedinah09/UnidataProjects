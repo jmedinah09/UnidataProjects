{
 "cells": [
  {
   "cell_type": "code",
   "execution_count": 1,
   "id": "305092aa",
   "metadata": {},
   "outputs": [],
   "source": [
    "import pandas\n",
    "import geopandas \n",
    "import matplotlib.pyplot as plt\n",
    "from   matplotlib.pyplot import imread\n",
    "import matplotlib.patches as mpatches\n",
    "import numpy as np\n",
    "import cartopy.crs as ccrs\n",
    "import cartopy.feature as cfeat\n",
    "#import cartopy.io.shapereader as shpreader\n",
    "from   cartopy.mpl.gridliner import LONGITUDE_FORMATTER, LATITUDE_FORMATTER\n",
    "\n",
    "import shapely.geometry as sgeom\n",
    "from   shapely.geometry import LineString\n",
    "from   shapely.geometry import MultiPoint\n",
    "from   shapely.geometry import Point, Polygon\n",
    "\n",
    "%matplotlib inline"
   ]
  },
  {
   "cell_type": "code",
   "execution_count": 8,
   "id": "075cbdef",
   "metadata": {},
   "outputs": [],
   "source": [
    "import urllib\n",
    "import requests\n",
    "from zipfile import ZipFile\n",
    "import datetime \n",
    "\n"
   ]
  },
  {
   "cell_type": "code",
   "execution_count": 41,
   "id": "0c15fd66",
   "metadata": {},
   "outputs": [],
   "source": [
    "file_name = 'gtwo_shapefiles.zip'\n",
    "url = f'https://www.nhc.noaa.gov/xgtwo/{file_name}'\n",
    " \n",
    "# download the file contents in binary format\n",
    "r = requests.get(url)\n",
    " \n",
    "# open method to open a file on your system and write the contents\n",
    "with open(f'nhc_latest/{file_name}', 'wb') as code:\n",
    "    code.write(r.content)"
   ]
  },
  {
   "cell_type": "code",
   "execution_count": 42,
   "id": "99811df8",
   "metadata": {},
   "outputs": [],
   "source": [
    "with ZipFile(f'nhc_latest/{file_name}', 'r') as gtwo_zip:\n",
    "    #print(gtwo_zip.namelist())\n",
    "    gtwo_areas = gtwo_zip.namelist()[2]\n",
    "    gtwo_lines = gtwo_zip.namelist()[7]\n",
    "    gtwo_points = gtwo_zip.namelist()[12]"
   ]
  },
  {
   "cell_type": "code",
   "execution_count": 45,
   "id": "76d2a9a5",
   "metadata": {},
   "outputs": [],
   "source": [
    "gtwo_areas_gdf  = geopandas.read_file(f'zip://./nhc_latest/{file_name}!{gtwo_areas}')\n",
    "gtwo_lines_gdf  = geopandas.read_file(f'zip://./nhc_latest/{file_name}!{gtwo_lines}')\n",
    "gtwo_points_gdf = geopandas.read_file(f'zip://./nhc_latest/{file_name}!{gtwo_points}')"
   ]
  },
  {
   "cell_type": "code",
   "execution_count": 48,
   "id": "65fd03f8",
   "metadata": {},
   "outputs": [
    {
     "data": {
      "text/html": [
       "<div>\n",
       "<style scoped>\n",
       "    .dataframe tbody tr th:only-of-type {\n",
       "        vertical-align: middle;\n",
       "    }\n",
       "\n",
       "    .dataframe tbody tr th {\n",
       "        vertical-align: top;\n",
       "    }\n",
       "\n",
       "    .dataframe thead th {\n",
       "        text-align: right;\n",
       "    }\n",
       "</style>\n",
       "<table border=\"1\" class=\"dataframe\">\n",
       "  <thead>\n",
       "    <tr style=\"text-align: right;\">\n",
       "      <th></th>\n",
       "      <th>BASIN</th>\n",
       "      <th>AREA</th>\n",
       "      <th>PROB2DAY</th>\n",
       "      <th>RISK2DAY</th>\n",
       "      <th>PROB5DAY</th>\n",
       "      <th>RISK5DAY</th>\n",
       "      <th>geometry</th>\n",
       "    </tr>\n",
       "  </thead>\n",
       "  <tbody>\n",
       "    <tr>\n",
       "      <th>0</th>\n",
       "      <td>Atlantic</td>\n",
       "      <td>1</td>\n",
       "      <td>20%</td>\n",
       "      <td>Low</td>\n",
       "      <td>20%</td>\n",
       "      <td>Low</td>\n",
       "      <td>POINT (-77.64000 12.09000)</td>\n",
       "    </tr>\n",
       "  </tbody>\n",
       "</table>\n",
       "</div>"
      ],
      "text/plain": [
       "      BASIN AREA PROB2DAY RISK2DAY PROB5DAY RISK5DAY  \\\n",
       "0  Atlantic    1      20%      Low      20%      Low   \n",
       "\n",
       "                     geometry  \n",
       "0  POINT (-77.64000 12.09000)  "
      ]
     },
     "execution_count": 48,
     "metadata": {},
     "output_type": "execute_result"
    }
   ],
   "source": [
    "gtwo_points_gdf"
   ]
  },
  {
   "cell_type": "code",
   "execution_count": 49,
   "id": "694f7c6b",
   "metadata": {},
   "outputs": [],
   "source": [
    "current_year = datetime.date.today().year\n",
    "storm_number = '12'\n",
    "file_name    = f'al{storm_number}{current_year}_5day_latest.zip'\n",
    "#ex.: https://www.nhc.noaa.gov/gis/forecast/archive/al122021_5day_latest.zip\n",
    "url       = f'https://www.nhc.noaa.gov/gis/forecast/archive/{file_name}'\n",
    " \n",
    "# download the file contents in binary format\n",
    "r = requests.get(url)\n",
    " \n",
    "# open method to open a file on your system and write the contents\n",
    "with open(f'nhc_latest/{file_name}', 'wb') as code:\n",
    "    code.write(r.content)"
   ]
  },
  {
   "cell_type": "code",
   "execution_count": 60,
   "id": "e3b5bf88",
   "metadata": {},
   "outputs": [
    {
     "name": "stdout",
     "output_type": "stream",
     "text": [
      "['al122021-002_5day_lin.dbf', 'al122021-002_5day_lin.prj', 'al122021-002_5day_lin.shp', 'al122021-002_5day_lin.shp.xml', 'al122021-002_5day_lin.shx', 'al122021-002_5day_pgn.dbf', 'al122021-002_5day_pgn.prj', 'al122021-002_5day_pgn.shp', 'al122021-002_5day_pgn.shp.xml', 'al122021-002_5day_pgn.shx', 'al122021-002_5day_pts.dbf', 'al122021-002_5day_pts.prj', 'al122021-002_5day_pts.shp', 'al122021-002_5day_pts.shp.xml', 'al122021-002_5day_pts.shx']\n"
     ]
    }
   ],
   "source": [
    "with ZipFile(f'nhc_latest/{file_name}', 'r') as aft_cu_zip:\n",
    "    #print(aft_cu_zip.namelist())\n",
    "    track_line  = aft_cu_zip.namelist()[2]\n",
    "    cone        = aft_cu_zip.namelist()[7]\n",
    "    points      = aft_cu_zip.namelist()[12]\n",
    "    \n",
    "track_line_gdf  = geopandas.read_file(f'zip://./nhc_latest/{file_name}!{track_line}')\n",
    "cone_gdf        = geopandas.read_file(f'zip://./nhc_latest/{file_name}!{cone}')\n",
    "points_gdf      = geopandas.read_file(f'zip://./nhc_latest/{file_name}!{points}')"
   ]
  },
  {
   "cell_type": "code",
   "execution_count": 61,
   "id": "567ebeaf",
   "metadata": {},
   "outputs": [
    {
     "data": {
      "text/html": [
       "<div>\n",
       "<style scoped>\n",
       "    .dataframe tbody tr th:only-of-type {\n",
       "        vertical-align: middle;\n",
       "    }\n",
       "\n",
       "    .dataframe tbody tr th {\n",
       "        vertical-align: top;\n",
       "    }\n",
       "\n",
       "    .dataframe thead th {\n",
       "        text-align: right;\n",
       "    }\n",
       "</style>\n",
       "<table border=\"1\" class=\"dataframe\">\n",
       "  <thead>\n",
       "    <tr style=\"text-align: right;\">\n",
       "      <th></th>\n",
       "      <th>STORMNAME</th>\n",
       "      <th>STORMTYPE</th>\n",
       "      <th>ADVDATE</th>\n",
       "      <th>ADVISNUM</th>\n",
       "      <th>STORMNUM</th>\n",
       "      <th>FCSTPRD</th>\n",
       "      <th>BASIN</th>\n",
       "      <th>geometry</th>\n",
       "    </tr>\n",
       "  </thead>\n",
       "  <tbody>\n",
       "    <tr>\n",
       "      <th>0</th>\n",
       "      <td>Twelve</td>\n",
       "      <td>TD</td>\n",
       "      <td>200 AM CVT Wed Sep 01 2021</td>\n",
       "      <td>2</td>\n",
       "      <td>12.0</td>\n",
       "      <td>120.0</td>\n",
       "      <td>AL</td>\n",
       "      <td>POLYGON ((-23.42385 11.85572, -23.39655 11.852...</td>\n",
       "    </tr>\n",
       "  </tbody>\n",
       "</table>\n",
       "</div>"
      ],
      "text/plain": [
       "  STORMNAME STORMTYPE                     ADVDATE ADVISNUM  STORMNUM  FCSTPRD  \\\n",
       "0    Twelve        TD  200 AM CVT Wed Sep 01 2021        2      12.0    120.0   \n",
       "\n",
       "  BASIN                                           geometry  \n",
       "0    AL  POLYGON ((-23.42385 11.85572, -23.39655 11.852...  "
      ]
     },
     "execution_count": 61,
     "metadata": {},
     "output_type": "execute_result"
    }
   ],
   "source": [
    "cone_gdf"
   ]
  },
  {
   "cell_type": "code",
   "execution_count": 62,
   "id": "7343ed59",
   "metadata": {},
   "outputs": [],
   "source": [
    "Advisory_Forecast_Track_Cone_of_Uncertainty_and_Watches_Warnings = 'https://www.nhc.noaa.gov/gis/forecast/archive/al122021_5day_latest.zip'\n",
    "Advisory_Wind_Field_and_Forecast_Wind_Radii                      = 'https://www.nhc.noaa.gov/gis/forecast/archive/al122021_fcst_latest.zip'\n",
    "Preliminary_Best_Track                                           = 'https://www.nhc.noaa.gov/gis/best_track/al122021_best_track.zip'\n",
    "Graphical_Tropical_Weather_Outlook                               = 'https://www.nhc.noaa.gov/xgtwo/gtwo_shapefiles.zip'\n",
    "Wind_Speed_Probabilities_Points                                  = 'https://www.nhc.noaa.gov/gis/forecast/archive/wsp_120hrhalfDeg_latest.zip'\n",
    "Wind_Speed_Probabilities_Polygons                                = 'https://www.nhc.noaa.gov/gis/forecast/archive/wsp_120hr5km_latest.zip'\n"
   ]
  },
  {
   "cell_type": "code",
   "execution_count": null,
   "id": "c3cf6577",
   "metadata": {},
   "outputs": [],
   "source": []
  }
 ],
 "metadata": {
  "kernelspec": {
   "display_name": "Python 3 (ipykernel)",
   "language": "python",
   "name": "python3"
  },
  "language_info": {
   "codemirror_mode": {
    "name": "ipython",
    "version": 3
   },
   "file_extension": ".py",
   "mimetype": "text/x-python",
   "name": "python",
   "nbconvert_exporter": "python",
   "pygments_lexer": "ipython3",
   "version": "3.9.6"
  }
 },
 "nbformat": 4,
 "nbformat_minor": 5
}
