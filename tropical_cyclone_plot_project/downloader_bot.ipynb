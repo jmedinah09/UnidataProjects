{
 "cells": [
  {
   "cell_type": "code",
   "execution_count": 1,
   "id": "305092aa",
   "metadata": {},
   "outputs": [],
   "source": [
    "import pandas\n",
    "import geopandas \n",
    "import feedparser\n",
    "import requests\n",
    "from   zipfile import ZipFile\n",
    "import datetime \n",
    "from   local_module import NhcDownloaderBot\n",
    "\n",
    "%matplotlib inline"
   ]
  },
  {
   "cell_type": "code",
   "execution_count": 5,
   "id": "b7e54fb6",
   "metadata": {
    "scrolled": true
   },
   "outputs": [
    {
     "data": {
      "text/plain": [
       "{'bozo': False,\n",
       " 'entries': [{'title': 'Atlantic Tropical Weather Outlook',\n",
       "   'title_detail': {'type': 'text/plain',\n",
       "    'language': None,\n",
       "    'base': 'https://www.nhc.noaa.gov/index-at.xml',\n",
       "    'value': 'Atlantic Tropical Weather Outlook'},\n",
       "   'summary': '<br />\\n000<br />\\nABNT20 KNHC 120005 CCA<br />\\nTWOAT <br />\\n<br />\\nTropical Weather Outlook...Corrected<br />\\nNWS National Hurricane Center Miami FL<br />\\n800 PM EDT Sat Sep 11 2021<br />\\n<br />\\nCorrected to change the order of the system northeast of the Azores.<br />\\n<br />\\nFor the North Atlantic...Caribbean Sea and the Gulf of Mexico:<br />\\n<br />\\nA tropical wave and an upper-level trough continue to produce a <br />\\nlarge area of disorganized showers and thunderstorms over portions <br />\\nof southeastern Mexico and the southern and central Gulf of Mexico. <br />\\nUpper-level winds are gradually becoming more conducive for <br />\\ndevelopment, and a tropical depression is likely to form on Sunday <br />\\nor Monday while the disturbance moves northwestward and then <br />\\nnorthward near the coast of northeastern Mexico.  Additional <br />\\ndevelopment will be possible through the middle of next week if the <br />\\nsystem remains over water, and interests along the western and <br />\\nnorthwestern Gulf coast should monitor the progress of this system.  <br />\\nAn Air Force Hurricane Hunter aircraft is scheduled to investigate <br />\\nthe system tomorrow, if necessary.<br />\\n<br />\\nRegardless of development, this disturbance will continue to produce <br />\\nheavy rain across portions of southern Mexico, including the western <br />\\nYucatan Peninsula, through tonight which may lead to flash flooding <br />\\nand mudslides. By late Sunday, heavy rain is expected to reach <br />\\nportions of the Texas and Louisiana coasts with a heavy rain threat <br />\\nthen continuing across those coasts through the middle of next week. <br />\\nLocalized significant rainfall amounts are possible, potentially <br />\\nresulting in areas of flash, urban, and isolated river flooding.<br />\\n* Formation chance through 48 hours...high...90 percent.<br />\\n* Formation chance through 5 days...high...90 percent.<br />\\n<br />\\nShowers and thunderstorms remain poorly organized in association <br />\\nwith a tropical wave located near the Cabo Verde Islands. <br />\\nEnvironmental conditions are currently conducive for development, <br />\\nand a tropical depression could still form this weekend or early <br />\\nnext week while the system moves westward over the far eastern <br />\\nAtlantic. By the middle of next week, stronger upper-level winds and <br />\\nmarginally warm ocean temperatures are expected to limit additional <br />\\ndevelopment. Regardless of development, this disturbance is likely <br />\\nto bring gusty winds and locally heavy rain across the Cabo Verde <br />\\nIslands tonight.<br />\\n* Formation chance through 48 hours...medium...50 percent. <br />\\n* Formation chance through 5 days...medium...50 percent.<br />\\n<br />\\nA non-tropical area of low pressure is located over the far <br />\\nnortheastern Atlantic several hundred miles northeast of the <br />\\nAzores. This system is forecast to move south-southeastward towards <br />\\nwarmer waters, which could allow the low to gradually acquire some <br />\\ntropical or subtropical characteristics by the middle of next week.<br />\\n* Formation chance through 48 hours...low...10 percent.<br />\\n* Formation chance through 5 days...low...20 percent.<br />\\n<br />\\nAnother tropical wave is expected to move off the west coast of <br />\\nAfrica in a few days. Gradual development of this system is possible <br />\\nthereafter, and a tropical depression could from by the middle of <br />\\nnext week while it moves westward across the eastern tropical <br />\\nAtlantic Ocean.<br />\\n* Formation chance through 48 hours...low...near 0 percent.<br />\\n* Formation chance through 5 days...medium...40 percent.<br />\\n<br />\\nAn area of low pressure is expected to form near the southeastern <br />\\nBahamas in a few days resulting from moisture by a tropical wave <br />\\ninteracting with an upper-level trough. Gradual development of this <br />\\nsystem is possible thereafter as it moves northwestward across the <br />\\nwestern Atlantic.<br />\\n* Formation chance through 48 hours...low...near 0 percent.<br />\\n* Formation chance through 5 days...low...30 percent.<br />\\n<br />\\n$$<br />\\nForecaster Papin<br />',\n",
       "   'summary_detail': {'type': 'text/html',\n",
       "    'language': None,\n",
       "    'base': 'https://www.nhc.noaa.gov/index-at.xml',\n",
       "    'value': '<br />\\n000<br />\\nABNT20 KNHC 120005 CCA<br />\\nTWOAT <br />\\n<br />\\nTropical Weather Outlook...Corrected<br />\\nNWS National Hurricane Center Miami FL<br />\\n800 PM EDT Sat Sep 11 2021<br />\\n<br />\\nCorrected to change the order of the system northeast of the Azores.<br />\\n<br />\\nFor the North Atlantic...Caribbean Sea and the Gulf of Mexico:<br />\\n<br />\\nA tropical wave and an upper-level trough continue to produce a <br />\\nlarge area of disorganized showers and thunderstorms over portions <br />\\nof southeastern Mexico and the southern and central Gulf of Mexico. <br />\\nUpper-level winds are gradually becoming more conducive for <br />\\ndevelopment, and a tropical depression is likely to form on Sunday <br />\\nor Monday while the disturbance moves northwestward and then <br />\\nnorthward near the coast of northeastern Mexico.  Additional <br />\\ndevelopment will be possible through the middle of next week if the <br />\\nsystem remains over water, and interests along the western and <br />\\nnorthwestern Gulf coast should monitor the progress of this system.  <br />\\nAn Air Force Hurricane Hunter aircraft is scheduled to investigate <br />\\nthe system tomorrow, if necessary.<br />\\n<br />\\nRegardless of development, this disturbance will continue to produce <br />\\nheavy rain across portions of southern Mexico, including the western <br />\\nYucatan Peninsula, through tonight which may lead to flash flooding <br />\\nand mudslides. By late Sunday, heavy rain is expected to reach <br />\\nportions of the Texas and Louisiana coasts with a heavy rain threat <br />\\nthen continuing across those coasts through the middle of next week. <br />\\nLocalized significant rainfall amounts are possible, potentially <br />\\nresulting in areas of flash, urban, and isolated river flooding.<br />\\n* Formation chance through 48 hours...high...90 percent.<br />\\n* Formation chance through 5 days...high...90 percent.<br />\\n<br />\\nShowers and thunderstorms remain poorly organized in association <br />\\nwith a tropical wave located near the Cabo Verde Islands. <br />\\nEnvironmental conditions are currently conducive for development, <br />\\nand a tropical depression could still form this weekend or early <br />\\nnext week while the system moves westward over the far eastern <br />\\nAtlantic. By the middle of next week, stronger upper-level winds and <br />\\nmarginally warm ocean temperatures are expected to limit additional <br />\\ndevelopment. Regardless of development, this disturbance is likely <br />\\nto bring gusty winds and locally heavy rain across the Cabo Verde <br />\\nIslands tonight.<br />\\n* Formation chance through 48 hours...medium...50 percent. <br />\\n* Formation chance through 5 days...medium...50 percent.<br />\\n<br />\\nA non-tropical area of low pressure is located over the far <br />\\nnortheastern Atlantic several hundred miles northeast of the <br />\\nAzores. This system is forecast to move south-southeastward towards <br />\\nwarmer waters, which could allow the low to gradually acquire some <br />\\ntropical or subtropical characteristics by the middle of next week.<br />\\n* Formation chance through 48 hours...low...10 percent.<br />\\n* Formation chance through 5 days...low...20 percent.<br />\\n<br />\\nAnother tropical wave is expected to move off the west coast of <br />\\nAfrica in a few days. Gradual development of this system is possible <br />\\nthereafter, and a tropical depression could from by the middle of <br />\\nnext week while it moves westward across the eastern tropical <br />\\nAtlantic Ocean.<br />\\n* Formation chance through 48 hours...low...near 0 percent.<br />\\n* Formation chance through 5 days...medium...40 percent.<br />\\n<br />\\nAn area of low pressure is expected to form near the southeastern <br />\\nBahamas in a few days resulting from moisture by a tropical wave <br />\\ninteracting with an upper-level trough. Gradual development of this <br />\\nsystem is possible thereafter as it moves northwestward across the <br />\\nwestern Atlantic.<br />\\n* Formation chance through 48 hours...low...near 0 percent.<br />\\n* Formation chance through 5 days...low...30 percent.<br />\\n<br />\\n$$<br />\\nForecaster Papin<br />'},\n",
       "   'published': 'Sun, 12 Sep 2021 00:06:19 GMT',\n",
       "   'published_parsed': time.struct_time(tm_year=2021, tm_mon=9, tm_mday=12, tm_hour=0, tm_min=6, tm_sec=19, tm_wday=6, tm_yday=255, tm_isdst=0),\n",
       "   'links': [{'rel': 'alternate',\n",
       "     'type': 'text/html',\n",
       "     'href': 'https://www.nhc.noaa.gov/gtwo.php?basin=atlc'}],\n",
       "   'link': 'https://www.nhc.noaa.gov/gtwo.php?basin=atlc',\n",
       "   'id': 'https://www.nhc.noaa.gov/gtwo.php?basin=atlc&202109120006',\n",
       "   'guidislink': False,\n",
       "   'authors': [{'name': 'NHC Webmaster', 'email': 'nhcwebmaster@noaa.gov'}],\n",
       "   'author': 'nhcwebmaster@noaa.gov (NHC Webmaster)',\n",
       "   'author_detail': {'name': 'NHC Webmaster',\n",
       "    'email': 'nhcwebmaster@noaa.gov'}},\n",
       "  {'title': 'There are no tropical cyclones at this time.',\n",
       "   'title_detail': {'type': 'text/plain',\n",
       "    'language': None,\n",
       "    'base': 'https://www.nhc.noaa.gov/index-at.xml',\n",
       "    'value': 'There are no tropical cyclones at this time.'},\n",
       "   'summary': 'No tropical cyclones as of Sun, 12 Sep 2021 02:46:05 GMT',\n",
       "   'summary_detail': {'type': 'text/html',\n",
       "    'language': None,\n",
       "    'base': 'https://www.nhc.noaa.gov/index-at.xml',\n",
       "    'value': 'No tropical cyclones as of Sun, 12 Sep 2021 02:46:05 GMT'},\n",
       "   'published': 'Sun, 12 Sep 2021 00:06:19 GMT',\n",
       "   'published_parsed': time.struct_time(tm_year=2021, tm_mon=9, tm_mday=12, tm_hour=0, tm_min=6, tm_sec=19, tm_wday=6, tm_yday=255, tm_isdst=0),\n",
       "   'links': [{'rel': 'alternate',\n",
       "     'type': 'text/html',\n",
       "     'href': 'https://www.nhc.noaa.gov/'}],\n",
       "   'link': 'https://www.nhc.noaa.gov/',\n",
       "   'id': 'https://www.nhc.noaa.gov/',\n",
       "   'guidislink': False,\n",
       "   'authors': [{'name': 'NHC Webmaster', 'email': 'nhcwebmaster@noaa.gov'}],\n",
       "   'author': 'nhcwebmaster@noaa.gov (NHC Webmaster)',\n",
       "   'author_detail': {'name': 'NHC Webmaster',\n",
       "    'email': 'nhcwebmaster@noaa.gov'}}],\n",
       " 'feed': {'published': 'Sun, 12 Sep 2021 02:46:05 GMT',\n",
       "  'published_parsed': time.struct_time(tm_year=2021, tm_mon=9, tm_mday=12, tm_hour=2, tm_min=46, tm_sec=5, tm_wday=6, tm_yday=255, tm_isdst=0),\n",
       "  'title': 'NHC Atlantic',\n",
       "  'title_detail': {'type': 'text/plain',\n",
       "   'language': None,\n",
       "   'base': 'https://www.nhc.noaa.gov/index-at.xml',\n",
       "   'value': 'NHC Atlantic'},\n",
       "  'subtitle': 'Active tropical cyclones in the Atlantic, Caribbean, and the Gulf of Mexico',\n",
       "  'subtitle_detail': {'type': 'text/html',\n",
       "   'language': None,\n",
       "   'base': 'https://www.nhc.noaa.gov/index-at.xml',\n",
       "   'value': 'Active tropical cyclones in the Atlantic, Caribbean, and the Gulf of Mexico'},\n",
       "  'links': [{'rel': 'alternate',\n",
       "    'type': 'text/html',\n",
       "    'href': 'https://www.nhc.noaa.gov/'}],\n",
       "  'link': 'https://www.nhc.noaa.gov/',\n",
       "  'rights': 'none',\n",
       "  'rights_detail': {'type': 'text/plain',\n",
       "   'language': None,\n",
       "   'base': 'https://www.nhc.noaa.gov/index-at.xml',\n",
       "   'value': 'none'},\n",
       "  'authors': [{'name': 'NHC Webmaster', 'email': 'nhcwebmaster@noaa.gov'}],\n",
       "  'author': 'nhcwebmaster@noaa.gov (NHC Webmaster)',\n",
       "  'author_detail': {'name': 'NHC Webmaster', 'email': 'nhcwebmaster@noaa.gov'},\n",
       "  'language': 'en-us',\n",
       "  'publisher': 'nhcwebmaster@noaa.gov (NHC Webmaster)',\n",
       "  'publisher_detail': {'name': 'NHC Webmaster',\n",
       "   'email': 'nhcwebmaster@noaa.gov'},\n",
       "  'image': {'href': 'https://www.nhc.noaa.gov/gifs/xml_logo_nhc.gif',\n",
       "   'links': [{'rel': 'alternate',\n",
       "     'type': 'text/html',\n",
       "     'href': 'https://www.nhc.noaa.gov/'}],\n",
       "   'link': 'https://www.nhc.noaa.gov/',\n",
       "   'title': 'NHC Atlantic',\n",
       "   'title_detail': {'type': 'text/plain',\n",
       "    'language': None,\n",
       "    'base': 'https://www.nhc.noaa.gov/index-at.xml',\n",
       "    'value': 'NHC Atlantic'},\n",
       "   'subtitle': 'NOAA logo',\n",
       "   'subtitle_detail': {'type': 'text/html',\n",
       "    'language': None,\n",
       "    'base': 'https://www.nhc.noaa.gov/index-at.xml',\n",
       "    'value': 'NOAA logo'},\n",
       "   'width': 95,\n",
       "   'height': 45}},\n",
       " 'headers': {'content-type': 'text/xml',\n",
       "  'content-length': '5627',\n",
       "  'connection': 'close',\n",
       "  'server': 'Apache',\n",
       "  'last-modified': 'Sun, 12 Sep 2021 02:46:05 GMT',\n",
       "  'accept-ranges': 'bytes',\n",
       "  'via': '1.1 c0.w3.woc (squid), 1.1 c1.w3.woc (squid), 1.1 eb05349809e3898c943c1b7717a43a10.cloudfront.net (CloudFront)',\n",
       "  'strict-transport-security': 'max-age=31536000',\n",
       "  'date': 'Sun, 12 Sep 2021 02:59:09 GMT',\n",
       "  'expires': 'Sun, 12 Sep 2021 03:05:11 GMT',\n",
       "  'cache-control': 'max-age=300',\n",
       "  'etag': '\"15fb-5cbc3598c9540\"',\n",
       "  'x-cache': 'Hit from cloudfront',\n",
       "  'x-amz-cf-pop': 'ATL51-C1',\n",
       "  'x-amz-cf-id': 'yj2ued9s17UsjVyy8TEEzV8HEVOIEztdK0or21ssyc9q60vYoBamrQ==',\n",
       "  'age': '18'},\n",
       " 'etag': '\"15fb-5cbc3598c9540\"',\n",
       " 'updated': 'Sun, 12 Sep 2021 02:46:05 GMT',\n",
       " 'updated_parsed': time.struct_time(tm_year=2021, tm_mon=9, tm_mday=12, tm_hour=2, tm_min=46, tm_sec=5, tm_wday=6, tm_yday=255, tm_isdst=0),\n",
       " 'href': 'https://www.nhc.noaa.gov/index-at.xml',\n",
       " 'status': 200,\n",
       " 'encoding': 'us-ascii',\n",
       " 'version': 'rss20',\n",
       " 'namespaces': {'dc': 'http://purl.org/dc/elements/1.1/',\n",
       "  'georss': 'http://www.georss.org/georss',\n",
       "  'gml': 'http://www.opengis.net/gml',\n",
       "  'nhc': 'https://www.nhc.noaa.gov'}}"
      ]
     },
     "execution_count": 5,
     "metadata": {},
     "output_type": "execute_result"
    }
   ],
   "source": [
    "url = 'https://www.nhc.noaa.gov/index-at.xml'\n",
    "f = feedparser.parse(url)\n",
    "f"
   ]
  },
  {
   "cell_type": "code",
   "execution_count": 3,
   "id": "12457665",
   "metadata": {},
   "outputs": [],
   "source": [
    "#f\n",
    "#f.keys()\n",
    "# len(f.entries)\n",
    "# f['entries'][1]['nhc_atcf']\n",
    "# f.status\n",
    "# f.feed\n",
    "# f.feed['subtitle']\n",
    "# f.entries\n",
    "# type(f.entries)\n",
    "# for entry in f.entries:\n",
    "#     print(entry.title)"
   ]
  },
  {
   "cell_type": "code",
   "execution_count": 4,
   "id": "b444932f",
   "metadata": {},
   "outputs": [
    {
     "data": {
      "text/html": [
       "<div>\n",
       "<style scoped>\n",
       "    .dataframe tbody tr th:only-of-type {\n",
       "        vertical-align: middle;\n",
       "    }\n",
       "\n",
       "    .dataframe tbody tr th {\n",
       "        vertical-align: top;\n",
       "    }\n",
       "\n",
       "    .dataframe thead th {\n",
       "        text-align: right;\n",
       "    }\n",
       "</style>\n",
       "<table border=\"1\" class=\"dataframe\">\n",
       "  <thead>\n",
       "    <tr style=\"text-align: right;\">\n",
       "      <th></th>\n",
       "      <th>title</th>\n",
       "      <th>published</th>\n",
       "    </tr>\n",
       "  </thead>\n",
       "  <tbody>\n",
       "    <tr>\n",
       "      <th>0</th>\n",
       "      <td>Atlantic Tropical Weather Outlook</td>\n",
       "      <td>Sun, 12 Sep 2021 00:06:19 GMT</td>\n",
       "    </tr>\n",
       "    <tr>\n",
       "      <th>1</th>\n",
       "      <td>There are no tropical cyclones at this time.</td>\n",
       "      <td>Sun, 12 Sep 2021 00:06:19 GMT</td>\n",
       "    </tr>\n",
       "  </tbody>\n",
       "</table>\n",
       "</div>"
      ],
      "text/plain": [
       "                                          title                      published\n",
       "0             Atlantic Tropical Weather Outlook  Sun, 12 Sep 2021 00:06:19 GMT\n",
       "1  There are no tropical cyclones at this time.  Sun, 12 Sep 2021 00:06:19 GMT"
      ]
     },
     "execution_count": 4,
     "metadata": {},
     "output_type": "execute_result"
    }
   ],
   "source": [
    "df = pandas.DataFrame(f.entries)\n",
    "df = df.drop(columns=['title_detail', 'summary', 'summary_detail', 'published_parsed', 'links', 'link', 'id', \n",
    "                 'guidislink', 'authors', 'author', 'author_detail'])\n",
    "df.head()"
   ]
  },
  {
   "cell_type": "code",
   "execution_count": 6,
   "id": "a8fd7736",
   "metadata": {},
   "outputs": [
    {
     "ename": "KeyError",
     "evalue": "'nhc_atcf'",
     "output_type": "error",
     "traceback": [
      "\u001b[0;31m---------------------------------------------------------------------------\u001b[0m",
      "\u001b[0;31mKeyError\u001b[0m                                  Traceback (most recent call last)",
      "\u001b[0;32m~/miniconda3/envs/unidata/lib/python3.9/site-packages/pandas/core/indexes/base.py\u001b[0m in \u001b[0;36mget_loc\u001b[0;34m(self, key, method, tolerance)\u001b[0m\n\u001b[1;32m   3360\u001b[0m             \u001b[0;32mtry\u001b[0m\u001b[0;34m:\u001b[0m\u001b[0;34m\u001b[0m\u001b[0;34m\u001b[0m\u001b[0m\n\u001b[0;32m-> 3361\u001b[0;31m                 \u001b[0;32mreturn\u001b[0m \u001b[0mself\u001b[0m\u001b[0;34m.\u001b[0m\u001b[0m_engine\u001b[0m\u001b[0;34m.\u001b[0m\u001b[0mget_loc\u001b[0m\u001b[0;34m(\u001b[0m\u001b[0mcasted_key\u001b[0m\u001b[0;34m)\u001b[0m\u001b[0;34m\u001b[0m\u001b[0;34m\u001b[0m\u001b[0m\n\u001b[0m\u001b[1;32m   3362\u001b[0m             \u001b[0;32mexcept\u001b[0m \u001b[0mKeyError\u001b[0m \u001b[0;32mas\u001b[0m \u001b[0merr\u001b[0m\u001b[0;34m:\u001b[0m\u001b[0;34m\u001b[0m\u001b[0;34m\u001b[0m\u001b[0m\n",
      "\u001b[0;32m~/miniconda3/envs/unidata/lib/python3.9/site-packages/pandas/_libs/index.pyx\u001b[0m in \u001b[0;36mpandas._libs.index.IndexEngine.get_loc\u001b[0;34m()\u001b[0m\n",
      "\u001b[0;32m~/miniconda3/envs/unidata/lib/python3.9/site-packages/pandas/_libs/index.pyx\u001b[0m in \u001b[0;36mpandas._libs.index.IndexEngine.get_loc\u001b[0;34m()\u001b[0m\n",
      "\u001b[0;32mpandas/_libs/hashtable_class_helper.pxi\u001b[0m in \u001b[0;36mpandas._libs.hashtable.PyObjectHashTable.get_item\u001b[0;34m()\u001b[0m\n",
      "\u001b[0;32mpandas/_libs/hashtable_class_helper.pxi\u001b[0m in \u001b[0;36mpandas._libs.hashtable.PyObjectHashTable.get_item\u001b[0;34m()\u001b[0m\n",
      "\u001b[0;31mKeyError\u001b[0m: 'nhc_atcf'",
      "\nThe above exception was the direct cause of the following exception:\n",
      "\u001b[0;31mKeyError\u001b[0m                                  Traceback (most recent call last)",
      "\u001b[0;32m/tmp/ipykernel_4432/1102679029.py\u001b[0m in \u001b[0;36m<module>\u001b[0;34m\u001b[0m\n\u001b[0;32m----> 1\u001b[0;31m \u001b[0mtc_list\u001b[0m \u001b[0;34m=\u001b[0m \u001b[0;34m[\u001b[0m\u001b[0mnhc_atcf\u001b[0m\u001b[0;34m[\u001b[0m\u001b[0;36m2\u001b[0m\u001b[0;34m:\u001b[0m\u001b[0;36m4\u001b[0m\u001b[0;34m]\u001b[0m \u001b[0;32mfor\u001b[0m \u001b[0mnhc_atcf\u001b[0m \u001b[0;32min\u001b[0m \u001b[0mdf\u001b[0m\u001b[0;34m[\u001b[0m\u001b[0;34m'nhc_atcf'\u001b[0m\u001b[0;34m]\u001b[0m \u001b[0;32mif\u001b[0m \u001b[0mpandas\u001b[0m\u001b[0;34m.\u001b[0m\u001b[0misnull\u001b[0m\u001b[0;34m(\u001b[0m\u001b[0mnhc_atcf\u001b[0m\u001b[0;34m)\u001b[0m \u001b[0;34m==\u001b[0m \u001b[0;32mFalse\u001b[0m\u001b[0;34m]\u001b[0m\u001b[0;34m\u001b[0m\u001b[0;34m\u001b[0m\u001b[0m\n\u001b[0m\u001b[1;32m      2\u001b[0m \u001b[0mtc_list\u001b[0m\u001b[0;34m\u001b[0m\u001b[0;34m\u001b[0m\u001b[0m\n",
      "\u001b[0;32m~/miniconda3/envs/unidata/lib/python3.9/site-packages/pandas/core/frame.py\u001b[0m in \u001b[0;36m__getitem__\u001b[0;34m(self, key)\u001b[0m\n\u001b[1;32m   3453\u001b[0m             \u001b[0;32mif\u001b[0m \u001b[0mself\u001b[0m\u001b[0;34m.\u001b[0m\u001b[0mcolumns\u001b[0m\u001b[0;34m.\u001b[0m\u001b[0mnlevels\u001b[0m \u001b[0;34m>\u001b[0m \u001b[0;36m1\u001b[0m\u001b[0;34m:\u001b[0m\u001b[0;34m\u001b[0m\u001b[0;34m\u001b[0m\u001b[0m\n\u001b[1;32m   3454\u001b[0m                 \u001b[0;32mreturn\u001b[0m \u001b[0mself\u001b[0m\u001b[0;34m.\u001b[0m\u001b[0m_getitem_multilevel\u001b[0m\u001b[0;34m(\u001b[0m\u001b[0mkey\u001b[0m\u001b[0;34m)\u001b[0m\u001b[0;34m\u001b[0m\u001b[0;34m\u001b[0m\u001b[0m\n\u001b[0;32m-> 3455\u001b[0;31m             \u001b[0mindexer\u001b[0m \u001b[0;34m=\u001b[0m \u001b[0mself\u001b[0m\u001b[0;34m.\u001b[0m\u001b[0mcolumns\u001b[0m\u001b[0;34m.\u001b[0m\u001b[0mget_loc\u001b[0m\u001b[0;34m(\u001b[0m\u001b[0mkey\u001b[0m\u001b[0;34m)\u001b[0m\u001b[0;34m\u001b[0m\u001b[0;34m\u001b[0m\u001b[0m\n\u001b[0m\u001b[1;32m   3456\u001b[0m             \u001b[0;32mif\u001b[0m \u001b[0mis_integer\u001b[0m\u001b[0;34m(\u001b[0m\u001b[0mindexer\u001b[0m\u001b[0;34m)\u001b[0m\u001b[0;34m:\u001b[0m\u001b[0;34m\u001b[0m\u001b[0;34m\u001b[0m\u001b[0m\n\u001b[1;32m   3457\u001b[0m                 \u001b[0mindexer\u001b[0m \u001b[0;34m=\u001b[0m \u001b[0;34m[\u001b[0m\u001b[0mindexer\u001b[0m\u001b[0;34m]\u001b[0m\u001b[0;34m\u001b[0m\u001b[0;34m\u001b[0m\u001b[0m\n",
      "\u001b[0;32m~/miniconda3/envs/unidata/lib/python3.9/site-packages/pandas/core/indexes/base.py\u001b[0m in \u001b[0;36mget_loc\u001b[0;34m(self, key, method, tolerance)\u001b[0m\n\u001b[1;32m   3361\u001b[0m                 \u001b[0;32mreturn\u001b[0m \u001b[0mself\u001b[0m\u001b[0;34m.\u001b[0m\u001b[0m_engine\u001b[0m\u001b[0;34m.\u001b[0m\u001b[0mget_loc\u001b[0m\u001b[0;34m(\u001b[0m\u001b[0mcasted_key\u001b[0m\u001b[0;34m)\u001b[0m\u001b[0;34m\u001b[0m\u001b[0;34m\u001b[0m\u001b[0m\n\u001b[1;32m   3362\u001b[0m             \u001b[0;32mexcept\u001b[0m \u001b[0mKeyError\u001b[0m \u001b[0;32mas\u001b[0m \u001b[0merr\u001b[0m\u001b[0;34m:\u001b[0m\u001b[0;34m\u001b[0m\u001b[0;34m\u001b[0m\u001b[0m\n\u001b[0;32m-> 3363\u001b[0;31m                 \u001b[0;32mraise\u001b[0m \u001b[0mKeyError\u001b[0m\u001b[0;34m(\u001b[0m\u001b[0mkey\u001b[0m\u001b[0;34m)\u001b[0m \u001b[0;32mfrom\u001b[0m \u001b[0merr\u001b[0m\u001b[0;34m\u001b[0m\u001b[0;34m\u001b[0m\u001b[0m\n\u001b[0m\u001b[1;32m   3364\u001b[0m \u001b[0;34m\u001b[0m\u001b[0m\n\u001b[1;32m   3365\u001b[0m         \u001b[0;32mif\u001b[0m \u001b[0mis_scalar\u001b[0m\u001b[0;34m(\u001b[0m\u001b[0mkey\u001b[0m\u001b[0;34m)\u001b[0m \u001b[0;32mand\u001b[0m \u001b[0misna\u001b[0m\u001b[0;34m(\u001b[0m\u001b[0mkey\u001b[0m\u001b[0;34m)\u001b[0m \u001b[0;32mand\u001b[0m \u001b[0;32mnot\u001b[0m \u001b[0mself\u001b[0m\u001b[0;34m.\u001b[0m\u001b[0mhasnans\u001b[0m\u001b[0;34m:\u001b[0m\u001b[0;34m\u001b[0m\u001b[0;34m\u001b[0m\u001b[0m\n",
      "\u001b[0;31mKeyError\u001b[0m: 'nhc_atcf'"
     ]
    }
   ],
   "source": [
    "tc_list = [nhc_atcf[2:4] for nhc_atcf in df['nhc_atcf'] if pandas.isnull(nhc_atcf) == False] \n",
    "tc_list"
   ]
  },
  {
   "cell_type": "code",
   "execution_count": 5,
   "id": "478cc3e1",
   "metadata": {},
   "outputs": [
    {
     "data": {
      "text/plain": [
       "{'Larry': ['AL122021',\n",
       "  'Hurricane',\n",
       "  '43.5, -58.2',\n",
       "  'NNE at 35 mph',\n",
       "  '967 mb',\n",
       "  '80 mph',\n",
       "  'Fri, 10 Sep 2021 20:43:39 GMT',\n",
       "  '5:00 PM AST Fri Sep 10']}"
      ]
     },
     "execution_count": 5,
     "metadata": {},
     "output_type": "execute_result"
    }
   ],
   "source": [
    "#{key: value for (key, value) in iterable}\n",
    "d = {nhc_name: [nhc_atcf    , nhc_type, nhc_center, nhc_movement, \n",
    "                nhc_pressure, nhc_wind, published , nhc_datetime]         \n",
    "     for (nhc_name    , nhc_atcf, nhc_type  , nhc_center  , nhc_movement,\n",
    "          nhc_pressure, nhc_wind, published , nhc_datetime) \n",
    "     in  zip(df['nhc_name']    , df['nhc_atcf']    , df['nhc_type'], df['nhc_center'], \n",
    "             df['nhc_movement'], df['nhc_pressure'], df['nhc_wind'], df['published'],\n",
    "             df['nhc_datetime']) \n",
    "     if pandas.isnull(nhc_name) == False}   \n",
    "d"
   ]
  },
  {
   "cell_type": "code",
   "execution_count": 12,
   "id": "fa6a0772",
   "metadata": {},
   "outputs": [],
   "source": [
    "class NhcDownloaderBot:\n",
    "    def __init__(self, storm_number, year):\n",
    "        self.storm_number = storm_number\n",
    "        self.year         = year\n",
    "        \n",
    "        \n",
    "        self.file_names     = file_names = [\n",
    "                            f'al{self.storm_number}{self.year}_5day_latest.zip',\n",
    "                            f'al{self.storm_number}{self.year}_fcst_latest.zip',\n",
    "                            f'al{self.storm_number}{self.year}_best_track.zip',\n",
    "                            f'gtwo_shapefiles.zip',\n",
    "                            f'wsp_120hrhalfDeg_latest.zip',\n",
    "                            f'wsp_120hr5km_latest.zip'\n",
    "                            ]\n",
    "        self.urls           = urls = [\n",
    "                            f'https://www.nhc.noaa.gov/gis/forecast/archive',\n",
    "                            f'https://www.nhc.noaa.gov/gis/forecast/archive',\n",
    "                            f'https://www.nhc.noaa.gov/gis/best_track',\n",
    "                            f'https://www.nhc.noaa.gov/xgtwo',\n",
    "                            f'https://www.nhc.noaa.gov/gis/forecast/archive',\n",
    "                            f'https://www.nhc.noaa.gov/gis/forecast/archive'\n",
    "                            ]\n",
    "        self.gdf_names      = gdf_names = {\n",
    "                            file_names[0] : ['track_line_gdf', 'cone_gdf', 'points_gdf'],\n",
    "                            file_names[1] : ['init_radii_gdf', 'fcst_radii_gdf'],\n",
    "                            file_names[2] : ['best_track_points_gdf', 'best_track_line_gdf', 'best_track_radii_gdf', 'best_track_swath_gdf'],\n",
    "                            file_names[3] : ['gtwo_areas_gdf', 'gtwo_lines_gdf', 'gtwo_points_gdf'],\n",
    "                            file_names[4] : ['wsp_34_gdf_points', 'wsp_50_gdf_points', 'wsp_64_gdf_points'],\n",
    "                            file_names[5] : ['wsp_34_gdf_polygons', 'wsp_50_gdf_polygons', 'wsp_64_gdf_polygons']\n",
    "                                          }\n",
    "    def nhc_gis_downloader(self, file_names, urls, gdf_names):\n",
    "\n",
    "        for idx, file_name in enumerate(file_names):\n",
    "            url = f'{urls[idx]}/{file_name}'\n",
    "            r = requests.get(url)\n",
    "            with open(f'nhc_latest/{file_name}', 'wb') as code:\n",
    "                code.write(r.content) \n",
    "        _  = [0, 3, 4, 5]  \n",
    "        __ = [2, 7, 12]  \n",
    "        for idx, file_name in enumerate([file_names[0],  file_names[3], \n",
    "                                        file_names[4],  file_names[5]]): \n",
    "            with ZipFile(f'nhc_latest/{file_name}', 'r') as zip_file_name:\n",
    "                for idx2 in range(len(gdf_names[file_names[_[idx]]])):\n",
    "                    gdf_names[file_names[_[idx]]][idx2]  = geopandas.read_file(\n",
    "                    f'zip://./nhc_latest/{file_name}!{zip_file_name.namelist()[__[idx2]]}')\n",
    "        _  = [0,5]                                 \n",
    "        with ZipFile(f'nhc_latest/{file_names[1]}', 'r') as zip_file_name:\n",
    "                for idx in range(2):\n",
    "                    gdf_names[file_names[1]][idx]  = geopandas.read_file(\n",
    "                    f'zip://./nhc_latest/{file_names[1]}!{zip_file_name.namelist()[_[idx]]}')\n",
    "        _  = [2, 7, 13, 16]                                 \n",
    "        with ZipFile(f'nhc_latest/{file_names[2]}', 'r') as zip_file_name:\n",
    "            for idx in range(4):\n",
    "                gdf_names[file_names[2]][idx]  = geopandas.read_file(\n",
    "                f'zip://./nhc_latest/{file_names[2]}!{zip_file_name.namelist()[_[idx]]}')\n",
    "        return gdf_names\n",
    "    \n",
    "    @classmethod\n",
    "    def gdf_file(cls, storm_number, year):\n",
    "        cls._                     = NhcDownloaderBot(storm_number, year)\n",
    "        cls.track_line_gdf        = cls._.nhc_gis_downloader(cls._.file_names, cls._.urls, cls._.gdf_names)[cls._.file_names[0]][0]\n",
    "        cls.cone_gdf              = cls._.nhc_gis_downloader(cls._.file_names, cls._.urls, cls._.gdf_names)[cls._.file_names[0]][1]\n",
    "        cls.points_gdf            = cls._.nhc_gis_downloader(cls._.file_names, cls._.urls, cls._.gdf_names)[cls._.file_names[0]][2]\n",
    "        cls.init_radii_gdf        = cls._.nhc_gis_downloader(cls._.file_names, cls._.urls, cls._.gdf_names)[cls._.file_names[1]][0]\n",
    "        cls.fcst_radii_gdf        = cls._.nhc_gis_downloader(cls._.file_names, cls._.urls, cls._.gdf_names)[cls._.file_names[1]][1]\n",
    "        cls.best_track_points_gdf = cls._.nhc_gis_downloader(cls._.file_names, cls._.urls, cls._.gdf_names)[cls._.file_names[2]][0]\n",
    "        cls.best_track_line_gdf   = cls._.nhc_gis_downloader(cls._.file_names, cls._.urls, cls._.gdf_names)[cls._.file_names[2]][1]\n",
    "        cls.best_track_radii_gdf  = cls._.nhc_gis_downloader(cls._.file_names, cls._.urls, cls._.gdf_names)[cls._.file_names[2]][2]\n",
    "        cls.best_track_swath_gdf  = cls._.nhc_gis_downloader(cls._.file_names, cls._.urls, cls._.gdf_names)[cls._.file_names[2]][3]\n",
    "        cls.gtwo_areas_gdf        = cls._.nhc_gis_downloader(cls._.file_names, cls._.urls, cls._.gdf_names)[cls._.file_names[3]][0]\n",
    "        cls.gtwo_lines_gdf        = cls._.nhc_gis_downloader(cls._.file_names, cls._.urls, cls._.gdf_names)[cls._.file_names[3]][1]\n",
    "        cls.gtwo_points_gdf       = cls._.nhc_gis_downloader(cls._.file_names, cls._.urls, cls._.gdf_names)[cls._.file_names[3]][2]\n",
    "        cls.wsp_34_gdf_points     = cls._.nhc_gis_downloader(cls._.file_names, cls._.urls, cls._.gdf_names)[cls._.file_names[4]][0]\n",
    "        cls.wsp_50_gdf_points     = cls._.nhc_gis_downloader(cls._.file_names, cls._.urls, cls._.gdf_names)[cls._.file_names[4]][1]\n",
    "        cls.wsp_64_gdf_points     = cls._.nhc_gis_downloader(cls._.file_names, cls._.urls, cls._.gdf_names)[cls._.file_names[4]][2]\n",
    "        cls.wsp_34_gdf_polygons   = cls._.nhc_gis_downloader(cls._.file_names, cls._.urls, cls._.gdf_names)[cls._.file_names[5]][0]\n",
    "        cls.wsp_50_gdf_polygons   = cls._.nhc_gis_downloader(cls._.file_names, cls._.urls, cls._.gdf_names)[cls._.file_names[5]][1]\n",
    "        cls.wsp_64_gdf_polygons   = cls._.nhc_gis_downloader(cls._.file_names, cls._.urls, cls._.gdf_names)[cls._.file_names[5]][2]"
   ]
  },
  {
   "cell_type": "code",
   "execution_count": 13,
   "id": "b797bb0e",
   "metadata": {},
   "outputs": [
    {
     "name": "stdout",
     "output_type": "stream",
     "text": [
      "Done\n"
     ]
    }
   ],
   "source": [
    "NhcDownloaderBot.gdf_file(12, 2021)\n",
    "print('Done')"
   ]
  },
  {
   "cell_type": "code",
   "execution_count": 11,
   "id": "b2d9df59",
   "metadata": {},
   "outputs": [
    {
     "data": {
      "text/html": [
       "<div>\n",
       "<style scoped>\n",
       "    .dataframe tbody tr th:only-of-type {\n",
       "        vertical-align: middle;\n",
       "    }\n",
       "\n",
       "    .dataframe tbody tr th {\n",
       "        vertical-align: top;\n",
       "    }\n",
       "\n",
       "    .dataframe thead th {\n",
       "        text-align: right;\n",
       "    }\n",
       "</style>\n",
       "<table border=\"1\" class=\"dataframe\">\n",
       "  <thead>\n",
       "    <tr style=\"text-align: right;\">\n",
       "      <th></th>\n",
       "      <th>STORMNAME</th>\n",
       "      <th>STORMTYPE</th>\n",
       "      <th>ADVDATE</th>\n",
       "      <th>ADVISNUM</th>\n",
       "      <th>STORMNUM</th>\n",
       "      <th>FCSTPRD</th>\n",
       "      <th>BASIN</th>\n",
       "      <th>geometry</th>\n",
       "    </tr>\n",
       "  </thead>\n",
       "  <tbody>\n",
       "    <tr>\n",
       "      <th>0</th>\n",
       "      <td>Larry</td>\n",
       "      <td>PTC</td>\n",
       "      <td>1100 AM AST Sat Sep 11 2021</td>\n",
       "      <td>44</td>\n",
       "      <td>12.0</td>\n",
       "      <td>120.0</td>\n",
       "      <td>AL</td>\n",
       "      <td>LINESTRING (-48.20000 54.00000, -44.90000 57.8...</td>\n",
       "    </tr>\n",
       "  </tbody>\n",
       "</table>\n",
       "</div>"
      ],
      "text/plain": [
       "  STORMNAME STORMTYPE                      ADVDATE ADVISNUM  STORMNUM  \\\n",
       "0     Larry       PTC  1100 AM AST Sat Sep 11 2021       44      12.0   \n",
       "\n",
       "   FCSTPRD BASIN                                           geometry  \n",
       "0    120.0    AL  LINESTRING (-48.20000 54.00000, -44.90000 57.8...  "
      ]
     },
     "execution_count": 11,
     "metadata": {},
     "output_type": "execute_result"
    }
   ],
   "source": [
    "NhcDownloaderBot.track_line_gdf"
   ]
  },
  {
   "cell_type": "code",
   "execution_count": 9,
   "id": "13ca58a3",
   "metadata": {},
   "outputs": [
    {
     "name": "stdout",
     "output_type": "stream",
     "text": [
      "--------------------done-----------------------\n"
     ]
    }
   ],
   "source": [
    "ct = []\n",
    "for tc in tc_list:\n",
    "    df = NhcDownloaderBot()\n",
    "    df = df.gdf_file(tc, 2021)\n",
    "    ct.append(NhcDownloaderBot.track_line_gdf)\n",
    "    if tc == tc_list[-1]:\n",
    "        print(f'--------------------done-----------------------')\n",
    "    \n",
    "#     NhcDownloaderBot.init_radii_gdf\n",
    "    "
   ]
  },
  {
   "cell_type": "code",
   "execution_count": 10,
   "id": "85327844",
   "metadata": {},
   "outputs": [
    {
     "data": {
      "text/html": [
       "<div>\n",
       "<style scoped>\n",
       "    .dataframe tbody tr th:only-of-type {\n",
       "        vertical-align: middle;\n",
       "    }\n",
       "\n",
       "    .dataframe tbody tr th {\n",
       "        vertical-align: top;\n",
       "    }\n",
       "\n",
       "    .dataframe thead th {\n",
       "        text-align: right;\n",
       "    }\n",
       "</style>\n",
       "<table border=\"1\" class=\"dataframe\">\n",
       "  <thead>\n",
       "    <tr style=\"text-align: right;\">\n",
       "      <th></th>\n",
       "      <th>STORMNAME</th>\n",
       "      <th>STORMTYPE</th>\n",
       "      <th>ADVDATE</th>\n",
       "      <th>ADVISNUM</th>\n",
       "      <th>STORMNUM</th>\n",
       "      <th>FCSTPRD</th>\n",
       "      <th>BASIN</th>\n",
       "      <th>geometry</th>\n",
       "    </tr>\n",
       "  </thead>\n",
       "  <tbody>\n",
       "    <tr>\n",
       "      <th>0</th>\n",
       "      <td>Larry</td>\n",
       "      <td>HU</td>\n",
       "      <td>500 PM AST Fri Sep 10 2021</td>\n",
       "      <td>41</td>\n",
       "      <td>12.0</td>\n",
       "      <td>120.0</td>\n",
       "      <td>AL</td>\n",
       "      <td>LINESTRING (-58.20000 43.50000, -53.30000 48.6...</td>\n",
       "    </tr>\n",
       "  </tbody>\n",
       "</table>\n",
       "</div>"
      ],
      "text/plain": [
       "  STORMNAME STORMTYPE                     ADVDATE ADVISNUM  STORMNUM  FCSTPRD  \\\n",
       "0     Larry        HU  500 PM AST Fri Sep 10 2021       41      12.0    120.0   \n",
       "\n",
       "  BASIN                                           geometry  \n",
       "0    AL  LINESTRING (-58.20000 43.50000, -53.30000 48.6...  "
      ]
     },
     "execution_count": 10,
     "metadata": {},
     "output_type": "execute_result"
    }
   ],
   "source": [
    "ct[0]"
   ]
  },
  {
   "cell_type": "code",
   "execution_count": null,
   "id": "2608089e",
   "metadata": {},
   "outputs": [],
   "source": []
  }
 ],
 "metadata": {
  "kernelspec": {
   "display_name": "Python 3 (ipykernel)",
   "language": "python",
   "name": "python3"
  },
  "language_info": {
   "codemirror_mode": {
    "name": "ipython",
    "version": 3
   },
   "file_extension": ".py",
   "mimetype": "text/x-python",
   "name": "python",
   "nbconvert_exporter": "python",
   "pygments_lexer": "ipython3",
   "version": "3.9.6"
  }
 },
 "nbformat": 4,
 "nbformat_minor": 5
}
