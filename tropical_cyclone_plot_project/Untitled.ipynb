{
 "cells": [
  {
   "cell_type": "code",
   "execution_count": null,
   "id": "9bbce15a",
   "metadata": {},
   "outputs": [],
   "source": [
    "_5_15    = '#2BFF24'\n",
    "_15_30   = '#21C41B'\n",
    "_30_50   = '#1A9915'\n",
    "_50_75   = '#137010'\n",
    "_75_100  = '#0D4F0B'\n",
    "_100_150 = '#002E52'\n",
    "_150_200 = '#004D87'\n",
    "_200_250 = '#0067B5'\n",
    "_250_300 = '#0091FF'\n",
    "_300_400 = '#FF0DE7'\n",
    "_400_500 = '#B182FF'\n"
   ]
  }
 ],
 "metadata": {
  "kernelspec": {
   "display_name": "Python 3 (ipykernel)",
   "language": "python",
   "name": "python3"
  },
  "language_info": {
   "codemirror_mode": {
    "name": "ipython",
    "version": 3
   },
   "file_extension": ".py",
   "mimetype": "text/x-python",
   "name": "python",
   "nbconvert_exporter": "python",
   "pygments_lexer": "ipython3",
   "version": "3.9.6"
  }
 },
 "nbformat": 4,
 "nbformat_minor": 5
}
