{
 "cells": [
  {
   "cell_type": "code",
   "execution_count": 1,
   "id": "c57849dc",
   "metadata": {},
   "outputs": [],
   "source": [
    "import numpy as np\n",
    "import matplotlib.pyplot as plt"
   ]
  },
  {
   "cell_type": "code",
   "execution_count": 2,
   "id": "dc7c34f1",
   "metadata": {},
   "outputs": [],
   "source": [
    "t = np.linspace(0,3,1000) #Intervalo temporal"
   ]
  },
  {
   "cell_type": "code",
   "execution_count": 3,
   "id": "90bbbe93",
   "metadata": {},
   "outputs": [],
   "source": [
    "#Primero se indican el valor de los parametros del circuito dados por la Resistencia, la bobina y el \n",
    "#Capacitor, respectivamente.\n",
    "R        = 100\n",
    "L        = 25*10**-3\n",
    "C        = 10*10**-6\n",
    "paralelo = 0"
   ]
  },
  {
   "cell_type": "code",
   "execution_count": 4,
   "id": "ca488d9b",
   "metadata": {},
   "outputs": [],
   "source": [
    "#Seprocede a indicar el valor de las condiciones iniciales, es decir, el voltaje en el capacitor y la corritente\n",
    "#que fluye a traves de la bobina en t>0. Si estos valores no estan dados en el problema, deben calcularse\n",
    "#por el metodo adecuado.\n",
    "Vc_ini   =3\n",
    "Il_ini   =0"
   ]
  },
  {
   "cell_type": "code",
   "execution_count": 5,
   "id": "163f494e",
   "metadata": {},
   "outputs": [],
   "source": [
    "#Aqui se calculan algunas variables de interes que son comunes para circuitos en serie y paralelo y\n",
    "#se especifica el tipo de cirtuito con el que se trabajara.\n",
    "c        = 1/(L*C) #Coeficiente 'c' de la ec. caracteristica: ax^2 + bx + c = 0\n",
    "w0       = 1/np.sqrt(L*C)"
   ]
  },
  {
   "cell_type": "code",
   "execution_count": 6,
   "id": "97c5de2c",
   "metadata": {},
   "outputs": [
    {
     "name": "stdout",
     "output_type": "stream",
     "text": [
      "en serie\n"
     ]
    }
   ],
   "source": [
    "if paralelo:\n",
    "    tipo = 'en paralelo'\n",
    "    print(tipo)\n",
    "    b     = 1/(R*C) #Coeficiente 'b' de la ec. caracteristica: ax^2 + bx + c = 0\n",
    "    alpha = 1/(2*R*C)  \n",
    "    F = (1/L)  # Factor usado para calcular la forma simbolica (sx(t)    = [[4.0cos(4.0t) + -2.0sen(4.0t)]exp(-3.0t) + 0]u(t)tr) de la integra de x(t)\n",
    "else:\n",
    "    tipo = 'en serie'\n",
    "    print(tipo)\n",
    "    b     = R/L #Coeficiente 'b' de la ec. caracteristica: ax^2 + bx + c = 0\n",
    "    alpha = R/(2*L)\n",
    "    F = (1/C)  # Factor usado para calcular la forma simbolica (str) de la integra de x(t)"
   ]
  },
  {
   "cell_type": "code",
   "execution_count": 7,
   "id": "9b6a55c9",
   "metadata": {},
   "outputs": [
    {
     "data": {
      "text/plain": [
       "4000000.0"
      ]
     },
     "execution_count": 7,
     "metadata": {},
     "output_type": "execute_result"
    }
   ],
   "source": [
    "c"
   ]
  },
  {
   "cell_type": "code",
   "execution_count": 8,
   "id": "698dff83",
   "metadata": {},
   "outputs": [
    {
     "name": "stdout",
     "output_type": "stream",
     "text": [
      "-2000.0 -2000.0\n"
     ]
    }
   ],
   "source": [
    "#Ecuacion caracteristica y sus respectivas raices\n",
    "\n",
    "s1, s2 = np.roots([1, b, c])\n",
    "if np.round(s1.imag, 3):\n",
    "    print('Raices complejas y conjugadas')\n",
    "else:\n",
    "    s1, s2 = s1.real, s2.real\n",
    "    s1, s2 = np.round(s1, 3), np.round(s2, 3)\n",
    "print(s1, s2)"
   ]
  },
  {
   "cell_type": "code",
   "execution_count": 9,
   "id": "92ea1c21",
   "metadata": {},
   "outputs": [],
   "source": [
    "# wd       = np.sqrt(s1.imag**2 - s1.real**2)\n",
    "# print(alpha, w0, wd)\n",
    "#round(s1.imag) == round(wd)"
   ]
  },
  {
   "cell_type": "code",
   "execution_count": 10,
   "id": "3ea5d472",
   "metadata": {},
   "outputs": [
    {
     "name": "stdout",
     "output_type": "stream",
     "text": [
      "xf = 0\n"
     ]
    }
   ],
   "source": [
    "# Para el caso de que el cirtuito este sometido a una funcion forzante diferente de cero se especificaran los \n",
    "# siguientes valores asociados a esta funcion\n",
    "# 1) la forma de la funcion forzante (en gral, una funcion del tiempo). Si no existe su valor sera cero.\n",
    "# 1.1) Las siguientes constantes controlan la forma de la funcion forzante. Para que no aparezco uno o varios\n",
    "#terminos \n",
    "alpha_p, w0_p = alpha, w0\n",
    "\n",
    "a1       = 0\n",
    "a2       = 0\n",
    "a3       = 0\n",
    "a4       = 0\n",
    "a5       = 0\n",
    "\n",
    "first_term = f'{a1}sin({w0_p}t) +'\n",
    "second_term= f'{a2}cos({w0_p}t) +'\n",
    "third_term = f'{a3}'\n",
    "fourth_term= f'{a5}t +'\n",
    "fith_term  = f'{a5}'\n",
    "sixth_term = f'exp(-{alpha_p}t) +'\n",
    "\n",
    "if a1 == 0:\n",
    "    first_term = ''\n",
    "if a2 == 0:\n",
    "    second_term = ''\n",
    "if a3 == 0:\n",
    "    third_term = ''\n",
    "if a4 == 0:\n",
    "    fourth_term = ''\n",
    "if a5 == 0:\n",
    "    fith_term = ''\n",
    "    \n",
    "compact_term = f'({first_term}{second_term}{third_term}){sixth_term}'\n",
    "if first_term == second_term == third_term == '':\n",
    "    compact_term = ''\n",
    "    \n",
    "    \n",
    "xf    = (a1*np.sin(w0*t) + a2*np.cos(w0_p*t) + a3)*np.exp(-alpha_p*t) + (a4)*t + a5\n",
    "xf_str= f'{compact_term}{fourth_term}{fith_term}'\n",
    "if a1 == a2 == a3 == a4 == a5 == 0:\n",
    "    xf_str = '0'\n",
    "    \n",
    "#2) la funcion forzante evaluada en t = 0\n",
    "xf_en_0       = a2 + a3 + a5\n",
    "#3) la derivada de la funcion forzante con respecto al tiempo\n",
    "xf_prima      =((a1*w0_p - a2*alpha_p)*np.cos(w0_p*t) -(a1*alpha_p + a2*w0_p)*np.sin(w0_p*t))*np.exp(-alpha_p*t) + a3\n",
    "#4) la derivada de la funcion forzante evaluada en t = 0\n",
    "xf_prima_en_0 = a1*w0_p - a2*alpha_p + a3\n",
    "print(f'xf = {xf_str}')"
   ]
  },
  {
   "cell_type": "code",
   "execution_count": 11,
   "id": "8b1d830f",
   "metadata": {},
   "outputs": [
    {
     "name": "stdout",
     "output_type": "stream",
     "text": [
      "Caso 3: Criticamente amortiguado\n"
     ]
    },
    {
     "data": {
      "text/plain": [
       "[[1, 0], [-2000.0, 1]]"
      ]
     },
     "execution_count": 11,
     "metadata": {},
     "output_type": "execute_result"
    }
   ],
   "source": [
    "if s1 != s2 and not np.iscomplex(s1):\n",
    "    caso = 'Caso 1: Sobre amortiguado'\n",
    "    print(caso)\n",
    "    coeff_A = [[1, 1], [s1, s2]]\n",
    "elif np.iscomplex(s1):\n",
    "    caso = 'Caso 2: Sub-amortiguado'\n",
    "    print(caso)\n",
    "    coeff_A = [[1, 0], [s1.real, s1.imag]]\n",
    "else:\n",
    "    caso = 'Caso 3: Criticamente amortiguado'\n",
    "    print(caso)\n",
    "    coeff_A = [[1, 0], [s1.real, 1]]\n",
    "coeff_A"
   ]
  },
  {
   "cell_type": "code",
   "execution_count": 12,
   "id": "e0980aa6",
   "metadata": {},
   "outputs": [],
   "source": [
    "#Si el circuito es paralelo con fuente externa y se requiere el voltaje o si es serie con fuente externa \n",
    "# y se requiere la corrinte usar este bloque:\n",
    "\n",
    "\n",
    "\n",
    "# if paralelo:\n",
    "#     Vc_prima_ini = -Vc_ini/(R*C) - Il_ini/C #Aplicando LCK en el circuito paralelo\n",
    "#     coeff_B      =  [Vc_ini - xf_en_0, Vc_prima_ini - xf_prima_en_0]\n",
    "# else:\n",
    "#     Il_prima_ini = -(R*Il_ini)/L - Vc_ini/L + xf_en_0  #Aplicando LCK en el circuito paralelo\n",
    "#     coeff_B      =  [Il_ini - xf_en_0, Il_prima_ini - xf_prima_en_0]\n",
    "# coeff_B"
   ]
  },
  {
   "cell_type": "code",
   "execution_count": 13,
   "id": "3f105522",
   "metadata": {},
   "outputs": [
    {
     "data": {
      "text/plain": [
       "[3, 0.0]"
      ]
     },
     "execution_count": 13,
     "metadata": {},
     "output_type": "execute_result"
    }
   ],
   "source": [
    "# Si el circuito es paralelo con fuente externa y se requiere la corriente en la bobina,\n",
    "# o si es serie con fuente externa y se requiere el voltaje en el capacitor, usar este bloque:\n",
    "\n",
    "\n",
    "if paralelo:\n",
    "    Il_prima_ini =  Vc_ini/L\n",
    "    coeff_B      =  [Il_ini - xf_en_0, Il_prima_ini - xf_prima_en_0]\n",
    "else:\n",
    "    Vc_prima_ini =  Il_ini/C\n",
    "    coeff_B      =  [Vc_ini - xf_en_0, Vc_prima_ini - xf_prima_en_0]\n",
    "coeff_B"
   ]
  },
  {
   "cell_type": "code",
   "execution_count": 14,
   "id": "c51b0f13",
   "metadata": {},
   "outputs": [
    {
     "name": "stdout",
     "output_type": "stream",
     "text": [
      "1A + 0B = 3\n",
      "-2000.0A + 1B = 0.0\n"
     ]
    }
   ],
   "source": [
    "print(f'{coeff_A[0][0]}A + {coeff_A[0][1]}B = {coeff_B[0]}')\n",
    "print(f'{coeff_A[1][0]}A + {coeff_A[1][1]}B = {coeff_B[1]}')"
   ]
  },
  {
   "cell_type": "code",
   "execution_count": 15,
   "id": "36eaa89d",
   "metadata": {},
   "outputs": [],
   "source": [
    "X = np.linalg.solve(coeff_A, coeff_B)\n",
    "A, B = X"
   ]
  },
  {
   "cell_type": "code",
   "execution_count": 16,
   "id": "baec0cf6",
   "metadata": {},
   "outputs": [
    {
     "name": "stdout",
     "output_type": "stream",
     "text": [
      "3.0 6000.0\n"
     ]
    },
    {
     "data": {
      "text/plain": [
       "-2000.0"
      ]
     },
     "execution_count": 16,
     "metadata": {},
     "output_type": "execute_result"
    }
   ],
   "source": [
    "s1, s2 = np.round(s1, 3), np.round(s2, 3)\n",
    "A, B = np.round(A, 3), np.round(B, 3)\n",
    "print(A, B)\n",
    "s1"
   ]
  },
  {
   "cell_type": "code",
   "execution_count": 18,
   "id": "b4c95bff",
   "metadata": {},
   "outputs": [
    {
     "name": "stdout",
     "output_type": "stream",
     "text": [
      "x(t) = [(3.0 + 6000.0t)exp(-2000.0t) + 0]u(t)\n"
     ]
    }
   ],
   "source": [
    "if caso == 'Caso 1: Sobre amortiguado':\n",
    "    x_de_t      = xf_en_0 + A*np.exp(s1*t) + B*np.exp(s2*t) #Considerando xf como una constante en todos los casos\n",
    "    solucion    = f'x(t)  = [{A}exp({s1}t) + {B}exp({s2}t) + {xf_str}]u(t)'\n",
    "#     x_de_t_en_0 = xf + A + B\n",
    "    x_prima_de_t= (A*s1 + B*s1)*np.exp(s1*t)\n",
    "#     x_prima_de_t_en_0 = A*s1 + B*s2\n",
    "    x_integral  = (A/s1 + B/s2)*np.exp(s1*t)\n",
    "    sol_integr  = f'Sx(t) = [{(F)*(A/s1)}*exp({s1}t) + {(F)*(B/s2)}*exp({s2}t)]u(t)'\n",
    "    \n",
    "elif caso == 'Caso 2: Sub-amortiguado':\n",
    "    x_de_t      = xf_en_0 + (A*np.cos(s1.imag*t) + B*np.sin(s1.imag*t))*np.exp(s1.real*t)\n",
    "    solucion    = f'x(t)    = [[{A}cos({s1.imag}t) + {B}sen({s1.imag}t)]exp({s1.real}t) + {xf_str}]u(t)'\n",
    "#     x_de_t_en_0 = xf + A\n",
    "    x_prima_de_t= xf_prima + ((A*s1.real + B*s1.imag)*np.cos(s1.imag*t) + (B*s1.real - A*s1.imag)*np.sin(s1.imag*t))*np.exp(s1.real*t)\n",
    "#     x_prima_de_t_en_0 = xf + A*s1.real + B*s1.imag\n",
    "    x_integral  = (np.exp(s1.real*t)*(np.sin(s1.imag*t)*(s1.real*B + s1.imag*A) + np.cos(s1.imag*t)*(s1.real*A - s1.imag*B)))/(s1.real**2 + s1.imag**2)\n",
    "    sol_integr  = f'''F*Sx(t) = [(({F*(s1.real*B + s1.imag*A)/(s1.real**2 + s1.imag**2)})sin({s1.imag}t) + ({F*(s1.real*A - s1.imag*B)/(s1.real**2 + s1.imag**2)})cos({s1.imag}t))exp({s1.real}t)]'''\n",
    "else:\n",
    "    caso == 'Caso 3: Criticamente Amortiguado'\n",
    "    x_de_t      = xf_en_0 + (A + B*t)*np.exp(s1*t)\n",
    "    solucion    = f'x(t) = [({A} + {B}t)exp({s1}t) + {xf_str}]u(t)'\n",
    "#     x_de_t_en_0 = xf + A\n",
    "    x_prima_de_t= (A*s1 + B*(1 + t*s1))*np.exp(s1*t)\n",
    "#     x_prima_de_t_en_0 = A*s1 + B\n",
    "    x_integral = (np.exp(s1*t)*(A*s1 + B*(s1*t - 1)))/s1**2\n",
    "print(solucion)\n",
    "# if (xf == 0*t).all():\n",
    "#     print(sol_integr)  "
   ]
  },
  {
   "cell_type": "code",
   "execution_count": 19,
   "id": "72539c63",
   "metadata": {},
   "outputs": [
    {
     "name": "stdout",
     "output_type": "stream",
     "text": [
      "3.0 -2000.0\n"
     ]
    }
   ],
   "source": [
    "print(x_de_t[0], s1)"
   ]
  },
  {
   "cell_type": "code",
   "execution_count": 20,
   "id": "090643df",
   "metadata": {},
   "outputs": [
    {
     "data": {
      "image/png": "[encoded data removed]",
      "text/plain": [
       "<Figure size 504x504 with 1 Axes>"
      ]
     },
     "metadata": {},
     "output_type": "display_data"
    }
   ],
   "source": [
    "plt.style.use('ggplot')\n",
    "plt.figure(figsize=(7, 7))\n",
    "if paralelo:\n",
    "    plt.plot(t,x_de_t,label='Vc (V)')\n",
    "    Il =  x_integral/L\n",
    "    plt.plot(t,Il,label='Ib (A)')\n",
    "else:\n",
    "    plt.plot(t,x_de_t,label='Ib (A)')\n",
    "    Vc = -R*x_de_t - L*x_prima_de_t\n",
    "    plt.plot(t,Vc,label='Vc (V)')\n",
    "plt.xlabel('Time (s)')\n",
    "plt.title(f'Circuito RLC {tipo} - {caso}')\n",
    "plt.legend()\n",
    "plt.show()"
   ]
  },
  {
   "cell_type": "code",
   "execution_count": null,
   "id": "c8577fd5",
   "metadata": {},
   "outputs": [],
   "source": []
  }
 ],
 "metadata": {
  "kernelspec": {
   "display_name": "Python 3 (ipykernel)",
   "language": "python",
   "name": "python3"
  },
  "language_info": {
   "codemirror_mode": {
    "name": "ipython",
    "version": 3
   },
   "file_extension": ".py",
   "mimetype": "text/x-python",
   "name": "python",
   "nbconvert_exporter": "python",
   "pygments_lexer": "ipython3",
   "version": "3.9.6"
  }
 },
 "nbformat": 4,
 "nbformat_minor": 5
}
