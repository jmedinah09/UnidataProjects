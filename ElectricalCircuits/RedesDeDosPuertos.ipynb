{
 "cells": [
  {
   "cell_type": "code",
   "execution_count": 1,
   "id": "7af60090",
   "metadata": {},
   "outputs": [],
   "source": [
    "import numpy as np"
   ]
  },
  {
   "cell_type": "code",
   "execution_count": 3,
   "id": "edcf6f93",
   "metadata": {},
   "outputs": [],
   "source": [
    "# circuito pi un tanquesito"
   ]
  },
  {
   "cell_type": "code",
   "execution_count": 12,
   "id": "350ce03e",
   "metadata": {},
   "outputs": [],
   "source": [
    "#Parametro de impedancia\n",
    "V1  = 0\n",
    "V2  = 0\n",
    "z11 = 0\n",
    "z12 = 0\n",
    "z21 = 0\n",
    "z22 = 0\n",
    "I1  = 0\n",
    "I2  = 0\n",
    "r1  = 0\n",
    "r2  = 0\n",
    "r3  = 0\n",
    "\n",
    "\n",
    "\n",
    "\n",
    "R = [r1, r2, r3]\n",
    "\n",
    "V = [V1, V2]\n",
    "Z = [z11, z12, z21, z22]\n",
    "I = [I1, I2]\n",
    "\n",
    "V1 = [[z11, z12], [I1, I2]]\n",
    "V2 = [[z21, z22], [I1, I2]]"
   ]
  },
  {
   "cell_type": "code",
   "execution_count": 10,
   "id": "491ac53f",
   "metadata": {},
   "outputs": [
    {
     "ename": "ZeroDivisionError",
     "evalue": "division by zero",
     "output_type": "error",
     "traceback": [
      "\u001b[0;31m---------------------------------------------------------------------------\u001b[0m",
      "\u001b[0;31mZeroDivisionError\u001b[0m                         Traceback (most recent call last)",
      "\u001b[0;32m/tmp/ipykernel_24572/1520157945.py\u001b[0m in \u001b[0;36m<module>\u001b[0;34m\u001b[0m\n\u001b[1;32m      1\u001b[0m \u001b[0;31m# I2=0\u001b[0m\u001b[0;34m\u001b[0m\u001b[0;34m\u001b[0m\u001b[0;34m\u001b[0m\u001b[0m\n\u001b[0;32m----> 2\u001b[0;31m \u001b[0mZ\u001b[0m\u001b[0;34m[\u001b[0m\u001b[0;36m0\u001b[0m\u001b[0;34m]\u001b[0m \u001b[0;34m=\u001b[0m \u001b[0mV\u001b[0m\u001b[0;34m[\u001b[0m\u001b[0;36m0\u001b[0m\u001b[0;34m]\u001b[0m\u001b[0;34m/\u001b[0m\u001b[0mI\u001b[0m\u001b[0;34m[\u001b[0m\u001b[0;36m0\u001b[0m\u001b[0;34m]\u001b[0m\u001b[0;34m\u001b[0m\u001b[0;34m\u001b[0m\u001b[0m\n\u001b[0m\u001b[1;32m      3\u001b[0m \u001b[0mZ\u001b[0m\u001b[0;34m[\u001b[0m\u001b[0;36m2\u001b[0m\u001b[0;34m]\u001b[0m \u001b[0;34m=\u001b[0m \u001b[0mV\u001b[0m\u001b[0;34m[\u001b[0m\u001b[0;36m1\u001b[0m\u001b[0;34m]\u001b[0m\u001b[0;34m/\u001b[0m\u001b[0mI\u001b[0m\u001b[0;34m[\u001b[0m\u001b[0;36m0\u001b[0m\u001b[0;34m]\u001b[0m\u001b[0;34m\u001b[0m\u001b[0;34m\u001b[0m\u001b[0m\n\u001b[1;32m      4\u001b[0m \u001b[0;34m\u001b[0m\u001b[0m\n\u001b[1;32m      5\u001b[0m \u001b[0;31m# I1=0\u001b[0m\u001b[0;34m\u001b[0m\u001b[0;34m\u001b[0m\u001b[0;34m\u001b[0m\u001b[0m\n",
      "\u001b[0;31mZeroDivisionError\u001b[0m: division by zero"
     ]
    }
   ],
   "source": [
    "# I2=0\n",
    "Z[0] = V[0]/I[0]\n",
    "Z[2] = V[1]/I[0]\n",
    "\n",
    "# I1=0\n",
    "Z[1] = V[0]/I[1]\n",
    "Z[3] = V[1]/I[1]\n"
   ]
  },
  {
   "cell_type": "code",
   "execution_count": 48,
   "id": "aa2d6bcf",
   "metadata": {},
   "outputs": [
    {
     "name": "stdout",
     "output_type": "stream",
     "text": [
      "r1 = 20\n",
      "r2 = 40\n",
      "r3 = 30\n",
      "[z] = [60  40]\n",
      "      [40  70]\n",
      "0.0\n"
     ]
    }
   ],
   "source": [
    "def solver(a, b, c, d, zetas=True):\n",
    "    \n",
    "    if zetas:\n",
    "        z11=a\n",
    "        z12=b\n",
    "        z21=c\n",
    "        z22=d\n",
    "        \n",
    "        r1 = z11 - z12\n",
    "        r2 = z12\n",
    "        r3 = z22 - z21\n",
    "    else:\n",
    "        r1 = a\n",
    "        r2 = b\n",
    "        r3 = c\n",
    "        \n",
    "        z11 = r1 + r2\n",
    "        z21 = r2      #si la red es reciproca, z12 = z21\n",
    "        z12 = r2      #si la red es reciproca, z12 = z21\n",
    "        z22 = r2 + r3\n",
    "        \n",
    "    print(f'r1 = {r1}\\nr2 = {r2}\\nr3 = {r3}')\n",
    "    print(f'[z] = [{z11}  {z12}]\\n      [{z21}  {z22}]')\n",
    "    \n",
    "    return np.linalg.solve([\n",
    "                                                [1, 0, -z11, 0], \n",
    "                                                [1, 0, 0, z21], \n",
    "                                                [0, 1, z21, 0], \n",
    "                                                [0, 1, 0, -z22]\n",
    "                                            ],\n",
    "                                                [0, 0, 0, 0])  \n",
    "a = 20 # z11 o r1\n",
    "b = 40 # z12 o r2\n",
    "c = 30 # z21 o r3\n",
    "d = 50 # z22 \n",
    "\n",
    "zetas=False\n",
    "\n",
    "v1, v2, I1, I2  = solver(a=a, b=b, c=c, d=d, zetas=zetas)\n",
    "print(I1)\n",
    "\n"
   ]
  },
  {
   "cell_type": "code",
   "execution_count": 37,
   "id": "c4788669",
   "metadata": {},
   "outputs": [
    {
     "name": "stdout",
     "output_type": "stream",
     "text": [
      "[z] = [60  40]\n",
      "      [40  70]\n",
      "0.0\n"
     ]
    },
    {
     "data": {
      "text/plain": [
       "array([[  1,   0, -60,   0],\n",
       "       [  1,   0,   0,  40],\n",
       "       [  0,   1,  40,   0],\n",
       "       [  0,   1,   0, -70]])"
      ]
     },
     "execution_count": 37,
     "metadata": {},
     "output_type": "execute_result"
    }
   ],
   "source": [
    "#Si tienes los erres y te piden los ztas...\n",
    "\n",
    "r1  = 20\n",
    "r2  = 40\n",
    "r3  = 30\n",
    "\n",
    "\n",
    "z11 = r1 + r2\n",
    "z21 = r2      #si la red es reciproca, z12 = z21\n",
    "\n",
    "z12 = r2      #si la red es reciproca, z12 = z21\n",
    "z22 = r2 + r3\n",
    "\n",
    "# print(f'z11 = {z11}\\nz12 = {z12}\\nz21 = {z21}\\nz22 = {z22}')\n",
    "print(f'[z] = [{z11}  {z12}]\\n      [{z21}  {z22}]')\n",
    "\n",
    "coeff_a = [1, 0, -z11, 0]\n",
    "coeff_b = [1, 0, 0, z21]\n",
    "coeff_c = [0, 1, z21, 0]\n",
    "coeff_d = [0, 1, 0, -z22]\n",
    "\n",
    "coeff_A = np.array([\n",
    "                        [1, 0, -z11, 0], \n",
    "                        [1, 0, 0, z21], \n",
    "                        [0, 1, z21, 0], \n",
    "                        [0, 1, 0, -z22]\n",
    "                    ])\n",
    "\n",
    "#coeff_A = np.array([coeff_a, coeff_b, coeff_c, coeff_d])\n",
    "\n",
    "\n",
    "\n",
    "coeff_B = np.array([0, 0, 0, 0])\n",
    "\n",
    "X = np.linalg.solve(coeff_A, coeff_B)\n",
    "\n",
    "v1, v2, I1, I2 = X\n",
    "\n",
    "print(I1)\n",
    "\n",
    "coeff_A"
   ]
  },
  {
   "cell_type": "code",
   "execution_count": null,
   "id": "80a9d3e2",
   "metadata": {},
   "outputs": [],
   "source": [
    "#Si tienes los ztas y te piden los erres...\n",
    "r1 = z11 - z12\n",
    "r2 = z12\n",
    "r3 = z22 - z21\n",
    "\n",
    "\n",
    "\n",
    "\n",
    "\n",
    "X = np.linalg.solve(coeff_A, coeff_B)\n",
    "A, B = X"
   ]
  }
 ],
 "metadata": {
  "kernelspec": {
   "display_name": "Python 3 (ipykernel)",
   "language": "python",
   "name": "python3"
  },
  "language_info": {
   "codemirror_mode": {
    "name": "ipython",
    "version": 3
   },
   "file_extension": ".py",
   "mimetype": "text/x-python",
   "name": "python",
   "nbconvert_exporter": "python",
   "pygments_lexer": "ipython3",
   "version": "3.9.6"
  }
 },
 "nbformat": 4,
 "nbformat_minor": 5
}
