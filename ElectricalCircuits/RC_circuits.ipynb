{
 "cells": [
  {
   "cell_type": "code",
   "execution_count": 1,
   "id": "06664468",
   "metadata": {},
   "outputs": [],
   "source": [
    "import math\n",
    "import cmath\n"
   ]
  },
  {
   "cell_type": "code",
   "execution_count": 9,
   "id": "f8a5d59a",
   "metadata": {},
   "outputs": [
    {
     "name": "stdout",
     "output_type": "stream",
     "text": [
      "(-0.5+0j) (-2+0j)\n"
     ]
    }
   ],
   "source": [
    "a = 1\n",
    "b = 2.5\n",
    "c = 1\n",
    "x1 = -b/(2*a) + (cmath.sqrt(b**2 - 4*a*c))/(2*a)\n",
    "x2 = -b/(2*a) - (cmath.sqrt(b**2 - 4*a*c))/(2*a)\n",
    "\n",
    "print(x1, x2)"
   ]
  },
  {
   "cell_type": "code",
   "execution_count": 12,
   "id": "101b2d8c",
   "metadata": {},
   "outputs": [
    {
     "data": {
      "text/plain": [
       "500.0"
      ]
     },
     "execution_count": 12,
     "metadata": {},
     "output_type": "execute_result"
    }
   ],
   "source": [
    "#alpha en RLC paralelo\n",
    "#a = 1/2RC\n",
    "\n",
    "R = 5\n",
    "C = 200*10**-6\n",
    "a = 1/(2*R*C)\n",
    "a"
   ]
  },
  {
   "cell_type": "code",
   "execution_count": 13,
   "id": "57f0fc60",
   "metadata": {},
   "outputs": [
    {
     "data": {
      "text/plain": [
       "500.0"
      ]
     },
     "execution_count": 13,
     "metadata": {},
     "output_type": "execute_result"
    }
   ],
   "source": [
    "#w0 en RLC paralelo\n",
    "#w0 = 1/(2LC)**0.5\n",
    "L = 20*10**-3\n",
    "w_0 = 1/(L*C)**0.5\n",
    "w_0"
   ]
  },
  {
   "cell_type": "code",
   "execution_count": null,
   "id": "d9721847",
   "metadata": {},
   "outputs": [],
   "source": []
  }
 ],
 "metadata": {
  "kernelspec": {
   "display_name": "Python 3 (ipykernel)",
   "language": "python",
   "name": "python3"
  },
  "language_info": {
   "codemirror_mode": {
    "name": "ipython",
    "version": 3
   },
   "file_extension": ".py",
   "mimetype": "text/x-python",
   "name": "python",
   "nbconvert_exporter": "python",
   "pygments_lexer": "ipython3",
   "version": "3.9.6"
  }
 },
 "nbformat": 4,
 "nbformat_minor": 5
}
