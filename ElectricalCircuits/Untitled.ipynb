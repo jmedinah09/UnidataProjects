{
 "cells": [
  {
   "cell_type": "code",
   "execution_count": 1,
   "id": "78851798",
   "metadata": {},
   "outputs": [],
   "source": [
    "import numpy as np"
   ]
  },
  {
   "cell_type": "code",
   "execution_count": 10,
   "id": "75e17e61",
   "metadata": {},
   "outputs": [
    {
     "data": {
      "text/plain": [
       "11.299999999999997"
      ]
     },
     "execution_count": 10,
     "metadata": {},
     "output_type": "execute_result"
    }
   ],
   "source": [
    "V, thetav = 340, 60\n",
    "\n",
    "I, thetai = 13.3, 48.7\n",
    "\n",
    "thetaDiff = thetav - thetai\n",
    "thetaDiff"
   ]
  },
  {
   "cell_type": "code",
   "execution_count": 20,
   "id": "c5a7e064",
   "metadata": {},
   "outputs": [
    {
     "data": {
      "text/plain": [
       "2217.1697429738915"
      ]
     },
     "execution_count": 20,
     "metadata": {},
     "output_type": "execute_result"
    }
   ],
   "source": [
    "#Potencia Activa o Promedio\n",
    "P = (V/np.sqrt(2))*(I/np.sqrt(2))*np.cos(np.deg2rad(thetaDiff))\n",
    "P"
   ]
  },
  {
   "cell_type": "code",
   "execution_count": 21,
   "id": "77d1bf8e",
   "metadata": {},
   "outputs": [
    {
     "data": {
      "text/plain": [
       "-443.0342321323323"
      ]
     },
     "execution_count": 21,
     "metadata": {},
     "output_type": "execute_result"
    }
   ],
   "source": [
    "#Potencia Reactiva\n",
    "Q = (V/np.sqrt(2))*(I/np.sqrt(2))*np.sin(np.deg2rad(-thetaDiff))\n",
    "Q"
   ]
  },
  {
   "cell_type": "code",
   "execution_count": 23,
   "id": "5f9cfa7a",
   "metadata": {},
   "outputs": [
    {
     "data": {
      "text/plain": [
       "(2260.9999999999995, -11.299999999999997)"
      ]
     },
     "execution_count": 23,
     "metadata": {},
     "output_type": "execute_result"
    }
   ],
   "source": [
    "#Potencia Aparente o Compleja\n",
    "S = np.sqrt((P)**2 + (Q)**2), -thetaDiff\n",
    "S"
   ]
  },
  {
   "cell_type": "code",
   "execution_count": 26,
   "id": "065ea748",
   "metadata": {},
   "outputs": [
    {
     "name": "stderr",
     "output_type": "stream",
     "text": [
      "/tmp/ipykernel_8234/3614303513.py:4: RuntimeWarning: invalid value encountered in double_scalars\n",
      "  K = M/np.sqrt(L1*L2)\n"
     ]
    }
   ],
   "source": [
    "K = 0\n",
    "M = 0\n",
    "L1, L2 = 0, 0\n",
    "K = M/np.sqrt(L1*L2)"
   ]
  },
  {
   "cell_type": "code",
   "execution_count": null,
   "id": "8a554e32",
   "metadata": {},
   "outputs": [],
   "source": [
    "K = 0\n",
    "M = 0\n",
    "L1, L2 = 0, 0\n",
    "M = K*np.sqrt(L1*L2)"
   ]
  },
  {
   "cell_type": "code",
   "execution_count": 40,
   "id": "b94a2f5f",
   "metadata": {},
   "outputs": [],
   "source": [
    "n = 4\n",
    "pi = np.pi\n",
    "\n",
    "An = ((6/n*pi)*(np.sin(np.rad2deg((2/3)*n*pi)))/np.sqrt((4*n*pi)**2 + (((4/3)*n**2*pi**2- 6))**2))\n",
    "An"
   ]
  },
  {
   "cell_type": "code",
   "execution_count": 88,
   "id": "b26c7ce8",
   "metadata": {},
   "outputs": [
    {
     "name": "stdout",
     "output_type": "stream",
     "text": [
      "[2.54647909 8.37758041 0.50929582]\n"
     ]
    },
    {
     "name": "stderr",
     "output_type": "stream",
     "text": [
      "/tmp/ipykernel_7809/2436719546.py:23: RuntimeWarning: divide by zero encountered in true_divide\n",
      "  thetan = np.arctan(-bn/an)\n"
     ]
    },
    {
     "data": {
      "text/plain": [
       "array([-1.57079633, -1.57079633, -1.57079633])"
      ]
     },
     "execution_count": 88,
     "metadata": {},
     "output_type": "execute_result"
    }
   ],
   "source": [
    "pi = np.pi\n",
    "\n",
    "w = 10*pi\n",
    "\n",
    "a0 = 0\n",
    "\n",
    "a1 = 0\n",
    "a2 = 0\n",
    "a3 = 0\n",
    "a4 = 0\n",
    "\n",
    "b1 = 8/pi\n",
    "b2 = 8/3*pi\n",
    "b3 = 8/(5*pi)\n",
    "b4 = 0\n",
    "\n",
    "an = np.array([a1, a2, a3])\n",
    "bn = np.array([b1, b2, b3])\n",
    "\n",
    "cn = np.sqrt(an**2 + bn**2)\n",
    "print(cn)\n",
    "\n",
    "thetan = np.arctan(-bn/an)\n",
    "thetan"
   ]
  },
  {
   "cell_type": "code",
   "execution_count": 89,
   "id": "a367a41f",
   "metadata": {},
   "outputs": [
    {
     "name": "stdout",
     "output_type": "stream",
     "text": [
      "c0 = 0.0\n",
      "c1 = 2.546*cos((31.416)*t + (-1.571))\n",
      "c2 = 8.378*cos((62.832)*t + (-1.571))\n",
      "c3 = 0.509*cos((94.248)*t + (-1.571))\n"
     ]
    }
   ],
   "source": [
    "print(f'c0 = {a0/2}')\n",
    "for i in range(len(an)):\n",
    "    n = i + 1\n",
    "    print(f'c{i+1} = {np.round(cn[i], 3)}*cos(({np.round(n*w, 3)})*t + ({np.round(thetan[i], 3)}))')"
   ]
  },
  {
   "cell_type": "code",
   "execution_count": 91,
   "id": "45bd7b14",
   "metadata": {},
   "outputs": [
    {
     "name": "stdout",
     "output_type": "stream",
     "text": [
      "c2 = 8.378*cos((62.832)*t + (-1.571))\n"
     ]
    },
    {
     "ename": "IndexError",
     "evalue": "index 3 is out of bounds for axis 0 with size 3",
     "output_type": "error",
     "traceback": [
      "\u001b[0;31m---------------------------------------------------------------------------\u001b[0m",
      "\u001b[0;31mIndexError\u001b[0m                                Traceback (most recent call last)",
      "\u001b[0;32m/tmp/ipykernel_7809/3838501978.py\u001b[0m in \u001b[0;36m<module>\u001b[0;34m\u001b[0m\n\u001b[1;32m      1\u001b[0m \u001b[0;32mfor\u001b[0m \u001b[0mi\u001b[0m \u001b[0;32min\u001b[0m \u001b[0mrange\u001b[0m\u001b[0;34m(\u001b[0m\u001b[0;36m1\u001b[0m\u001b[0;34m,\u001b[0m \u001b[0;36m6\u001b[0m\u001b[0;34m,\u001b[0m \u001b[0;36m2\u001b[0m\u001b[0;34m)\u001b[0m\u001b[0;34m:\u001b[0m\u001b[0;34m\u001b[0m\u001b[0;34m\u001b[0m\u001b[0m\n\u001b[1;32m      2\u001b[0m     \u001b[0mn\u001b[0m \u001b[0;34m=\u001b[0m \u001b[0mi\u001b[0m \u001b[0;34m+\u001b[0m \u001b[0;36m1\u001b[0m\u001b[0;34m\u001b[0m\u001b[0;34m\u001b[0m\u001b[0m\n\u001b[0;32m----> 3\u001b[0;31m     \u001b[0mprint\u001b[0m\u001b[0;34m(\u001b[0m\u001b[0;34mf'c{i+1} = {np.round(cn[i], 3)}*cos(({np.round(n*w, 3)})*t + ({np.round(thetan[i], 3)}))'\u001b[0m\u001b[0;34m)\u001b[0m\u001b[0;34m\u001b[0m\u001b[0;34m\u001b[0m\u001b[0m\n\u001b[0m",
      "\u001b[0;31mIndexError\u001b[0m: index 3 is out of bounds for axis 0 with size 3"
     ]
    }
   ],
   "source": [
    "for i in range(1, 6, 2):\n",
    "    n = i + 1\n",
    "    print(f'c{i+1} = {np.round(cn[i], 3)}*cos(({np.round(n*w, 3)})*t + ({np.round(thetan[i], 3)}))')"
   ]
  },
  {
   "cell_type": "code",
   "execution_count": 2,
   "id": "6b559004",
   "metadata": {},
   "outputs": [
    {
     "name": "stdout",
     "output_type": "stream",
     "text": [
      "Collecting package metadata (current_repodata.json): done\n",
      "Solving environment: failed with initial frozen solve. Retrying with flexible solve.\n",
      "Collecting package metadata (repodata.json): done\n",
      "Solving environment: failed with initial frozen solve. Retrying with flexible solve.\n",
      "\n",
      "PackagesNotFoundError: The following packages are not available from current channels:\n",
      "\n",
      "  - pywifi\n",
      "\n",
      "Current channels:\n",
      "\n",
      "  - https://conda.anaconda.org/conda-forge/linux-64\n",
      "  - https://conda.anaconda.org/conda-forge/noarch\n",
      "  - https://repo.anaconda.com/pkgs/main/linux-64\n",
      "  - https://repo.anaconda.com/pkgs/main/noarch\n",
      "  - https://repo.anaconda.com/pkgs/r/linux-64\n",
      "  - https://repo.anaconda.com/pkgs/r/noarch\n",
      "\n",
      "To search for alternate channels that may provide the conda package you're\n",
      "looking for, navigate to\n",
      "\n",
      "    https://anaconda.org\n",
      "\n",
      "and use the search bar at the top of the page.\n",
      "\n",
      "\n",
      "\n",
      "Note: you may need to restart the kernel to use updated packages.\n"
     ]
    }
   ],
   "source": [
    "conda install pywifi"
   ]
  },
  {
   "cell_type": "code",
   "execution_count": null,
   "id": "a68df628",
   "metadata": {},
   "outputs": [],
   "source": []
  }
 ],
 "metadata": {
  "kernelspec": {
   "display_name": "Python 3 (ipykernel)",
   "language": "python",
   "name": "python3"
  },
  "language_info": {
   "codemirror_mode": {
    "name": "ipython",
    "version": 3
   },
   "file_extension": ".py",
   "mimetype": "text/x-python",
   "name": "python",
   "nbconvert_exporter": "python",
   "pygments_lexer": "ipython3",
   "version": "3.9.6"
  }
 },
 "nbformat": 4,
 "nbformat_minor": 5
}
