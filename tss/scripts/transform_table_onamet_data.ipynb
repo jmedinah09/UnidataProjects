{
 "cells": [
  {
   "cell_type": "code",
   "execution_count": 1,
   "id": "86b1e116-b043-4d23-9b7d-c5a2f96fdbd1",
   "metadata": {},
   "outputs": [
    {
     "data": {
      "text/html": [
       "<div>\n",
       "<style scoped>\n",
       "    .dataframe tbody tr th:only-of-type {\n",
       "        vertical-align: middle;\n",
       "    }\n",
       "\n",
       "    .dataframe tbody tr th {\n",
       "        vertical-align: top;\n",
       "    }\n",
       "\n",
       "    .dataframe thead th {\n",
       "        text-align: right;\n",
       "    }\n",
       "</style>\n",
       "<table border=\"1\" class=\"dataframe\">\n",
       "  <thead>\n",
       "    <tr style=\"text-align: right;\">\n",
       "      <th></th>\n",
       "      <th>YEAR</th>\n",
       "      <th>DAY</th>\n",
       "      <th>ENE</th>\n",
       "      <th>FEB</th>\n",
       "      <th>MAR</th>\n",
       "      <th>ABR</th>\n",
       "      <th>MAY</th>\n",
       "      <th>JUN</th>\n",
       "      <th>JUL</th>\n",
       "      <th>AGO</th>\n",
       "      <th>SEP</th>\n",
       "      <th>OCT</th>\n",
       "      <th>NOV</th>\n",
       "      <th>DIC</th>\n",
       "    </tr>\n",
       "  </thead>\n",
       "  <tbody>\n",
       "    <tr>\n",
       "      <th>0</th>\n",
       "      <td>1960</td>\n",
       "      <td>1</td>\n",
       "      <td>30.6</td>\n",
       "      <td>27.8</td>\n",
       "      <td>30.2</td>\n",
       "      <td>30.4</td>\n",
       "      <td>-</td>\n",
       "      <td>28.6</td>\n",
       "      <td>31.6</td>\n",
       "      <td>32.5</td>\n",
       "      <td>32.4</td>\n",
       "      <td>32</td>\n",
       "      <td>30.2</td>\n",
       "      <td>28.8</td>\n",
       "    </tr>\n",
       "    <tr>\n",
       "      <th>1</th>\n",
       "      <td>1960</td>\n",
       "      <td>2</td>\n",
       "      <td>32</td>\n",
       "      <td>30.5</td>\n",
       "      <td>32</td>\n",
       "      <td>30.2</td>\n",
       "      <td>30.2</td>\n",
       "      <td>31.5</td>\n",
       "      <td>31.5</td>\n",
       "      <td>29.2</td>\n",
       "      <td>31.4</td>\n",
       "      <td>32.6</td>\n",
       "      <td>30</td>\n",
       "      <td>27.5</td>\n",
       "    </tr>\n",
       "    <tr>\n",
       "      <th>2</th>\n",
       "      <td>1960</td>\n",
       "      <td>3</td>\n",
       "      <td>30</td>\n",
       "      <td>30.5</td>\n",
       "      <td>29.5</td>\n",
       "      <td>30.5</td>\n",
       "      <td>31</td>\n",
       "      <td>30.6</td>\n",
       "      <td>32</td>\n",
       "      <td>31.8</td>\n",
       "      <td>32.6</td>\n",
       "      <td>32.5</td>\n",
       "      <td>30.2</td>\n",
       "      <td>26</td>\n",
       "    </tr>\n",
       "    <tr>\n",
       "      <th>3</th>\n",
       "      <td>1960</td>\n",
       "      <td>4</td>\n",
       "      <td>31</td>\n",
       "      <td>31.3</td>\n",
       "      <td>30</td>\n",
       "      <td>30.9</td>\n",
       "      <td>31.5</td>\n",
       "      <td>31</td>\n",
       "      <td>31.8</td>\n",
       "      <td>31</td>\n",
       "      <td>33</td>\n",
       "      <td>31.6</td>\n",
       "      <td>30.4</td>\n",
       "      <td>26.6</td>\n",
       "    </tr>\n",
       "    <tr>\n",
       "      <th>4</th>\n",
       "      <td>1960</td>\n",
       "      <td>5</td>\n",
       "      <td>30.2</td>\n",
       "      <td>31.4</td>\n",
       "      <td>29.5</td>\n",
       "      <td>29.4</td>\n",
       "      <td>30.8</td>\n",
       "      <td>31.5</td>\n",
       "      <td>31</td>\n",
       "      <td>31.3</td>\n",
       "      <td>34.2</td>\n",
       "      <td>31.2</td>\n",
       "      <td>30.5</td>\n",
       "      <td>27</td>\n",
       "    </tr>\n",
       "  </tbody>\n",
       "</table>\n",
       "</div>"
      ],
      "text/plain": [
       "   YEAR DAY   ENE   FEB   MAR   ABR   MAY   JUN   JUL   AGO   SEP   OCT   NOV  \\\n",
       "0  1960   1  30.6  27.8  30.2  30.4     -  28.6  31.6  32.5  32.4    32  30.2   \n",
       "1  1960   2    32  30.5    32  30.2  30.2  31.5  31.5  29.2  31.4  32.6    30   \n",
       "2  1960   3    30  30.5  29.5  30.5    31  30.6    32  31.8  32.6  32.5  30.2   \n",
       "3  1960   4    31  31.3    30  30.9  31.5    31  31.8    31    33  31.6  30.4   \n",
       "4  1960   5  30.2  31.4  29.5  29.4  30.8  31.5    31  31.3  34.2  31.2  30.5   \n",
       "\n",
       "    DIC  \n",
       "0  28.8  \n",
       "1  27.5  \n",
       "2    26  \n",
       "3  26.6  \n",
       "4    27  "
      ]
     },
     "execution_count": 1,
     "metadata": {},
     "output_type": "execute_result"
    }
   ],
   "source": [
    "import pandas as pd\n",
    "from datetime import datetime\n",
    "import numpy as np\n",
    "from dateutil.parser import parse #https://stackoverflow.com/questions/40121822/extracting-year-from-string-in-python\n",
    "pd.set_option(\"display.max_rows\", 999) # To control the number of rows to be display while working with the dataframe\n",
    "\n",
    "data_list = []\n",
    "with open('../LA_LC_data-csv.csv', 'r', encoding=\"ISO-8859-1\") as f: #An error raises if this encoding is not specify\n",
    "    for line in f.readlines():\n",
    "        # print(line)\n",
    "        new_line = line.replace(',,,,,,,,,,,,', '') #To better display the output... not needed in the end, should be dropped\n",
    "        # print(new_line)\n",
    "        if new_line.startswith('DATOS DIARIOS'): #grepping this line in order to extract the year\n",
    "            # print(new_line)\n",
    "            yy = parse(new_line, fuzzy=True).year\n",
    "            # print(yy)\n",
    "        elif new_line[0].isdigit():\n",
    "            data_line = new_line.split(',')\n",
    "#             # print(data_line)\n",
    "#             # data_line.pop(0)\n",
    "            data_line[-1] = data_line[-1].replace('\\n', '')\n",
    "            # print(data_line)\n",
    "            DAY, ENE, FEB, MAR, ABR, MAY, JUN, JUL, AGO, SEP, OCT, NOV, DIC = data_line #Unpacking the list into its corresponding fields\n",
    "            data_list.append([yy, DAY, ENE, FEB, MAR, ABR, MAY, JUN, JUL, AGO, SEP, OCT, NOV, DIC])\n",
    "            \n",
    "df = pd.DataFrame(data_list, columns = [\n",
    "                                   'YEAR', 'DAY', 'ENE', 'FEB', 'MAR', 'ABR', \n",
    "                                   'MAY', 'JUN',  'JUL', 'AGO', 'SEP', 'OCT', 'NOV', 'DIC'\n",
    "                                       ] )\n",
    "df.head()         "
   ]
  },
  {
   "cell_type": "code",
   "execution_count": 2,
   "id": "7aada5d6-27e9-402b-9009-0b150e86e280",
   "metadata": {},
   "outputs": [
    {
     "data": {
      "text/html": [
       "<div>\n",
       "<style scoped>\n",
       "    .dataframe tbody tr th:only-of-type {\n",
       "        vertical-align: middle;\n",
       "    }\n",
       "\n",
       "    .dataframe tbody tr th {\n",
       "        vertical-align: top;\n",
       "    }\n",
       "\n",
       "    .dataframe thead th {\n",
       "        text-align: right;\n",
       "    }\n",
       "</style>\n",
       "<table border=\"1\" class=\"dataframe\">\n",
       "  <thead>\n",
       "    <tr style=\"text-align: right;\">\n",
       "      <th></th>\n",
       "      <th>YEAR</th>\n",
       "      <th>MONTH</th>\n",
       "      <th>DAY</th>\n",
       "      <th>TMAX</th>\n",
       "      <th>MONTH_NUM</th>\n",
       "    </tr>\n",
       "  </thead>\n",
       "  <tbody>\n",
       "    <tr>\n",
       "      <th>0</th>\n",
       "      <td>1960</td>\n",
       "      <td>ENE</td>\n",
       "      <td>1</td>\n",
       "      <td>30.6</td>\n",
       "      <td>1</td>\n",
       "    </tr>\n",
       "    <tr>\n",
       "      <th>1</th>\n",
       "      <td>1960</td>\n",
       "      <td>ENE</td>\n",
       "      <td>2</td>\n",
       "      <td>32</td>\n",
       "      <td>1</td>\n",
       "    </tr>\n",
       "    <tr>\n",
       "      <th>2</th>\n",
       "      <td>1960</td>\n",
       "      <td>ENE</td>\n",
       "      <td>3</td>\n",
       "      <td>30</td>\n",
       "      <td>1</td>\n",
       "    </tr>\n",
       "    <tr>\n",
       "      <th>3</th>\n",
       "      <td>1960</td>\n",
       "      <td>ENE</td>\n",
       "      <td>4</td>\n",
       "      <td>31</td>\n",
       "      <td>1</td>\n",
       "    </tr>\n",
       "    <tr>\n",
       "      <th>4</th>\n",
       "      <td>1960</td>\n",
       "      <td>ENE</td>\n",
       "      <td>5</td>\n",
       "      <td>30.2</td>\n",
       "      <td>1</td>\n",
       "    </tr>\n",
       "  </tbody>\n",
       "</table>\n",
       "</div>"
      ],
      "text/plain": [
       "   YEAR MONTH DAY  TMAX MONTH_NUM\n",
       "0  1960   ENE   1  30.6         1\n",
       "1  1960   ENE   2    32         1\n",
       "2  1960   ENE   3    30         1\n",
       "3  1960   ENE   4    31         1\n",
       "4  1960   ENE   5  30.2         1"
      ]
     },
     "execution_count": 2,
     "metadata": {},
     "output_type": "execute_result"
    }
   ],
   "source": [
    "df2 = pd.DataFrame(columns=['YEAR', 'MONTH', 'DAY', 'TMAX'])\n",
    "data = []\n",
    "months = ['ENE', 'FEB', 'MAR', 'ABR', 'MAY', 'JUN',  'JUL', 'AGO', 'SEP', 'OCT', 'NOV', 'DIC']\n",
    "grp_df = df.groupby(['YEAR'])\n",
    "for year in range(1960, 2022, 1):\n",
    "    # print(year)\n",
    "    yr = grp_df.get_group(year) #yr is a dataframe containing the data for a single year like in the original file\n",
    "    # print(yr)\n",
    "    for month in months:\n",
    "        # print(yr[month])\n",
    "        for t, d in zip(yr[month], yr['DAY']):\n",
    "            data.append([year, month, d, t])\n",
    "df2 = pd.DataFrame(data, columns = [\n",
    "                                   'YEAR', 'MONTH', 'DAY', 'TMAX'\n",
    "                                 ] )\n",
    "\n",
    "# df2.head()\n",
    "df2['MONTH_NUM'] = df2['MONTH']\n",
    "df2['MONTH_NUM'] = df2['MONTH_NUM'].replace('ENE', '1')\n",
    "df2['MONTH_NUM'] = df2['MONTH_NUM'].replace('FEB', '2')\n",
    "df2['MONTH_NUM'] = df2['MONTH_NUM'].replace('MAR', '3')\n",
    "df2['MONTH_NUM'] = df2['MONTH_NUM'].replace('ABR', '4')\n",
    "df2['MONTH_NUM'] = df2['MONTH_NUM'].replace('MAY', '5')\n",
    "df2['MONTH_NUM'] = df2['MONTH_NUM'].replace('JUN', '6')\n",
    "df2['MONTH_NUM'] = df2['MONTH_NUM'].replace('JUL', '7')\n",
    "df2['MONTH_NUM'] = df2['MONTH_NUM'].replace('AGO', '8')\n",
    "df2['MONTH_NUM'] = df2['MONTH_NUM'].replace('SEP', '9')\n",
    "df2['MONTH_NUM'] = df2['MONTH_NUM'].replace('OCT', '10')\n",
    "df2['MONTH_NUM'] = df2['MONTH_NUM'].replace('NOV', '11')\n",
    "df2['MONTH_NUM'] = df2['MONTH_NUM'].replace('DIC', '12')\n",
    "\n",
    "df2.reset_index()\n",
    "df2.head()"
   ]
  },
  {
   "cell_type": "code",
   "execution_count": 3,
   "id": "10f7ca86-84c6-4fad-828d-008c0e18d35e",
   "metadata": {},
   "outputs": [],
   "source": [
    "# df2['YEAR'] = df2['YEAR'].map(str)\n",
    "# df2['DAY']  = df2['DAY'].map(str)\n",
    "# df2['MONTH'] = df2['MONTH_NUM']\n",
    "# pd.to_datetime(df2[[\"YEAR\", \"MONTH\", \"DAY\"]], errors=\"coerce\").head(200)"
   ]
  },
  {
   "cell_type": "code",
   "execution_count": 4,
   "id": "e1a0106d-50ab-465d-99fa-26ca5fd57d00",
   "metadata": {},
   "outputs": [
    {
     "data": {
      "text/html": [
       "<div>\n",
       "<style scoped>\n",
       "    .dataframe tbody tr th:only-of-type {\n",
       "        vertical-align: middle;\n",
       "    }\n",
       "\n",
       "    .dataframe tbody tr th {\n",
       "        vertical-align: top;\n",
       "    }\n",
       "\n",
       "    .dataframe thead th {\n",
       "        text-align: right;\n",
       "    }\n",
       "</style>\n",
       "<table border=\"1\" class=\"dataframe\">\n",
       "  <thead>\n",
       "    <tr style=\"text-align: right;\">\n",
       "      <th></th>\n",
       "      <th>DATE</th>\n",
       "      <th>YEAR</th>\n",
       "      <th>MONTH</th>\n",
       "      <th>MONTH_NUM</th>\n",
       "      <th>DAY</th>\n",
       "      <th>TMAX</th>\n",
       "    </tr>\n",
       "  </thead>\n",
       "  <tbody>\n",
       "    <tr>\n",
       "      <th>0</th>\n",
       "      <td>1960-01-01</td>\n",
       "      <td>1960</td>\n",
       "      <td>ENE</td>\n",
       "      <td>1</td>\n",
       "      <td>1</td>\n",
       "      <td>30.6</td>\n",
       "    </tr>\n",
       "    <tr>\n",
       "      <th>1</th>\n",
       "      <td>1960-01-02</td>\n",
       "      <td>1960</td>\n",
       "      <td>ENE</td>\n",
       "      <td>1</td>\n",
       "      <td>2</td>\n",
       "      <td>32</td>\n",
       "    </tr>\n",
       "    <tr>\n",
       "      <th>2</th>\n",
       "      <td>1960-01-03</td>\n",
       "      <td>1960</td>\n",
       "      <td>ENE</td>\n",
       "      <td>1</td>\n",
       "      <td>3</td>\n",
       "      <td>30</td>\n",
       "    </tr>\n",
       "    <tr>\n",
       "      <th>3</th>\n",
       "      <td>1960-01-04</td>\n",
       "      <td>1960</td>\n",
       "      <td>ENE</td>\n",
       "      <td>1</td>\n",
       "      <td>4</td>\n",
       "      <td>31</td>\n",
       "    </tr>\n",
       "    <tr>\n",
       "      <th>4</th>\n",
       "      <td>1960-01-05</td>\n",
       "      <td>1960</td>\n",
       "      <td>ENE</td>\n",
       "      <td>1</td>\n",
       "      <td>5</td>\n",
       "      <td>30.2</td>\n",
       "    </tr>\n",
       "  </tbody>\n",
       "</table>\n",
       "</div>"
      ],
      "text/plain": [
       "        DATE  YEAR MONTH MONTH_NUM DAY  TMAX\n",
       "0 1960-01-01  1960   ENE         1   1  30.6\n",
       "1 1960-01-02  1960   ENE         1   2    32\n",
       "2 1960-01-03  1960   ENE         1   3    30\n",
       "3 1960-01-04  1960   ENE         1   4    31\n",
       "4 1960-01-05  1960   ENE         1   5  30.2"
      ]
     },
     "execution_count": 4,
     "metadata": {},
     "output_type": "execute_result"
    }
   ],
   "source": [
    "df2['YEAR'] = df2['YEAR'].map(str)\n",
    "df2['DAY']  = df2['DAY'].map(str)\n",
    "dt_list = []\n",
    "for year, month, day in zip(df2[\"YEAR\"], df2[\"MONTH_NUM\"], df2[\"DAY\"]):\n",
    "        try:\n",
    "            pd.to_datetime(year + \"/\" + month + \"/\" + day)\n",
    "        except:\n",
    "            df2 = df2.drop(df2[(df2['YEAR'] == year) & (df2['MONTH_NUM'] == month) & (df2['DAY'] == day)].index)\n",
    "df2[\"DATE\"] = pd.to_datetime(df2[\"YEAR\"] + \"/\" + df2[\"MONTH_NUM\"] + \"/\" + df2[\"DAY\"])\n",
    "df2 = df2[[\"DATE\", \"YEAR\", \"MONTH\", \"MONTH_NUM\", \"DAY\", \"TMAX\"]]\n",
    "df2 = df2.replace('-', np.nan)\n",
    "df2.head()"
   ]
  },
  {
   "cell_type": "code",
   "execution_count": 5,
   "id": "5bb063a1-a57f-4c74-8944-76887fa414a5",
   "metadata": {},
   "outputs": [],
   "source": [
    "# writer = pd.ExcelWriter('../time_series-other.xlsx')\n",
    "# df2.to_excel(writer)\n",
    "# writer.save()"
   ]
  },
  {
   "cell_type": "code",
   "execution_count": 6,
   "id": "44b6009b-f321-4b80-ba87-3d6dc77d0c18",
   "metadata": {},
   "outputs": [
    {
     "data": {
      "text/plain": [
       "<AxesSubplot:xlabel='DATE'>"
      ]
     },
     "execution_count": 6,
     "metadata": {},
     "output_type": "execute_result"
    },
    {
     "data": {
      "image/png": "[encoded data removed]",
      "text/plain": [
       "<Figure size 432x288 with 1 Axes>"
      ]
     },
     "metadata": {
      "needs_background": "light"
     },
     "output_type": "display_data"
    }
   ],
   "source": [
    "df2['TMAX']      = pd.to_numeric(df2['TMAX'])\n",
    "df2 = df2[[\"DATE\", \"TMAX\"]]\n",
    "df2.set_index('DATE', inplace=True)\n",
    "df2.plot()"
   ]
  },
  {
   "cell_type": "code",
   "execution_count": 7,
   "id": "fe851ff4-d8b5-4a9a-888a-68a93718abbe",
   "metadata": {},
   "outputs": [
    {
     "name": "stdout",
     "output_type": "stream",
     "text": [
      "TMAX    39.0\n",
      "dtype: float64\n"
     ]
    },
    {
     "data": {
      "text/plain": [
       "TMAX   2017-05-31\n",
       "dtype: datetime64[ns]"
      ]
     },
     "execution_count": 7,
     "metadata": {},
     "output_type": "execute_result"
    }
   ],
   "source": [
    "print(df2.max())\n",
    "df2[['TMAX']].idxmax()"
   ]
  },
  {
   "cell_type": "code",
   "execution_count": 8,
   "id": "90c0dcf3-943b-4b5f-9715-ba71f3e6f888",
   "metadata": {},
   "outputs": [
    {
     "name": "stdout",
     "output_type": "stream",
     "text": [
      "TMAX    13.4\n",
      "dtype: float64\n"
     ]
    },
    {
     "data": {
      "text/plain": [
       "TMAX   2017-03-26\n",
       "dtype: datetime64[ns]"
      ]
     },
     "execution_count": 8,
     "metadata": {},
     "output_type": "execute_result"
    }
   ],
   "source": [
    "print(df2.min())\n",
    "df2[['TMAX']].idxmin()"
   ]
  },
  {
   "cell_type": "code",
   "execution_count": 9,
   "id": "0117b12f-e6b7-409e-b413-2f7acb18ba68",
   "metadata": {},
   "outputs": [
    {
     "data": {
      "text/html": [
       "<div>\n",
       "<style scoped>\n",
       "    .dataframe tbody tr th:only-of-type {\n",
       "        vertical-align: middle;\n",
       "    }\n",
       "\n",
       "    .dataframe tbody tr th {\n",
       "        vertical-align: top;\n",
       "    }\n",
       "\n",
       "    .dataframe thead th {\n",
       "        text-align: right;\n",
       "    }\n",
       "</style>\n",
       "<table border=\"1\" class=\"dataframe\">\n",
       "  <thead>\n",
       "    <tr style=\"text-align: right;\">\n",
       "      <th></th>\n",
       "      <th>TMAX</th>\n",
       "    </tr>\n",
       "  </thead>\n",
       "  <tbody>\n",
       "    <tr>\n",
       "      <th>count</th>\n",
       "      <td>21996.000000</td>\n",
       "    </tr>\n",
       "    <tr>\n",
       "      <th>mean</th>\n",
       "      <td>30.943758</td>\n",
       "    </tr>\n",
       "    <tr>\n",
       "      <th>std</th>\n",
       "      <td>1.629129</td>\n",
       "    </tr>\n",
       "    <tr>\n",
       "      <th>min</th>\n",
       "      <td>13.400000</td>\n",
       "    </tr>\n",
       "    <tr>\n",
       "      <th>25%</th>\n",
       "      <td>30.000000</td>\n",
       "    </tr>\n",
       "    <tr>\n",
       "      <th>50%</th>\n",
       "      <td>31.000000</td>\n",
       "    </tr>\n",
       "    <tr>\n",
       "      <th>75%</th>\n",
       "      <td>32.000000</td>\n",
       "    </tr>\n",
       "    <tr>\n",
       "      <th>max</th>\n",
       "      <td>39.000000</td>\n",
       "    </tr>\n",
       "  </tbody>\n",
       "</table>\n",
       "</div>"
      ],
      "text/plain": [
       "               TMAX\n",
       "count  21996.000000\n",
       "mean      30.943758\n",
       "std        1.629129\n",
       "min       13.400000\n",
       "25%       30.000000\n",
       "50%       31.000000\n",
       "75%       32.000000\n",
       "max       39.000000"
      ]
     },
     "execution_count": 9,
     "metadata": {},
     "output_type": "execute_result"
    }
   ],
   "source": [
    "df2.describe()\n"
   ]
  },
  {
   "cell_type": "code",
   "execution_count": 10,
   "id": "817c9009-f97a-46c2-a6e7-c3a4549fdb40",
   "metadata": {},
   "outputs": [
    {
     "data": {
      "text/plain": [
       "TMAX    650\n",
       "dtype: int64"
      ]
     },
     "execution_count": 10,
     "metadata": {},
     "output_type": "execute_result"
    }
   ],
   "source": [
    "df2.isnull().sum()"
   ]
  },
  {
   "cell_type": "code",
   "execution_count": 11,
   "id": "d004c867-a61c-4183-af2f-ce8c059437c7",
   "metadata": {},
   "outputs": [
    {
     "data": {
      "text/plain": [
       "(22646, 1)"
      ]
     },
     "execution_count": 11,
     "metadata": {},
     "output_type": "execute_result"
    }
   ],
   "source": [
    "df2.shape"
   ]
  },
  {
   "cell_type": "code",
   "execution_count": 12,
   "id": "3e51d767-9e6d-4d48-9797-6dafe787035f",
   "metadata": {},
   "outputs": [
    {
     "data": {
      "text/plain": [
       "TMAX    float64\n",
       "dtype: object"
      ]
     },
     "execution_count": 12,
     "metadata": {},
     "output_type": "execute_result"
    }
   ],
   "source": [
    "df2.dtypes"
   ]
  },
  {
   "cell_type": "code",
   "execution_count": 13,
   "id": "4483c1e6-d62d-4297-81be-b4ed8e30feda",
   "metadata": {},
   "outputs": [],
   "source": [
    "df2 = df2.dropna(axis=0, how='all')"
   ]
  },
  {
   "cell_type": "code",
   "execution_count": 14,
   "id": "288feff4-02be-41f2-bf1a-6b0cce8e64a9",
   "metadata": {},
   "outputs": [],
   "source": [
    "# import statsmodels.api as sm\n",
    "\n",
    "# ds = sm.tsa.seasonal_decompose(df2, model='additive', period='D')\n",
    "# ds.plot()"
   ]
  },
  {
   "cell_type": "code",
   "execution_count": 15,
   "id": "9b5a70f0-9cec-4b2d-856e-423b29d5b9dd",
   "metadata": {},
   "outputs": [
    {
     "data": {
      "text/plain": [
       "TMAX    0\n",
       "dtype: int64"
      ]
     },
     "execution_count": 15,
     "metadata": {},
     "output_type": "execute_result"
    }
   ],
   "source": [
    "df2.isnull().sum()"
   ]
  },
  {
   "cell_type": "code",
   "execution_count": null,
   "id": "84beb5fe-b34b-4e97-82ce-35aeb6abfccd",
   "metadata": {},
   "outputs": [],
   "source": []
  }
 ],
 "metadata": {
  "kernelspec": {
   "display_name": "Python 3 (ipykernel)",
   "language": "python",
   "name": "python3"
  },
  "language_info": {
   "codemirror_mode": {
    "name": "ipython",
    "version": 3
   },
   "file_extension": ".py",
   "mimetype": "text/x-python",
   "name": "python",
   "nbconvert_exporter": "python",
   "pygments_lexer": "ipython3",
   "version": "3.9.13"
  }
 },
 "nbformat": 4,
 "nbformat_minor": 5
}
