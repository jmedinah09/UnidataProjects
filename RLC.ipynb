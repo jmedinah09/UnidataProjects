{
 "cells": [
  {
   "cell_type": "code",
   "execution_count": 1,
   "id": "c57849dc",
   "metadata": {},
   "outputs": [],
   "source": [
    "import math\n",
    "import cmath\n",
    "from fractions import Fraction\n",
    "\n",
    "import numpy as np\n",
    "import matplotlib.pyplot as plt"
   ]
  },
  {
   "cell_type": "code",
   "execution_count": 66,
   "id": "90bbbe93",
   "metadata": {},
   "outputs": [],
   "source": [
    "paralelo = True\n",
    "\n",
    "t = np.linspace(0,1,1000)"
   ]
  },
  {
   "cell_type": "code",
   "execution_count": 63,
   "id": "698dff83",
   "metadata": {},
   "outputs": [
    {
     "name": "stdout",
     "output_type": "stream",
     "text": [
      "-4.0 -3.0\n",
      "-4.0 -3.0\n"
     ]
    }
   ],
   "source": [
    "#Ecuacion caracteristica\n",
    "a = 1\n",
    "b = 7\n",
    "c = 12\n",
    "\n",
    "s1, s2 = np.roots([a, b, c])\n",
    "print(s1, s2)\n",
    "print(np.round(s1, 3), np.round(s2, 3))\n",
    "if np.round(s1.imag, 3):\n",
    "    print('complejo')\n",
    "else:\n",
    "    s1, s2 = s1.real, s2.real"
   ]
  },
  {
   "cell_type": "code",
   "execution_count": 64,
   "id": "d0b13d61",
   "metadata": {},
   "outputs": [
    {
     "name": "stdout",
     "output_type": "stream",
     "text": [
      "Caso 1\n"
     ]
    }
   ],
   "source": [
    "if s1 != s2 and not np.iscomplex(s1):\n",
    "    print('Caso 1')\n",
    "    x_de_t = xf + A*np.exp(s1*t) + B*np.exp(s2*t)\n",
    "elif np.iscomplex(s1):\n",
    "    print('Caso 2')\n",
    "    x_de_t = xf + (A*np.cos(s1.imag*t) + B*np.sin(s1.imag*t))np.exp(s1.real*t)\n",
    "else:\n",
    "    print('Caso 3')\n",
    "    x_de_t = xf + (A + B*t)np.exp(s1*t)"
   ]
  },
  {
   "cell_type": "code",
   "execution_count": null,
   "id": "f94f3768",
   "metadata": {},
   "outputs": [],
   "source": []
  }
 ],
 "metadata": {
  "kernelspec": {
   "display_name": "Python 3",
   "language": "python",
   "name": "python3"
  },
  "language_info": {
   "codemirror_mode": {
    "name": "ipython",
    "version": 3
   },
   "file_extension": ".py",
   "mimetype": "text/x-python",
   "name": "python",
   "nbconvert_exporter": "python",
   "pygments_lexer": "ipython3",
   "version": "3.8.10"
  }
 },
 "nbformat": 4,
 "nbformat_minor": 5
}
