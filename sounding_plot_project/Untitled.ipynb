{
 "cells": [
  {
   "cell_type": "code",
   "execution_count": null,
   "id": "c0e074e4",
   "metadata": {},
   "outputs": [],
   "source": [
    "from datetime import datetime \n",
    "from siphon.simplewebservice.wyoming import WyomingUpperAir\n",
    "import matplotlib.pyplot as plt\n",
    "from metpy.units import units\n",
    "import metpy.plots as plots\n",
    "import metpy.calc as mpcalc\n",
    "import numpy as np\n",
    "\n",
    "%matplotlib inline"
   ]
  },
  {
   "cell_type": "code",
   "execution_count": null,
   "id": "7fe4293d",
   "metadata": {},
   "outputs": [],
   "source": [
    "date = datetime(2021, 6, 21, 12) #sept-10-2017 @ 0000z\n",
    "station = '72305'\n",
    "df = WyomingUpperAir.request_data(date, station)"
   ]
  },
  {
   "cell_type": "code",
   "execution_count": null,
   "id": "de6b7950",
   "metadata": {},
   "outputs": [],
   "source": [
    "p = df['pressure'].values * units(df.units['pressure'])\n",
    "T = df['temperature'].values * units(df.units['temperature'])\n",
    "Td = df['dewpoint'].values * units(df.units['dewpoint'])\n",
    "u = df['u_wind'].values * units(df.units['u_wind'])\n",
    "v = df['v_wind'].values * units(df.units['v_wind'])"
   ]
  },
  {
   "cell_type": "code",
   "execution_count": null,
   "id": "b81792eb",
   "metadata": {},
   "outputs": [],
   "source": [
    "interval = np.logspace(2, 3) * units.hPa\n",
    "idx = mpcalc.resample_nn_1d(p, interval)"
   ]
  },
  {
   "cell_type": "code",
   "execution_count": null,
   "id": "e56195e4",
   "metadata": {},
   "outputs": [],
   "source": [
    "fig = plt.figure(figsize=(10, 10))\n",
    "skew = plots.SkewT(fig, rotatio=45)\n",
    "mask = p >= 200 * units.hPa\n",
    "\n",
    "skew.plot(p, T, 'red')\n",
    "skew.plot(p, Td, 'green')\n",
    "\n",
    "skew.ax.set_ylim(1050, 100)\n",
    "skew.ax.set_xlim(-50, 30)\n",
    "\n",
    "skew.plot_barbs(p[idx], u[idx], v[idx])\n",
    "\n",
    "skew.plot_dry_adiabats()\n",
    "skew.plot_moist_adiabats()\n",
    "skew.plot_mixing_lines()\n",
    "\n",
    "parcel_path = mpcalc.parcel_profile(p, T[0], Td[0])\n",
    "skew.plot(p, parcel_path, color = 'k')\n",
    "\n",
    "\n",
    "skew.shade_cape(p, T, parcel_path)\n",
    "skew.shade_cin(p[mask], T[mask], parcel_path[mask])"
   ]
  }
 ],
 "metadata": {
  "kernelspec": {
   "display_name": "Python 3 (ipykernel)",
   "language": "python",
   "name": "python3"
  },
  "language_info": {
   "codemirror_mode": {
    "name": "ipython",
    "version": 3
   },
   "file_extension": ".py",
   "mimetype": "text/x-python",
   "name": "python",
   "nbconvert_exporter": "python",
   "pygments_lexer": "ipython3",
   "version": "3.9.6"
  }
 },
 "nbformat": 4,
 "nbformat_minor": 5
}
