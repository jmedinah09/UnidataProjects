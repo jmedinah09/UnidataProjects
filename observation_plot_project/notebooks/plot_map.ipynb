{
 "cells": [
  {
   "cell_type": "code",
   "execution_count": 2,
   "id": "b1864975-6ae8-439a-b630-195563618c79",
   "metadata": {},
   "outputs": [
    {
     "ename": "ModuleNotFoundError",
     "evalue": "No module named 'synoptic'",
     "output_type": "error",
     "traceback": [
      "\u001b[0;31m---------------------------------------------------------------------------\u001b[0m",
      "\u001b[0;31mModuleNotFoundError\u001b[0m                       Traceback (most recent call last)",
      "Input \u001b[0;32mIn [2]\u001b[0m, in \u001b[0;36m<cell line: 1>\u001b[0;34m()\u001b[0m\n\u001b[0;32m----> 1\u001b[0m \u001b[38;5;28;01mfrom\u001b[39;00m \u001b[38;5;21;01msynoptic\u001b[39;00m\u001b[38;5;21;01m.\u001b[39;00m\u001b[38;5;21;01mservices\u001b[39;00m \u001b[38;5;28;01mimport\u001b[39;00m stations_latest, stations_nearesttime\n\u001b[1;32m      2\u001b[0m \u001b[38;5;28;01mimport\u001b[39;00m \u001b[38;5;21;01mnumpy\u001b[39;00m \u001b[38;5;28;01mas\u001b[39;00m \u001b[38;5;21;01mnp\u001b[39;00m\n\u001b[1;32m      3\u001b[0m \u001b[38;5;28;01mimport\u001b[39;00m \u001b[38;5;21;01mmatplotlib\u001b[39;00m\u001b[38;5;21;01m.\u001b[39;00m\u001b[38;5;21;01mpyplot\u001b[39;00m \u001b[38;5;28;01mas\u001b[39;00m \u001b[38;5;21;01mplt\u001b[39;00m\n",
      "\u001b[0;31mModuleNotFoundError\u001b[0m: No module named 'synoptic'"
     ]
    }
   ],
   "source": [
    "from synoptic.services import stations_latest, stations_nearesttime\n",
    "import numpy as np\n",
    "import matplotlib.pyplot as plt"
   ]
  },
  {
   "cell_type": "code",
   "execution_count": null,
   "id": "fd87f093-cef7-4c35-a360-88a63950f204",
   "metadata": {},
   "outputs": [],
   "source": [
    "a = stations_latest(radius='ukbkb,10', vars='air_temp')"
   ]
  },
  {
   "cell_type": "code",
   "execution_count": null,
   "id": "a7e44582-6181-42d0-8ee6-7927bbd32b9c",
   "metadata": {},
   "outputs": [],
   "source": [
    "a[a.attrs['STATIONS']]"
   ]
  },
  {
   "cell_type": "code",
   "execution_count": null,
   "id": "946c3f6e-2046-4da6-a5c5-fa14f1c91db7",
   "metadata": {},
   "outputs": [],
   "source": []
  },
  {
   "cell_type": "code",
   "execution_count": null,
   "id": "bef4696f-192c-4e56-acb0-13c2775619d2",
   "metadata": {},
   "outputs": [],
   "source": [
    "a.synoptic.plot_map()"
   ]
  },
  {
   "cell_type": "code",
   "execution_count": null,
   "id": "eb369216-209f-403c-990e-f10c6a61e2da",
   "metadata": {},
   "outputs": [],
   "source": [
    "f = dict(figsize=[10,10],\n",
    "    ROADS=True,\n",
    "    COUNTIES=True,\n",
    "    #RIVERS=True,\n",
    "    #OSM=True, OSM_kwargs=dict(zoom=11)\n",
    "    STAMEN=True, STAMEN_kwargs=dict(zoom=11)\n",
    ")\n",
    "\n",
    "ax = a.synoptic.plot_map(common_features_kw=f, s=100, show_label='NAME', color_by='air_temp')\n"
   ]
  },
  {
   "cell_type": "code",
   "execution_count": null,
   "id": "07033c04-85a8-43c9-9f71-bcb12daac28b",
   "metadata": {},
   "outputs": [],
   "source": [
    "a = stations_nearesttime(attime='2019-10-23 22:00', radius='kmry,10', vars='air_temp')"
   ]
  },
  {
   "cell_type": "code",
   "execution_count": null,
   "id": "be13a426-012f-47cf-8d20-73c6ab651bcb",
   "metadata": {},
   "outputs": [],
   "source": [
    "f = dict(figsize=[10,10],\n",
    "    ROADS=True,\n",
    "    COUNTIES=False,\n",
    "    COASTLINES=False,\n",
    "    #RIVERS=True,\n",
    "    #OSM=True, OSM_kwargs=dict(zoom=11)\n",
    "    STAMEN=True, STAMEN_kwargs=dict(zoom=11)\n",
    ")\n",
    "a.synoptic.plot_map(common_features_kw=f, color_by='air_temp', show_label='air_temp')"
   ]
  },
  {
   "cell_type": "code",
   "execution_count": null,
   "id": "c0a91728-ae4e-4695-9412-c480f6e6e8c1",
   "metadata": {},
   "outputs": [],
   "source": []
  }
 ],
 "metadata": {
  "kernelspec": {
   "display_name": "Python 3 (ipykernel)",
   "language": "python",
   "name": "python3"
  },
  "language_info": {
   "codemirror_mode": {
    "name": "ipython",
    "version": 3
   },
   "file_extension": ".py",
   "mimetype": "text/x-python",
   "name": "python",
   "nbconvert_exporter": "python",
   "pygments_lexer": "ipython3",
   "version": "3.10.6"
  }
 },
 "nbformat": 4,
 "nbformat_minor": 5
}
