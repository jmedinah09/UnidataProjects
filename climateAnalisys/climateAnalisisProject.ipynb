{
 "cells": [
  {
   "cell_type": "code",
   "execution_count": 1,
   "id": "d06d1fd6-b79c-4ddb-8e34-cc161ab52b50",
   "metadata": {},
   "outputs": [
    {
     "name": "stdout",
     "output_type": "stream",
     "text": [
      "The history saving thread hit an unexpected error (DatabaseError('database disk image is malformed')).History will not be written to the database.\n"
     ]
    }
   ],
   "source": [
    "#!/usr/bin/python\n",
    "# -*- coding: utf-8 -*-\n",
    "\"\"\"\n",
    "Created on Tue Apr 16 15:16:18 2019\n",
    "Updated on Mon Feb 15 10:23:55 2021\n",
    "author: Centre for Environmental Data Analysis CEDA\n",
    "\n",
    "This script provides two examples showing how to do some basic analysis and plotting of the\n",
    "Climatic Research Unit Time Series (CRU-TS) v4.02 data obtained from the Centre from Environmental Data\n",
    "Analysis CEDA. CRU TS 4.02 is high-resolution gridded data of month-by-month variation in climate from\n",
    "Jan 1901 to Dec 2017.\n",
    "\n",
    "The following script will analyse the whole time series, however this can be edited to\n",
    "only produce custom plots for specific months/years/time periods.\n",
    "\n",
    "This analysis is done using the netCDF4, numpy and matplotlib libraries other methods are available.\n",
    "\n",
    "If you are unfamiliar with the CRU data please see:\n",
    "(1) the CEDA catalogue record for this data: https://catalogue.ceda.ac.uk/uuid/3f8944800cc48e1cbc29a5ee12d8542d\n",
    "(2) the CEDA CRU user guide: https://help.ceda.ac.uk/article/4472-cru-data-user-guide\n",
    "\n",
    "Further information on using NetCDF files: https://www.unidata.ucar.edu/software/netcdf/docs/user_guide.html\n",
    "Further information on using Python: https://www.python.org/\n",
    "Further information on using Basemap: https://matplotlib.org/basemap/\n",
    "\n",
    "\"\"\"\n",
    "\n",
    "#Add the following useful modules which will help analyse the data\n",
    "import numpy as np\n",
    "import matplotlib.pyplot as plt\n",
    "from netCDF4 import Dataset\n",
    "import cartopy\n",
    "import cartopy.crs as ccrs  # Plot maps\n",
    "import cartopy.io.shapereader as shpreader  # Import shapefiles"
   ]
  },
  {
   "cell_type": "code",
   "execution_count": 2,
   "id": "cd6d80a0-30f2-411b-9cba-0b7c94ab9f7d",
   "metadata": {},
   "outputs": [
    {
     "name": "stdout",
     "output_type": "stream",
     "text": [
      "Reading in the data from the netCDF file\n",
      "The data from the netCDF file has been read\n"
     ]
    }
   ],
   "source": [
    "\"\"\"\n",
    "Read in the temperature data from the CEDA archive on JASMIN.\n",
    "Change the filename if you have a local copy or want to use a different variable, version, etc.\n",
    "Allocate to a variable \"data\".\n",
    "\"\"\"\n",
    "\n",
    "print(\"Reading in the data from the netCDF file\")\n",
    "filename = \"cru_ts4.02.1901.2017.tmp.dat.nc\" # the location of the data\n",
    "data = Dataset(filename)\n",
    "print(\"The data from the netCDF file has been read\")"
   ]
  },
  {
   "cell_type": "code",
   "execution_count": 3,
   "id": "2bcd8568-ad41-48b4-8ac9-4646e764acf2",
   "metadata": {},
   "outputs": [
    {
     "name": "stdout",
     "output_type": "stream",
     "text": [
      "Setting the variable from the data\n"
     ]
    },
    {
     "data": {
      "text/plain": [
       "masked_array(\n",
       "  data=[[[--, --, --, ..., --, --, --],\n",
       "         [--, --, --, ..., --, --, --],\n",
       "         [--, --, --, ..., --, --, --],\n",
       "         ...,\n",
       "         [--, --, --, ..., --, --, --],\n",
       "         [--, --, --, ..., --, --, --],\n",
       "         [--, --, --, ..., --, --, --]],\n",
       "\n",
       "        [[--, --, --, ..., --, --, --],\n",
       "         [--, --, --, ..., --, --, --],\n",
       "         [--, --, --, ..., --, --, --],\n",
       "         ...,\n",
       "         [--, --, --, ..., --, --, --],\n",
       "         [--, --, --, ..., --, --, --],\n",
       "         [--, --, --, ..., --, --, --]],\n",
       "\n",
       "        [[--, --, --, ..., --, --, --],\n",
       "         [--, --, --, ..., --, --, --],\n",
       "         [--, --, --, ..., --, --, --],\n",
       "         ...,\n",
       "         [--, --, --, ..., --, --, --],\n",
       "         [--, --, --, ..., --, --, --],\n",
       "         [--, --, --, ..., --, --, --]],\n",
       "\n",
       "        ...,\n",
       "\n",
       "        [[--, --, --, ..., --, --, --],\n",
       "         [--, --, --, ..., --, --, --],\n",
       "         [--, --, --, ..., --, --, --],\n",
       "         ...,\n",
       "         [--, --, --, ..., --, --, --],\n",
       "         [--, --, --, ..., --, --, --],\n",
       "         [--, --, --, ..., --, --, --]],\n",
       "\n",
       "        [[--, --, --, ..., --, --, --],\n",
       "         [--, --, --, ..., --, --, --],\n",
       "         [--, --, --, ..., --, --, --],\n",
       "         ...,\n",
       "         [--, --, --, ..., --, --, --],\n",
       "         [--, --, --, ..., --, --, --],\n",
       "         [--, --, --, ..., --, --, --]],\n",
       "\n",
       "        [[--, --, --, ..., --, --, --],\n",
       "         [--, --, --, ..., --, --, --],\n",
       "         [--, --, --, ..., --, --, --],\n",
       "         ...,\n",
       "         [--, --, --, ..., --, --, --],\n",
       "         [--, --, --, ..., --, --, --],\n",
       "         [--, --, --, ..., --, --, --]]],\n",
       "  mask=[[[ True,  True,  True, ...,  True,  True,  True],\n",
       "         [ True,  True,  True, ...,  True,  True,  True],\n",
       "         [ True,  True,  True, ...,  True,  True,  True],\n",
       "         ...,\n",
       "         [ True,  True,  True, ...,  True,  True,  True],\n",
       "         [ True,  True,  True, ...,  True,  True,  True],\n",
       "         [ True,  True,  True, ...,  True,  True,  True]],\n",
       "\n",
       "        [[ True,  True,  True, ...,  True,  True,  True],\n",
       "         [ True,  True,  True, ...,  True,  True,  True],\n",
       "         [ True,  True,  True, ...,  True,  True,  True],\n",
       "         ...,\n",
       "         [ True,  True,  True, ...,  True,  True,  True],\n",
       "         [ True,  True,  True, ...,  True,  True,  True],\n",
       "         [ True,  True,  True, ...,  True,  True,  True]],\n",
       "\n",
       "        [[ True,  True,  True, ...,  True,  True,  True],\n",
       "         [ True,  True,  True, ...,  True,  True,  True],\n",
       "         [ True,  True,  True, ...,  True,  True,  True],\n",
       "         ...,\n",
       "         [ True,  True,  True, ...,  True,  True,  True],\n",
       "         [ True,  True,  True, ...,  True,  True,  True],\n",
       "         [ True,  True,  True, ...,  True,  True,  True]],\n",
       "\n",
       "        ...,\n",
       "\n",
       "        [[ True,  True,  True, ...,  True,  True,  True],\n",
       "         [ True,  True,  True, ...,  True,  True,  True],\n",
       "         [ True,  True,  True, ...,  True,  True,  True],\n",
       "         ...,\n",
       "         [ True,  True,  True, ...,  True,  True,  True],\n",
       "         [ True,  True,  True, ...,  True,  True,  True],\n",
       "         [ True,  True,  True, ...,  True,  True,  True]],\n",
       "\n",
       "        [[ True,  True,  True, ...,  True,  True,  True],\n",
       "         [ True,  True,  True, ...,  True,  True,  True],\n",
       "         [ True,  True,  True, ...,  True,  True,  True],\n",
       "         ...,\n",
       "         [ True,  True,  True, ...,  True,  True,  True],\n",
       "         [ True,  True,  True, ...,  True,  True,  True],\n",
       "         [ True,  True,  True, ...,  True,  True,  True]],\n",
       "\n",
       "        [[ True,  True,  True, ...,  True,  True,  True],\n",
       "         [ True,  True,  True, ...,  True,  True,  True],\n",
       "         [ True,  True,  True, ...,  True,  True,  True],\n",
       "         ...,\n",
       "         [ True,  True,  True, ...,  True,  True,  True],\n",
       "         [ True,  True,  True, ...,  True,  True,  True],\n",
       "         [ True,  True,  True, ...,  True,  True,  True]]],\n",
       "  fill_value=9.96921e+36,\n",
       "  dtype=float32)"
      ]
     },
     "execution_count": 3,
     "metadata": {},
     "output_type": "execute_result"
    }
   ],
   "source": [
    "\"\"\"\n",
    "If you read in NetCDF data and you don't know the names of the variables you can print out a list of variable names in the file using\n",
    "\n",
    "print(data.variables.keys())\n",
    "\n",
    "The .keys() method provides only the variable names, without this you will get additional metadata.\n",
    "Each dimension in the file also has a variable, so you will see a variable for each dimension, in this case:\n",
    "'lat' for latitudes\n",
    "'lon' for longitudes\n",
    "'time' for time\n",
    "'tmp' for temperature\n",
    "\"\"\"\n",
    "\n",
    "#Set the variable\n",
    "print(\"Setting the variable from the data\")\n",
    "temp = data.variables['tmp'][:] # for this example, temperature is selected\n",
    "temp"
   ]
  },
  {
   "cell_type": "code",
   "execution_count": 4,
   "id": "b16cfea0-674a-4043-8263-e75f04693d28",
   "metadata": {},
   "outputs": [],
   "source": [
    "lat = data.variables['lat']\n",
    "lon = data.variables['lon']"
   ]
  },
  {
   "cell_type": "code",
   "execution_count": 5,
   "id": "0615b8fa-043d-4416-aca4-ce6ace8b4846",
   "metadata": {},
   "outputs": [
    {
     "name": "stdout",
     "output_type": "stream",
     "text": [
      "Calculating the average across all years\n"
     ]
    },
    {
     "data": {
      "text/plain": [
       "masked_array(\n",
       "  data=[[--, --, --, ..., --, --, --],\n",
       "        [--, --, --, ..., --, --, --],\n",
       "        [--, --, --, ..., --, --, --],\n",
       "        ...,\n",
       "        [--, --, --, ..., --, --, --],\n",
       "        [--, --, --, ..., --, --, --],\n",
       "        [--, --, --, ..., --, --, --]],\n",
       "  mask=[[ True,  True,  True, ...,  True,  True,  True],\n",
       "        [ True,  True,  True, ...,  True,  True,  True],\n",
       "        [ True,  True,  True, ...,  True,  True,  True],\n",
       "        ...,\n",
       "        [ True,  True,  True, ...,  True,  True,  True],\n",
       "        [ True,  True,  True, ...,  True,  True,  True],\n",
       "        [ True,  True,  True, ...,  True,  True,  True]],\n",
       "  fill_value=1e+20)"
      ]
     },
     "execution_count": 5,
     "metadata": {},
     "output_type": "execute_result"
    }
   ],
   "source": [
    "\"\"\"\n",
    "Example 1: Plot an average over the whole time-series\n",
    "\"\"\"\n",
    "\n",
    "# Calculate the average temperature for each grid point across all years in the dataset\n",
    "print(\"Calculating the average across all years\")\n",
    "# average over the first dimension: time\n",
    "temp_av_1901_2017 = np.mean(temp[:,:,:], axis = 0)\n",
    "temp_av_1901_2017"
   ]
  },
  {
   "cell_type": "code",
   "execution_count": 9,
   "id": "62a957ff-18aa-44fb-8228-8e24ab42de6c",
   "metadata": {},
   "outputs": [
    {
     "name": "stdout",
     "output_type": "stream",
     "text": [
      "Plotting a global map\n"
     ]
    },
    {
     "data": {
      "image/png": "[encoded data removed]",
      "text/plain": [
       "<Figure size 1400x1200 with 1 Axes>"
      ]
     },
     "metadata": {},
     "output_type": "display_data"
    }
   ],
   "source": [
    "\"\"\"\n",
    "This example plot is for a global plot.\n",
    "\n",
    "To create a regional map, change the variables\n",
    "llcrnrlat,llcrnrlon,urcrnrlat,urcrnrlon which are the lat/lon values of the\n",
    "lower left and upper right corners of the map.\n",
    "\n",
    "For help using Basemap, see the link in the beginning of this script\n",
    "\"\"\"\n",
    "import cartopy.feature as cfeat\n",
    "print(\"Plotting a global map\")\n",
    "\n",
    "\n",
    "fig = plt.figure(figsize=(14, 12))\n",
    "ax = plt.subplot(1, 1, 1, projection = ccrs.PlateCarree())\n",
    "# ax.set_extent([-90, -72, 20, 55])\n",
    "\n",
    "# ax.add_feature(cfeat.COASTLINE)\n",
    "# #ax.add_feature(cfeat.STATES)\n",
    "# ax.add_feature(cfeat.LAND)\n",
    "# ax.add_feature(cfeat.OCEAN)\n",
    "# ax.add_feature(cfeat.LAKES)\n",
    "#ax.add_feature(cfeat.OCEAN.with_scale('50m'))\n",
    "\n",
    "colormap = \"gray\"\n",
    "\n",
    "# Plot the image\n",
    "img = ax.imshow(temp_av_1901_2017, origin=\"upper\", cmap=colormap)\n",
    "\n",
    "\n",
    "# map = Basemap(projection=\"cyl\", resolution='c', llcrnrlat=-90, urcrnrlat=90, llcrnrlon=-180, urcrnrlon=180) # set up the map using basemap\n",
    "# map.drawcoastlines(color=\"black\") # add coastlines\n",
    "# lons,lats = np.meshgrid(data.variables['lon'][:], data.variables['lat'][:]) # set the latitude and longitude variables from the data\n",
    "# x,y = map(lons, lats)\n",
    "# temp_plot = map.contourf(x, y, temp_av_1901_2017, cmap=plt.cm.viridis) # plot the temperature data on the map\n",
    "# cb = map.colorbar(temp_plot, \"bottom\", size=\"5%\", pad=\"2%\", extend = 'both') # plotting a colour bar scale\n",
    "\n",
    "\n",
    "\n",
    "# cb.set_label(u\"Temperature \\u2103\") # \\u2103 is unicode for the symbol degrees Celcius\n",
    "plt.title(\"Mean Temperature (1901-2017)\")\n",
    "plt.annotate('Data - CRU TS v4.02',(-178,-88),fontsize=6)\n",
    "plt.show() # show the map on screen\n",
    "# plt.savefig('cruts_global.png') # save the figure with a user defined figure name"
   ]
  },
  {
   "cell_type": "code",
   "execution_count": null,
   "id": "716fafbb-cb97-4c08-b6a4-deae142ceb44",
   "metadata": {},
   "outputs": [],
   "source": []
  },
  {
   "cell_type": "code",
   "execution_count": null,
   "id": "b116f5a5-6c41-4313-ab9b-d32e803bb47e",
   "metadata": {},
   "outputs": [],
   "source": [
    "\"\"\"\n",
    "Example 2: Plot a time series of global annual temperature anomalies\n",
    "\"\"\"\n",
    "\n",
    "# Average data across all grid points to create a global average time series.\n",
    "# Axis 1 and 2 are latitude and longitude\n",
    "print(\"Calculating the global average\")\n",
    "global_average = np.mean(temp[:,:,:], axis=(1,2))\n",
    "\n",
    "# Calculate the annual average required for each year of the time series to reduce seasonal noise\n",
    "print(\"Calculating the annual average\")\n",
    "annual_temp = np.mean(np.reshape(global_average, (117,12)), axis = 1) # reshape the data into [117,12] as there are 117 years in the dataset,each with 12 months, then calculate the average for each year\n",
    "\n",
    "# Calculate the 1961-1990 average\n",
    "print(\"Calculate the 1961-1990 average\")\n",
    "# the annual temperature is sliced with the indices 60:89 to give the values from 1960 to 1990\n",
    "av_1961_1990 = np.mean(annual_temp[60:89])\n",
    "\n",
    "# Calculate the annual anomaly values compared to the 1961-1990 average\n",
    "print(\"Calculate the temperature anomaly compared to the 1961-1990 average\")\n",
    "temp_anomaly = annual_temp - av_1961_1990\n",
    "\n",
    "# Plot 2 - Timeseries\n",
    "print(\"Plotting a time series graph\")\n",
    "plt.figure()\n",
    "plt.plot(np.arange(1901,2018,1), temp_anomaly) # plot the temperature anomaly against years\n",
    "plt.ylim(np.floor(min(temp_anomaly)), np.ceil(max(temp_anomaly))) # ensure all data fits visibly on graph\n",
    "plt.title(\"Global Average Temperature Anomaly (1901-2017)\")\n",
    "plt.xlabel(\"Years\") # label for the x axis\n",
    "plt.ylabel(u\"Difference from 1961-1990 average (\\u2103)\") # label for the y axis\n",
    "plt.text(1985, -0.9, \"Data from CRU TS v4.02\", fontsize=8)\n",
    "plt.show()# show the graph on screen\n",
    "plt.savefig('temp_anom_ts.png') # save the figure with a user defined figure name\n"
   ]
  }
 ],
 "metadata": {
  "kernelspec": {
   "display_name": "Python 3 (ipykernel)",
   "language": "python",
   "name": "python3"
  },
  "language_info": {
   "codemirror_mode": {
    "name": "ipython",
    "version": 3
   },
   "file_extension": ".py",
   "mimetype": "text/x-python",
   "name": "python",
   "nbconvert_exporter": "python",
   "pygments_lexer": "ipython3",
   "version": "3.9.13"
  }
 },
 "nbformat": 4,
 "nbformat_minor": 5
}
