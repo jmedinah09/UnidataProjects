{
 "cells": [
  {
   "cell_type": "code",
   "execution_count": 3,
   "id": "8e4ebeb4",
   "metadata": {},
   "outputs": [],
   "source": [
    "import math\n",
    "import cmath\n",
    "from fractions import Fraction\n",
    "\n",
    "import numpy as np\n",
    "import matplotlib.pyplot as plt"
   ]
  },
  {
   "cell_type": "code",
   "execution_count": 4,
   "id": "3d15ed63",
   "metadata": {},
   "outputs": [],
   "source": [
    "#Se introduce la variable que determinara el tipo de circuito\n",
    "C   = 0\n",
    "L   = 3\n",
    "t_0 = ''"
   ]
  },
  {
   "cell_type": "code",
   "execution_count": 5,
   "id": "fe602e9f",
   "metadata": {},
   "outputs": [],
   "source": [
    "#Se calcula el voltaje en el capacitor o la corriente en la bobina para t>0\n",
    "Vc_0_menos = 0\n",
    "Il_0_menos = 3"
   ]
  },
  {
   "cell_type": "code",
   "execution_count": 6,
   "id": "88bc8af6",
   "metadata": {},
   "outputs": [],
   "source": [
    "#Con el valor inicial del voltaje o la corriente se encuentra el valor inicial de la variable de interes analizando el\n",
    "#cirtuito de t(0+)\n",
    "x_0_mas = 18"
   ]
  },
  {
   "cell_type": "code",
   "execution_count": 7,
   "id": "0eaf72ff",
   "metadata": {},
   "outputs": [],
   "source": [
    "#Se analisa el circuito en estado estable para obtener el valor de la varible de interes en t -> infinito\n",
    "x_ss = 27"
   ]
  },
  {
   "cell_type": "code",
   "execution_count": 8,
   "id": "4c285167",
   "metadata": {},
   "outputs": [],
   "source": [
    "#En estado estable, se calcula la resistencia equivalente vista por el capacitos o la bobina aplicando el metodo adecuado\n",
    "Req = 8"
   ]
  },
  {
   "cell_type": "code",
   "execution_count": 9,
   "id": "e4123dc8",
   "metadata": {},
   "outputs": [],
   "source": [
    "#Se calcula la costante de tiempo del cirtuito considerando si es serie o paralelo\n",
    "if C:\n",
    "    tau = Req*C\n",
    "else:\n",
    "    tau = L / Req"
   ]
  },
  {
   "cell_type": "code",
   "execution_count": 12,
   "id": "11e42d87",
   "metadata": {},
   "outputs": [
    {
     "name": "stdout",
     "output_type": "stream",
     "text": [
      "Tau: 0.375\n",
      "x(t) = [27 + (-9)exp(-t/0.375)]u(t)\n"
     ]
    }
   ],
   "source": [
    "x_de_t = f'x(t) = [{x_ss} + ({x_0_mas-x_ss})exp(-t/{tau})]u(t)'\n",
    "print('Tau:',tau)\n",
    "print(x_de_t)"
   ]
  },
  {
   "cell_type": "code",
   "execution_count": 13,
   "id": "ad6afe92",
   "metadata": {},
   "outputs": [
    {
     "data": {
      "text/plain": [
       "'x(t) = [27 + (-9)exp(-t-/0.38)]u(t)'"
      ]
     },
     "execution_count": 13,
     "metadata": {},
     "output_type": "execute_result"
    }
   ],
   "source": [
    "x_de_t = f'x(t) = [{round(x_ss, 2)} + ({round(x_0_mas-x_ss, 2)})exp(-t-{t_0}/{round(tau, 2)})]u(t)'\n",
    "x_de_t"
   ]
  },
  {
   "cell_type": "code",
   "execution_count": 14,
   "id": "c4d2123e",
   "metadata": {},
   "outputs": [
    {
     "name": "stdout",
     "output_type": "stream",
     "text": [
      "Tau 0.375\n"
     ]
    },
    {
     "data": {
      "image/png": "[encoded data removed]",
      "text/plain": [
       "<Figure size 432x288 with 1 Axes>"
      ]
     },
     "metadata": {},
     "output_type": "display_data"
    }
   ],
   "source": [
    "plt.style.use('ggplot')\n",
    "\n",
    "t = np.linspace(0,1,1000)\n",
    "\n",
    "x = x_ss + (x_0_mas-x_ss)*np.exp(-t/tau)\n",
    "\n",
    "plt.plot(t,x,label='x')\n",
    "\n",
    "print('Tau',tau)\n",
    "\n",
    "plt.xlabel('Time (s)')\n",
    "plt.title('RC circuit')\n",
    "plt.legend()\n",
    "plt.show()"
   ]
  },
  {
   "cell_type": "code",
   "execution_count": null,
   "id": "06ec8bd2",
   "metadata": {},
   "outputs": [],
   "source": []
  }
 ],
 "metadata": {
  "kernelspec": {
   "display_name": "Python 3",
   "language": "python",
   "name": "python3"
  },
  "language_info": {
   "codemirror_mode": {
    "name": "ipython",
    "version": 3
   },
   "file_extension": ".py",
   "mimetype": "text/x-python",
   "name": "python",
   "nbconvert_exporter": "python",
   "pygments_lexer": "ipython3",
   "version": "3.8.10"
  }
 },
 "nbformat": 4,
 "nbformat_minor": 5
}
