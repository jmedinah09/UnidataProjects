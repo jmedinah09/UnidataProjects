{
 "cells": [
  {
   "cell_type": "code",
   "execution_count": null,
   "id": "c4d7c34b",
   "metadata": {},
   "outputs": [],
   "source": [
    "# https://gist.github.com/blaylockbk/d60f4fce15a7f0475f975fc57da9104d\n",
    "# Brian Blaylock\n",
    "# Requres `s3fs`\n",
    "# Website: https://s3fs.readthedocs.io/en/latest/\n",
    "# In Anaconda, download via conda-forge.\n",
    "\n",
    "import s3fs\n",
    "\n",
    "# Use the anonymous credentials to access public data\n",
    "fs = s3fs.S3FileSystem(anon=True)\n",
    "\n",
    "# List contents of GOES-16 bucket.\n",
    "fs.ls('s3://noaa-goes16/')\n",
    "\n",
    "\n",
    "# List specific files of GOES-17 CONUS data (multiband format) on a certain hour\n",
    "# Note: the `s3://` is not required\n",
    "files = np.array(fs.ls('noaa-goes17/ABI-L2-MCMIPC/2019/240/00/'))\n",
    "print(files)\n",
    "\n",
    "# Download the first file, and rename it the same name (without the directory structure)\n",
    "fs.get(files[0], files[0].split('/')[-1])"
   ]
  }
 ],
 "metadata": {
  "kernelspec": {
   "display_name": "Python 3 (ipykernel)",
   "language": "python",
   "name": "python3"
  },
  "language_info": {
   "codemirror_mode": {
    "name": "ipython",
    "version": 3
   },
   "file_extension": ".py",
   "mimetype": "text/x-python",
   "name": "python",
   "nbconvert_exporter": "python",
   "pygments_lexer": "ipython3",
   "version": "3.9.6"
  }
 },
 "nbformat": 4,
 "nbformat_minor": 5
}
