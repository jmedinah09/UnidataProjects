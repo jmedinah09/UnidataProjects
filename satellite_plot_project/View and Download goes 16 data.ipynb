{
 "cells": [
  {
   "cell_type": "code",
   "execution_count": 1,
   "id": "c4d7c34b",
   "metadata": {},
   "outputs": [
    {
     "data": {
      "text/plain": [
       "['noaa-goes16/ABI-L1b-RadC',\n",
       " 'noaa-goes16/ABI-L1b-RadF',\n",
       " 'noaa-goes16/ABI-L1b-RadM',\n",
       " 'noaa-goes16/ABI-L2-ACHAC',\n",
       " 'noaa-goes16/ABI-L2-ACHAF',\n",
       " 'noaa-goes16/ABI-L2-ACHAM',\n",
       " 'noaa-goes16/ABI-L2-ACHTF',\n",
       " 'noaa-goes16/ABI-L2-ACHTM',\n",
       " 'noaa-goes16/ABI-L2-ACMC',\n",
       " 'noaa-goes16/ABI-L2-ACMF',\n",
       " 'noaa-goes16/ABI-L2-ACMM',\n",
       " 'noaa-goes16/ABI-L2-ACTPC',\n",
       " 'noaa-goes16/ABI-L2-ACTPF',\n",
       " 'noaa-goes16/ABI-L2-ACTPM',\n",
       " 'noaa-goes16/ABI-L2-ADPC',\n",
       " 'noaa-goes16/ABI-L2-ADPF',\n",
       " 'noaa-goes16/ABI-L2-ADPM',\n",
       " 'noaa-goes16/ABI-L2-AICEF',\n",
       " 'noaa-goes16/ABI-L2-AITAF',\n",
       " 'noaa-goes16/ABI-L2-AODC',\n",
       " 'noaa-goes16/ABI-L2-AODF',\n",
       " 'noaa-goes16/ABI-L2-BRFC',\n",
       " 'noaa-goes16/ABI-L2-BRFF',\n",
       " 'noaa-goes16/ABI-L2-BRFM',\n",
       " 'noaa-goes16/ABI-L2-CMIPC',\n",
       " 'noaa-goes16/ABI-L2-CMIPF',\n",
       " 'noaa-goes16/ABI-L2-CMIPM',\n",
       " 'noaa-goes16/ABI-L2-CODC',\n",
       " 'noaa-goes16/ABI-L2-CODF',\n",
       " 'noaa-goes16/ABI-L2-CPSC',\n",
       " 'noaa-goes16/ABI-L2-CPSF',\n",
       " 'noaa-goes16/ABI-L2-CPSM',\n",
       " 'noaa-goes16/ABI-L2-CTPC',\n",
       " 'noaa-goes16/ABI-L2-CTPF',\n",
       " 'noaa-goes16/ABI-L2-DMWC',\n",
       " 'noaa-goes16/ABI-L2-DMWF',\n",
       " 'noaa-goes16/ABI-L2-DMWM',\n",
       " 'noaa-goes16/ABI-L2-DMWVC',\n",
       " 'noaa-goes16/ABI-L2-DMWVF',\n",
       " 'noaa-goes16/ABI-L2-DMWVM',\n",
       " 'noaa-goes16/ABI-L2-DSIC',\n",
       " 'noaa-goes16/ABI-L2-DSIF',\n",
       " 'noaa-goes16/ABI-L2-DSIM',\n",
       " 'noaa-goes16/ABI-L2-DSRC',\n",
       " 'noaa-goes16/ABI-L2-DSRF',\n",
       " 'noaa-goes16/ABI-L2-DSRM',\n",
       " 'noaa-goes16/ABI-L2-FDCC',\n",
       " 'noaa-goes16/ABI-L2-FDCF',\n",
       " 'noaa-goes16/ABI-L2-FDCM',\n",
       " 'noaa-goes16/ABI-L2-LSAC',\n",
       " 'noaa-goes16/ABI-L2-LSAF',\n",
       " 'noaa-goes16/ABI-L2-LSAM',\n",
       " 'noaa-goes16/ABI-L2-LST2KMF',\n",
       " 'noaa-goes16/ABI-L2-LSTC',\n",
       " 'noaa-goes16/ABI-L2-LSTF',\n",
       " 'noaa-goes16/ABI-L2-LSTM',\n",
       " 'noaa-goes16/ABI-L2-LVMPC',\n",
       " 'noaa-goes16/ABI-L2-LVMPF',\n",
       " 'noaa-goes16/ABI-L2-LVMPM',\n",
       " 'noaa-goes16/ABI-L2-LVTPC',\n",
       " 'noaa-goes16/ABI-L2-LVTPF',\n",
       " 'noaa-goes16/ABI-L2-LVTPM',\n",
       " 'noaa-goes16/ABI-L2-MCMIPC',\n",
       " 'noaa-goes16/ABI-L2-MCMIPF',\n",
       " 'noaa-goes16/ABI-L2-MCMIPM',\n",
       " 'noaa-goes16/ABI-L2-RRQPEF',\n",
       " 'noaa-goes16/ABI-L2-RSRC',\n",
       " 'noaa-goes16/ABI-L2-RSRF',\n",
       " 'noaa-goes16/ABI-L2-SSTF',\n",
       " 'noaa-goes16/ABI-L2-TPWC',\n",
       " 'noaa-goes16/ABI-L2-TPWF',\n",
       " 'noaa-goes16/ABI-L2-TPWM',\n",
       " 'noaa-goes16/ABI-L2-VAAF',\n",
       " 'noaa-goes16/Beginners_Guide_to_GOES-R_Series_Data.pdf',\n",
       " 'noaa-goes16/EXIS-L1b-SFEU',\n",
       " 'noaa-goes16/EXIS-L1b-SFXR',\n",
       " 'noaa-goes16/GLM-L2-LCFA',\n",
       " 'noaa-goes16/MAG-L1b-GEOF',\n",
       " 'noaa-goes16/SEIS-L1b-EHIS',\n",
       " 'noaa-goes16/SEIS-L1b-MPSH',\n",
       " 'noaa-goes16/SEIS-L1b-MPSL',\n",
       " 'noaa-goes16/SEIS-L1b-SGPS',\n",
       " 'noaa-goes16/SUVI-L1b-Fe093',\n",
       " 'noaa-goes16/SUVI-L1b-Fe131',\n",
       " 'noaa-goes16/SUVI-L1b-Fe171',\n",
       " 'noaa-goes16/SUVI-L1b-Fe195',\n",
       " 'noaa-goes16/SUVI-L1b-Fe284',\n",
       " 'noaa-goes16/SUVI-L1b-He303',\n",
       " 'noaa-goes16/Version1.1_Beginners_Guide_to_GOES-R_Series_Data.pdf',\n",
       " 'noaa-goes16/index.html']"
      ]
     },
     "execution_count": 1,
     "metadata": {},
     "output_type": "execute_result"
    }
   ],
   "source": [
    "# https://gist.github.com/blaylockbk/d60f4fce15a7f0475f975fc57da9104d\n",
    "# Brian Blaylock\n",
    "# Requres `s3fs`\n",
    "# Website: https://s3fs.readthedocs.io/en/latest/\n",
    "# In Anaconda, download via conda-forge.\n",
    "\n",
    "import s3fs\n",
    "\n",
    "# Use the anonymous credentials to access public data\n",
    "fs = s3fs.S3FileSystem(anon=True)\n",
    "\n",
    "# List contents of GOES-16 bucket.\n",
    "fs.ls('s3://noaa-goes16/')"
   ]
  },
  {
   "cell_type": "code",
   "execution_count": 2,
   "id": "a6945d4b",
   "metadata": {},
   "outputs": [],
   "source": [
    "# conda install s3fs"
   ]
  },
  {
   "cell_type": "code",
   "execution_count": 4,
   "id": "51acb4dd",
   "metadata": {},
   "outputs": [
    {
     "name": "stdout",
     "output_type": "stream",
     "text": [
      "['noaa-goes17/ABI-L2-MCMIPC/2019/240/00/OR_ABI-L2-MCMIPC-M6_G17_s20192400001197_e20192400003581_c20192400004108.nc'\n",
      " 'noaa-goes17/ABI-L2-MCMIPC/2019/240/00/OR_ABI-L2-MCMIPC-M6_G17_s20192400006197_e20192400008581_c20192400009101.nc'\n",
      " 'noaa-goes17/ABI-L2-MCMIPC/2019/240/00/OR_ABI-L2-MCMIPC-M6_G17_s20192400011197_e20192400013575_c20192400014104.nc'\n",
      " 'noaa-goes17/ABI-L2-MCMIPC/2019/240/00/OR_ABI-L2-MCMIPC-M6_G17_s20192400016197_e20192400018575_c20192400019095.nc'\n",
      " 'noaa-goes17/ABI-L2-MCMIPC/2019/240/00/OR_ABI-L2-MCMIPC-M6_G17_s20192400021197_e20192400023575_c20192400024095.nc'\n",
      " 'noaa-goes17/ABI-L2-MCMIPC/2019/240/00/OR_ABI-L2-MCMIPC-M6_G17_s20192400026197_e20192400028575_c20192400029090.nc'\n",
      " 'noaa-goes17/ABI-L2-MCMIPC/2019/240/00/OR_ABI-L2-MCMIPC-M6_G17_s20192400031197_e20192400033575_c20192400034108.nc'\n",
      " 'noaa-goes17/ABI-L2-MCMIPC/2019/240/00/OR_ABI-L2-MCMIPC-M6_G17_s20192400036197_e20192400038581_c20192400039094.nc'\n",
      " 'noaa-goes17/ABI-L2-MCMIPC/2019/240/00/OR_ABI-L2-MCMIPC-M6_G17_s20192400041197_e20192400043570_c20192400044102.nc'\n",
      " 'noaa-goes17/ABI-L2-MCMIPC/2019/240/00/OR_ABI-L2-MCMIPC-M6_G17_s20192400046197_e20192400048575_c20192400049094.nc'\n",
      " 'noaa-goes17/ABI-L2-MCMIPC/2019/240/00/OR_ABI-L2-MCMIPC-M6_G17_s20192400051197_e20192400053575_c20192400054103.nc'\n",
      " 'noaa-goes17/ABI-L2-MCMIPC/2019/240/00/OR_ABI-L2-MCMIPC-M6_G17_s20192400056197_e20192400058575_c20192400059098.nc']\n"
     ]
    },
    {
     "data": {
      "text/plain": [
       "[None]"
      ]
     },
     "execution_count": 4,
     "metadata": {},
     "output_type": "execute_result"
    }
   ],
   "source": [
    "# List specific files of GOES-17 CONUS data (multiband format) on a certain hour\n",
    "# Note: the `s3://` is not required\n",
    "import numpy as np\n",
    "files = np.array(fs.ls('noaa-goes17/ABI-L2-MCMIPC/2019/240/00/'))\n",
    "print(files)\n",
    "\n",
    "# Download the first file, and rename it the same name (without the directory structure)\n",
    "fs.get(files[0], files[0].split('/')[-1])"
   ]
  },
  {
   "cell_type": "code",
   "execution_count": null,
   "id": "0f4230f7-f59a-4850-9a5e-af92fa366b5e",
   "metadata": {},
   "outputs": [],
   "source": []
  }
 ],
 "metadata": {
  "kernelspec": {
   "display_name": "Python 3 (ipykernel)",
   "language": "python",
   "name": "python3"
  },
  "language_info": {
   "codemirror_mode": {
    "name": "ipython",
    "version": 3
   },
   "file_extension": ".py",
   "mimetype": "text/x-python",
   "name": "python",
   "nbconvert_exporter": "python",
   "pygments_lexer": "ipython3",
   "version": "3.9.12"
  }
 },
 "nbformat": 4,
 "nbformat_minor": 5
}
