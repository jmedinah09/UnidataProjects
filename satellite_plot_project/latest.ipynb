{
 "cells": [
  {
   "cell_type": "code",
   "execution_count": 2,
   "id": "caa58f77-15c6-48b7-9875-c481022155e8",
   "metadata": {},
   "outputs": [],
   "source": [
    "# https://blaylockbk.github.io/goes2go/_build/html/reference_guide/index.html#rgb-recipes\n",
    "from goes2go.data import goes_latest\n",
    "import matplotlib.pyplot as plt\n",
    "import cartopy.crs as ccrs"
   ]
  },
  {
   "cell_type": "code",
   "execution_count": 12,
   "id": "c3a02da1-f370-43a8-807b-f54b176df1f7",
   "metadata": {},
   "outputs": [
    {
     "name": "stdout",
     "output_type": "stream",
     "text": [
      " _______________________________\n",
      " | Satellite: noaa-goes16      |\n",
      " |   Product: ABI-L2-MCMIPC    |\n",
      " |    Domain: C                |\n",
      "📦 Finished downloading [1] files to [/home/jmedinah09/data/noaa-goes16/ABI-L2-MCMIPC].                                                                                                                                                                                                                                                                                                                                                                                                                                                                                                                                                                                                                                                                                                                                                                                                                                                                                                                                                 \n",
      "📚 Finished reading [1] files into xarray.Dataset.                                                                                                                                                                                                                                                                                                                                                                                                                                                                                                                                                                                                                                                                                                                                                                                                                                                                                                                                                                                      \n"
     ]
    }
   ],
   "source": [
    "# Download a GOES ABI dataset\n",
    "G = goes_latest(satellite='noaa-goes16', product='ABI-L2-MCMIP', domain='C', return_as='xarray', \n",
    "                download=True, overwrite=False, \n",
    "                s3_refresh=True, verbose=True)\n",
    "# OR_ABI-L2-CMIPM1-M3C02_G16_s20171931811268_e20171931811326_c20171931811393.nc"
   ]
  },
  {
   "cell_type": "code",
   "execution_count": 6,
   "id": "5f02c25b-f066-4539-9496-15576080e729",
   "metadata": {},
   "outputs": [
    {
     "ename": "KeyError",
     "evalue": "'CMI'",
     "output_type": "error",
     "traceback": [
      "\u001b[0;31m---------------------------------------------------------------------------\u001b[0m",
      "\u001b[0;31mKeyError\u001b[0m                                  Traceback (most recent call last)",
      "Input \u001b[0;32mIn [6]\u001b[0m, in \u001b[0;36m<cell line: 2>\u001b[0;34m()\u001b[0m\n\u001b[1;32m      1\u001b[0m \u001b[38;5;66;03m# Read in Level 2 NetCDF\u001b[39;00m\n\u001b[0;32m----> 2\u001b[0m ref_ch2 \u001b[38;5;241m=\u001b[39m \u001b[43mG\u001b[49m\u001b[38;5;241;43m.\u001b[39;49m\u001b[43mvariables\u001b[49m\u001b[43m[\u001b[49m\u001b[38;5;124;43m'\u001b[39;49m\u001b[38;5;124;43mCMI\u001b[39;49m\u001b[38;5;124;43m'\u001b[39;49m\u001b[43m]\u001b[49m[:]\n",
      "File \u001b[0;32m~/miniconda3/envs/goes2go/lib/python3.9/site-packages/xarray/core/utils.py:457\u001b[0m, in \u001b[0;36mFrozen.__getitem__\u001b[0;34m(self, key)\u001b[0m\n\u001b[1;32m    456\u001b[0m \u001b[38;5;28;01mdef\u001b[39;00m \u001b[38;5;21m__getitem__\u001b[39m(\u001b[38;5;28mself\u001b[39m, key: K) \u001b[38;5;241m-\u001b[39m\u001b[38;5;241m>\u001b[39m V:\n\u001b[0;32m--> 457\u001b[0m     \u001b[38;5;28;01mreturn\u001b[39;00m \u001b[38;5;28;43mself\u001b[39;49m\u001b[38;5;241;43m.\u001b[39;49m\u001b[43mmapping\u001b[49m\u001b[43m[\u001b[49m\u001b[43mkey\u001b[49m\u001b[43m]\u001b[49m\n",
      "\u001b[0;31mKeyError\u001b[0m: 'CMI'"
     ]
    }
   ],
   "source": [
    "# Read in Level 2 NetCDF\n",
    "ref_ch2 = G.variables['CMI'][:]\n",
    "# g16nc.close()\n",
    "# g16nc = None"
   ]
  },
  {
   "cell_type": "code",
   "execution_count": null,
   "id": "303ecbd5-61f1-4986-b87f-1c9894b0189d",
   "metadata": {},
   "outputs": [],
   "source": []
  }
 ],
 "metadata": {
  "kernelspec": {
   "display_name": "Python 3 (ipykernel)",
   "language": "python",
   "name": "python3"
  },
  "language_info": {
   "codemirror_mode": {
    "name": "ipython",
    "version": 3
   },
   "file_extension": ".py",
   "mimetype": "text/x-python",
   "name": "python",
   "nbconvert_exporter": "python",
   "pygments_lexer": "ipython3",
   "version": "3.9.12"
  }
 },
 "nbformat": 4,
 "nbformat_minor": 5
}
