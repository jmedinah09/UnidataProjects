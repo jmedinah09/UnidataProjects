{
 "cells": [
  {
   "cell_type": "code",
   "execution_count": 9,
   "id": "78851798",
   "metadata": {},
   "outputs": [],
   "source": [
    "import numpy as np"
   ]
  },
  {
   "cell_type": "code",
   "execution_count": 10,
   "id": "75e17e61",
   "metadata": {},
   "outputs": [
    {
     "data": {
      "text/plain": [
       "11.299999999999997"
      ]
     },
     "execution_count": 10,
     "metadata": {},
     "output_type": "execute_result"
    }
   ],
   "source": [
    "V, thetav = 340, 60\n",
    "\n",
    "I, thetai = 13.3, 48.7\n",
    "\n",
    "thetaDiff = thetav - thetai\n",
    "thetaDiff"
   ]
  },
  {
   "cell_type": "code",
   "execution_count": 20,
   "id": "c5a7e064",
   "metadata": {},
   "outputs": [
    {
     "data": {
      "text/plain": [
       "2217.1697429738915"
      ]
     },
     "execution_count": 20,
     "metadata": {},
     "output_type": "execute_result"
    }
   ],
   "source": [
    "#Potencia Activa o Promedio\n",
    "P = (V/np.sqrt(2))*(I/np.sqrt(2))*np.cos(np.deg2rad(thetaDiff))\n",
    "P"
   ]
  },
  {
   "cell_type": "code",
   "execution_count": 21,
   "id": "77d1bf8e",
   "metadata": {},
   "outputs": [
    {
     "data": {
      "text/plain": [
       "-443.0342321323323"
      ]
     },
     "execution_count": 21,
     "metadata": {},
     "output_type": "execute_result"
    }
   ],
   "source": [
    "#Potencia Reactiva\n",
    "Q = (V/np.sqrt(2))*(I/np.sqrt(2))*np.sin(np.deg2rad(-thetaDiff))\n",
    "Q"
   ]
  },
  {
   "cell_type": "code",
   "execution_count": 23,
   "id": "5f9cfa7a",
   "metadata": {},
   "outputs": [
    {
     "data": {
      "text/plain": [
       "(2260.9999999999995, -11.299999999999997)"
      ]
     },
     "execution_count": 23,
     "metadata": {},
     "output_type": "execute_result"
    }
   ],
   "source": [
    "#Potencia Aparente o Compleja\n",
    "S = np.sqrt((P)**2 + (Q)**2), -thetaDiff\n",
    "S"
   ]
  },
  {
   "cell_type": "code",
   "execution_count": 26,
   "id": "065ea748",
   "metadata": {},
   "outputs": [
    {
     "name": "stderr",
     "output_type": "stream",
     "text": [
      "/tmp/ipykernel_8234/3614303513.py:4: RuntimeWarning: invalid value encountered in double_scalars\n",
      "  K = M/np.sqrt(L1*L2)\n"
     ]
    }
   ],
   "source": [
    "K = 0\n",
    "M = 0\n",
    "L1, L2 = 0, 0\n",
    "K = M/np.sqrt(L1*L2)"
   ]
  },
  {
   "cell_type": "code",
   "execution_count": null,
   "id": "8a554e32",
   "metadata": {},
   "outputs": [],
   "source": [
    "K = 0\n",
    "M = 0\n",
    "L1, L2 = 0, 0\n",
    "M = K*np.sqrt(L1*L2)"
   ]
  }
 ],
 "metadata": {
  "kernelspec": {
   "display_name": "Python 3 (ipykernel)",
   "language": "python",
   "name": "python3"
  },
  "language_info": {
   "codemirror_mode": {
    "name": "ipython",
    "version": 3
   },
   "file_extension": ".py",
   "mimetype": "text/x-python",
   "name": "python",
   "nbconvert_exporter": "python",
   "pygments_lexer": "ipython3",
   "version": "3.9.6"
  }
 },
 "nbformat": 4,
 "nbformat_minor": 5
}
