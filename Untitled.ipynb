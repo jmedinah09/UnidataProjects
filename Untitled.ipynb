{
 "cells": [
  {
   "cell_type": "code",
   "execution_count": 16,
   "id": "acf3767b-ea36-4ee3-9912-02c200d62191",
   "metadata": {},
   "outputs": [
    {
     "name": "stdout",
     "output_type": "stream",
     "text": [
      "INPUT_X:\n",
      " [[0 0]\n",
      " [0 1]\n",
      " [1 0]\n",
      " [1 1]]\n",
      "EXPECTED_RESULT:\n",
      " [[0]\n",
      " [1]\n",
      " [1]\n",
      " [0]]\n",
      "RESULT:\n",
      " [[0 0 0]\n",
      " [0 1 1]\n",
      " [1 0 1]\n",
      " [1 1 0]]\n",
      "Error:0 0.49966659366506605\n",
      "Error:1000 0.5\n",
      "Error:2000 0.5\n",
      "Error:3000 0.5\n",
      "Error:4000 0.5\n",
      "Error:5000 0.5\n",
      "Error:6000 0.5\n",
      "Error:7000 0.5\n",
      "Error:8000 0.5\n",
      "Error:9000 0.5\n",
      "Error:10000 0.5\n",
      "Error:11000 0.5\n",
      "Error:12000 0.5\n",
      "Error:13000 0.5\n",
      "Error:14000 0.5\n",
      "Error:15000 0.5\n",
      "Error:16000 0.5\n",
      "Error:17000 0.5\n",
      "Error:18000 0.5\n",
      "Error:19000 0.5\n",
      "[[0.5]\n",
      " [0.5]\n",
      " [0.5]\n",
      " [0.5]]\n"
     ]
    }
   ],
   "source": [
    "# /usr/bin/env python\n",
    "# -*- coding: utf-8 -*-\n",
    "import numpy as np\n",
    "####\n",
    "# Vamos a crear una pequeña red neuronal que compute\n",
    "# los valores de la tabla XOR\n",
    "####\n",
    "##\n",
    "# Una red neuronal al final son:\n",
    "# * Una capa de inputs\n",
    "# * Las conexiones de TODOS LOS INPUTS con TODOS LOS OUTPUTS ( W en la imagen )\n",
    "# * Una capa de outputs\n",
    "# La red neuronal se encarga de computar los INPUTS con las CONEXIONES\n",
    "# para predecir los OUTPUTS\n",
    "# Para que sea realmente funcional, necesitaremos saber\n",
    "# cuanto afecta cada conexión al output\n",
    "##\n",
    "##Primera parte, generemos un input que sea una matriz\n",
    "## Matriz de 2x4\n",
    "## 0 0\n",
    "## 0 1\n",
    "## 1 0\n",
    "## 1 1\n",
    "INPUT_X = np.array([[0,0],[0,1],[1,0],[1,1]])\n",
    "print(\"INPUT_X:\\n\", INPUT_X)\n",
    "##Luego la matriz de los resultados esperados\n",
    "## en nuestro caso\n",
    "## 0\n",
    "## 1\n",
    "## 1\n",
    "## 0\n",
    "EXPECTED_RESULT = np.array([[0,1,1,0]]).T # queremos en formato columna\n",
    "print(\"EXPECTED_RESULT:\\n\", EXPECTED_RESULT)\n",
    "## Resultado: la tabla de verdad de la operación XOR\n",
    "print(\"RESULT:\\n\", np.append(INPUT_X,EXPECTED_RESULT, axis=1))\n",
    "## Para aprender, la red neuronal debe computar su predicción\n",
    "## calcular el error, corregir los pesos y volver a computar\n",
    "## Como tenemos DOS inputs y un OUTPUT, lo que buscamos es conectar\n",
    "## cada INPUT con el OUTPUT, cada INPUT debe tener un peso, es decir\n",
    "## cada INPUT modifica MAS o MENOS el output segun su peso.\n",
    "# Esta es la función de activacion\n",
    "# que nos permite modelar problemas NO lineales\n",
    "# Esta mapea cualquier valor a entre 0 y 1\n",
    "# Aprovechamos la misma función para devolver su derivada, luego lo explicamos.\n",
    "def sigmoid(x, deriv=False):\n",
    "    if deriv:\n",
    "        return x*(1-x)\n",
    "    return 1/(1+np.exp(-x))\n",
    "#Seteamos una SEED que nos ayudarà a que los numeros esten\n",
    "# distribuidos de forma random, pero siempre igual para entender\n",
    "# en qué afecta los cambios que realizamos\n",
    "np.random.seed(0)\n",
    "# Inizializamos las CONEXIONES con una media a 0\n",
    "# Esta es la matriz que irà \"aprendiendo\"\n",
    "# La matriz resultando es de 2 x 1 ya que tenemos dos INPUTS y\n",
    "# un OUTPUT\n",
    "SYN0 = 2*np.random.random((2,1)) - 1\n",
    "# Vamos a preparar iteraciones para aprender\n",
    "for i in range(20000):\n",
    "# Primero, computamos con nuestra red, a este paso lo llamamos FORWARD\n",
    "# que resultado tenemos con los pesos\n",
    "# inicializados de forma random,\n",
    "    l0 = INPUT_X\n",
    "#Multiplicamos los INPUTS con las CONEXIONES\n",
    "    l1 = sigmoid(np.dot(l0, SYN0))\n",
    "#Computamos el error\n",
    "    l1_error = EXPECTED_RESULT - l1\n",
    "#Calculamos la derivada multiplicada por error\n",
    "#para computar un cambio a realizar en los cambios\n",
    "    l1_delta = l1_error * sigmoid(l1, True)\n",
    "    SYN0 += np.dot(l0.T, l1_delta)\n",
    "    if (i % 1000) == 0 :\n",
    "        print(\"Error:\" + str(i) + ' ' +\n",
    "              str(np.mean(np.abs(l1_error))))\n",
    "print(l1)\n"
   ]
  },
  {
   "cell_type": "code",
   "execution_count": 7,
   "id": "903ab655-6a2a-42b6-951d-847348217cdc",
   "metadata": {},
   "outputs": [
    {
     "data": {
      "text/plain": [
       "array([[-0.12482558],\n",
       "       [ 0.783546  ]])"
      ]
     },
     "execution_count": 7,
     "metadata": {},
     "output_type": "execute_result"
    }
   ],
   "source": [
    "SYN0 = 2*np.random.random((2,1)) - 1\n",
    "SYN0"
   ]
  },
  {
   "cell_type": "code",
   "execution_count": 9,
   "id": "42f73b3e-3cf0-4122-9879-aeb694b608a6",
   "metadata": {},
   "outputs": [
    {
     "data": {
      "text/plain": [
       "array([[1.58345008],\n",
       "       [1.05778984]])"
      ]
     },
     "execution_count": 9,
     "metadata": {},
     "output_type": "execute_result"
    }
   ],
   "source": [
    "np.random.random((2,1))"
   ]
  },
  {
   "cell_type": "code",
   "execution_count": 13,
   "id": "29397009-6bd0-49f4-9e66-5a1aaae09f0d",
   "metadata": {},
   "outputs": [
    {
     "data": {
      "text/plain": [
       "NoneType"
      ]
     },
     "execution_count": 13,
     "metadata": {},
     "output_type": "execute_result"
    }
   ],
   "source": [
    "x = np.random.seed(0)\n",
    "type(x)"
   ]
  },
  {
   "cell_type": "code",
   "execution_count": null,
   "id": "1b8b05a4-9df3-458d-87f9-ebcf5cb7611c",
   "metadata": {},
   "outputs": [],
   "source": []
  }
 ],
 "metadata": {
  "kernelspec": {
   "display_name": "Python 3 (ipykernel)",
   "language": "python",
   "name": "python3"
  },
  "language_info": {
   "codemirror_mode": {
    "name": "ipython",
    "version": 3
   },
   "file_extension": ".py",
   "mimetype": "text/x-python",
   "name": "python",
   "nbconvert_exporter": "python",
   "pygments_lexer": "ipython3",
   "version": "3.9.13"
  }
 },
 "nbformat": 4,
 "nbformat_minor": 5
}
